{
 "cells": [
  {
   "cell_type": "code",
   "execution_count": 411,
   "metadata": {},
   "outputs": [],
   "source": [
    "import pandas as pd\n",
    "import re\n",
    "from tqdm.auto import tqdm\n",
    "import matplotlib.pyplot as plt\n",
    "from collections import defaultdict, Counter\n",
    "import itertools\n",
    "import matplotlib as mpl\n",
    "from matplotlib import font_manager as fm\n",
    "from matplotlib import rc"
   ]
  },
  {
   "cell_type": "code",
   "execution_count": 412,
   "metadata": {},
   "outputs": [
    {
     "name": "stdout",
     "output_type": "stream",
     "text": [
      "/usr/local/lib/python3.10/dist-packages/matplotlib/mpl-data/matplotlibrc\n",
      "/usr/local/lib/python3.10/dist-packages/matplotlib/__init__.py\n",
      "['NanumGothic']\n"
     ]
    },
    {
     "data": {
      "text/plain": [
       "Text(0.3, 0.3, '한글')"
      ]
     },
     "execution_count": 412,
     "metadata": {},
     "output_type": "execute_result"
    },
    {
     "data": {
      "image/png": "[encoded data removed]",
      "text/plain": [
       "<Figure size 640x480 with 1 Axes>"
      ]
     },
     "metadata": {},
     "output_type": "display_data"
    }
   ],
   "source": [
    "# 설치된 글꼴 이름 파악을 위해서!!\n",
    "\n",
    "\n",
    "# 설정 파일 위치 확인\n",
    "print(mpl.matplotlib_fname())\n",
    "print(mpl.__file__)\n",
    "\n",
    "# Jupyter Notebook 로드 시 같이 올라온 font 목록 확인\n",
    "[f.fname for f in fm.fontManager.ttflist]\t# NanumGothic.ttf 목록에서 확인 완료!!!\n",
    "\n",
    "# NanumGothic 설정 확인\n",
    "plt.rcParams['font.family'] = 'NanumGothic'\n",
    "print(plt.rcParams['font.family'])\t\t# NanumGothic 설정 제대로 먹힌 것을 확인!!!\n",
    "\n",
    "# 마이너스(-)가 '□'로 깨지는 것을 방지하기 위하여 설정!!!\n",
    "mpl.rcParams['axes.unicode_minus'] = False\n",
    "\n",
    "# matplotlib 차트에 한글이 제대로 표시되는지 확인\n",
    "plt.text(0.3, 0.3, '한글', size = 100)"
   ]
  },
  {
   "cell_type": "code",
   "execution_count": 413,
   "metadata": {},
   "outputs": [],
   "source": [
    "x = pd.read_json(\"./raw/lyrics_dataset.json\")"
   ]
  },
  {
   "cell_type": "code",
   "execution_count": 414,
   "metadata": {},
   "outputs": [
    {
     "data": {
      "text/html": [
       "<div>\n",
       "<style scoped>\n",
       "    .dataframe tbody tr th:only-of-type {\n",
       "        vertical-align: middle;\n",
       "    }\n",
       "\n",
       "    .dataframe tbody tr th {\n",
       "        vertical-align: top;\n",
       "    }\n",
       "\n",
       "    .dataframe thead th {\n",
       "        text-align: right;\n",
       "    }\n",
       "</style>\n",
       "<table border=\"1\" class=\"dataframe\">\n",
       "  <thead>\n",
       "    <tr style=\"text-align: right;\">\n",
       "      <th></th>\n",
       "      <th>index</th>\n",
       "      <th>title</th>\n",
       "      <th>lyrics</th>\n",
       "      <th>genre</th>\n",
       "      <th>mungchi</th>\n",
       "      <th>label</th>\n",
       "      <th>chunk_strategy</th>\n",
       "      <th>sampling_strategy</th>\n",
       "      <th>syllable_limit</th>\n",
       "    </tr>\n",
       "  </thead>\n",
       "  <tbody>\n",
       "    <tr>\n",
       "      <th>2594</th>\n",
       "      <td>4623</td>\n",
       "      <td>My Love</td>\n",
       "      <td>난 안되겠니 이생에서\\n다음 생에선 되겠니\\n약속한다면 오늘이 끝이라도\\n두렵지 않...</td>\n",
       "      <td>발라드, 국내드라마</td>\n",
       "      <td>[[1, 4, 4], [2, 3, 3], [5, 3, 4], [3, 3, 2, 4]...</td>\n",
       "      <td>[[난, 안되겠니, 이생에서], [다음, 생에선, 되겠니], [약속한다면, 오늘이,...</td>\n",
       "      <td>word</td>\n",
       "      <td>one</td>\n",
       "      <td>0</td>\n",
       "    </tr>\n",
       "    <tr>\n",
       "      <th>3203</th>\n",
       "      <td>6344</td>\n",
       "      <td>My Love</td>\n",
       "      <td>(나 이제 알아~~~) (가까이 와봐~~~)\\n내 곁에서 언제나 날 지켜주는 너\\n...</td>\n",
       "      <td>댄스</td>\n",
       "      <td>[[1, 2, 2, 3, 2], [1, 3, 3, 1, 4, 1], [2, 2, 2...</td>\n",
       "      <td>[[(나, 이제, 알아~~~), (가까이, 와봐~~~)], [내, 곁에서, 언제나,...</td>\n",
       "      <td>word</td>\n",
       "      <td>one</td>\n",
       "      <td>0</td>\n",
       "    </tr>\n",
       "    <tr>\n",
       "      <th>4567</th>\n",
       "      <td>10201</td>\n",
       "      <td>My Love</td>\n",
       "      <td>사랑해 그 말은 무엇보다 아픈 말\\n숨죽여서 하는 말\\n이젠하기 힘든 말\\nOh 햇...</td>\n",
       "      <td>발라드</td>\n",
       "      <td>[[3, 1, 2, 4, 2, 1], [4, 2, 1], [4, 2, 1], [2,...</td>\n",
       "      <td>[[사랑해, 그, 말은, 무엇보다, 아픈, 말], [숨죽여서, 하는, 말], [이젠...</td>\n",
       "      <td>word</td>\n",
       "      <td>one</td>\n",
       "      <td>0</td>\n",
       "    </tr>\n",
       "    <tr>\n",
       "      <th>8684</th>\n",
       "      <td>4623</td>\n",
       "      <td>My Love</td>\n",
       "      <td>난 안되겠니 이생에서\\n다음 생에선 되겠니\\n약속한다면 오늘이 끝이라도\\n두렵지 않...</td>\n",
       "      <td>발라드, 국내드라마</td>\n",
       "      <td>[[1, 4, 4, 2, 3, 3, 5, 3, 4, 3, 3, 2, 4, 2, 2,...</td>\n",
       "      <td>[[난, 안되겠니, 이생에서, 다음, 생에선, 되겠니, 약속한다면, 오늘이, 끝이라...</td>\n",
       "      <td>word</td>\n",
       "      <td>total</td>\n",
       "      <td>0</td>\n",
       "    </tr>\n",
       "    <tr>\n",
       "      <th>9293</th>\n",
       "      <td>6344</td>\n",
       "      <td>My Love</td>\n",
       "      <td>(나 이제 알아~~~) (가까이 와봐~~~)\\n내 곁에서 언제나 날 지켜주는 너\\n...</td>\n",
       "      <td>댄스</td>\n",
       "      <td>[[1, 2, 2, 3, 2, 1, 3, 3, 1, 4, 1, 2, 2, 2, 2,...</td>\n",
       "      <td>[[(나, 이제, 알아~~~), (가까이, 와봐~~~), 내, 곁에서, 언제나, 날...</td>\n",
       "      <td>word</td>\n",
       "      <td>total</td>\n",
       "      <td>0</td>\n",
       "    </tr>\n",
       "    <tr>\n",
       "      <th>10657</th>\n",
       "      <td>10201</td>\n",
       "      <td>My Love</td>\n",
       "      <td>사랑해 그 말은 무엇보다 아픈 말\\n숨죽여서 하는 말\\n이젠하기 힘든 말\\nOh 햇...</td>\n",
       "      <td>발라드</td>\n",
       "      <td>[[3, 1, 2, 4, 2, 1, 4, 2, 1, 4, 2, 1, 2, 3, 2,...</td>\n",
       "      <td>[[사랑해, 그, 말은, 무엇보다, 아픈, 말, 숨죽여서, 하는, 말, 이젠하기, ...</td>\n",
       "      <td>word</td>\n",
       "      <td>total</td>\n",
       "      <td>0</td>\n",
       "    </tr>\n",
       "    <tr>\n",
       "      <th>14774</th>\n",
       "      <td>4623</td>\n",
       "      <td>My Love</td>\n",
       "      <td>난 안되겠니 이생에서\\n다음 생에선 되겠니\\n약속한다면 오늘이 끝이라도\\n두렵지 않...</td>\n",
       "      <td>발라드, 국내드라마</td>\n",
       "      <td>[[1, 4, 4, 2, 3, 3, 5, 3, 4, 3, 3, 2, 4], [2, ...</td>\n",
       "      <td>[[난, 안되겠니, 이생에서, 다음, 생에선, 되겠니, 약속한다면, 오늘이, 끝이라...</td>\n",
       "      <td>word</td>\n",
       "      <td>L</td>\n",
       "      <td>30</td>\n",
       "    </tr>\n",
       "    <tr>\n",
       "      <th>15383</th>\n",
       "      <td>6344</td>\n",
       "      <td>My Love</td>\n",
       "      <td>(나 이제 알아~~~) (가까이 와봐~~~)\\n내 곁에서 언제나 날 지켜주는 너\\n...</td>\n",
       "      <td>댄스</td>\n",
       "      <td>[[1, 2, 2, 3, 2, 1, 3, 3, 1, 4, 1, 2, 2, 2, 2,...</td>\n",
       "      <td>[[(나, 이제, 알아~~~), (가까이, 와봐~~~), 내, 곁에서, 언제나, 날...</td>\n",
       "      <td>word</td>\n",
       "      <td>L</td>\n",
       "      <td>30</td>\n",
       "    </tr>\n",
       "    <tr>\n",
       "      <th>16747</th>\n",
       "      <td>10201</td>\n",
       "      <td>My Love</td>\n",
       "      <td>사랑해 그 말은 무엇보다 아픈 말\\n숨죽여서 하는 말\\n이젠하기 힘든 말\\nOh 햇...</td>\n",
       "      <td>발라드</td>\n",
       "      <td>[[3, 1, 2, 4, 2, 1, 4, 2, 1, 4, 2, 1, 2, 3, 2,...</td>\n",
       "      <td>[[사랑해, 그, 말은, 무엇보다, 아픈, 말, 숨죽여서, 하는, 말, 이젠하기, ...</td>\n",
       "      <td>word</td>\n",
       "      <td>L</td>\n",
       "      <td>30</td>\n",
       "    </tr>\n",
       "    <tr>\n",
       "      <th>20864</th>\n",
       "      <td>4623</td>\n",
       "      <td>My Love</td>\n",
       "      <td>난 안되겠니 이생에서\\n다음 생에선 되겠니\\n약속한다면 오늘이 끝이라도\\n두렵지 않...</td>\n",
       "      <td>발라드, 국내드라마</td>\n",
       "      <td>[[9], [8], [12], [12], [13], [10], [6], [14], ...</td>\n",
       "      <td>[[난 안되겠니 이생에서], [다음 생에선 되겠니], [약속한다면 오늘이 끝이라도]...</td>\n",
       "      <td>line</td>\n",
       "      <td>one</td>\n",
       "      <td>0</td>\n",
       "    </tr>\n",
       "    <tr>\n",
       "      <th>21473</th>\n",
       "      <td>6344</td>\n",
       "      <td>My Love</td>\n",
       "      <td>(나 이제 알아~~~) (가까이 와봐~~~)\\n내 곁에서 언제나 날 지켜주는 너\\n...</td>\n",
       "      <td>댄스</td>\n",
       "      <td>[[10], [13], [13], [13], [13], [0], [5], [13],...</td>\n",
       "      <td>[[(나 이제 알아~~~) (가까이 와봐~~~)], [내 곁에서 언제나 날 지켜주는...</td>\n",
       "      <td>line</td>\n",
       "      <td>one</td>\n",
       "      <td>0</td>\n",
       "    </tr>\n",
       "    <tr>\n",
       "      <th>22837</th>\n",
       "      <td>10201</td>\n",
       "      <td>My Love</td>\n",
       "      <td>사랑해 그 말은 무엇보다 아픈 말\\n숨죽여서 하는 말\\n이젠하기 힘든 말\\nOh 햇...</td>\n",
       "      <td>발라드</td>\n",
       "      <td>[[13], [7], [7], [11], [9], [7], [12], [13], [...</td>\n",
       "      <td>[[사랑해 그 말은 무엇보다 아픈 말], [숨죽여서 하는 말], [이젠하기 힘든 말...</td>\n",
       "      <td>line</td>\n",
       "      <td>one</td>\n",
       "      <td>0</td>\n",
       "    </tr>\n",
       "    <tr>\n",
       "      <th>26954</th>\n",
       "      <td>4623</td>\n",
       "      <td>My Love</td>\n",
       "      <td>난 안되겠니 이생에서\\n다음 생에선 되겠니\\n약속한다면 오늘이 끝이라도\\n두렵지 않...</td>\n",
       "      <td>발라드, 국내드라마</td>\n",
       "      <td>[[9, 8, 12, 12, 13, 10, 6, 14, 10, 10, 9, 12, ...</td>\n",
       "      <td>[[난 안되겠니 이생에서, 다음 생에선 되겠니, 약속한다면 오늘이 끝이라도, 두렵지...</td>\n",
       "      <td>line</td>\n",
       "      <td>total</td>\n",
       "      <td>0</td>\n",
       "    </tr>\n",
       "    <tr>\n",
       "      <th>27563</th>\n",
       "      <td>6344</td>\n",
       "      <td>My Love</td>\n",
       "      <td>(나 이제 알아~~~) (가까이 와봐~~~)\\n내 곁에서 언제나 날 지켜주는 너\\n...</td>\n",
       "      <td>댄스</td>\n",
       "      <td>[[10, 13, 13, 13, 13, 0, 5, 13, 5, 13, 5, 13, ...</td>\n",
       "      <td>[[(나 이제 알아~~~) (가까이 와봐~~~), 내 곁에서 언제나 날 지켜주는 너...</td>\n",
       "      <td>line</td>\n",
       "      <td>total</td>\n",
       "      <td>0</td>\n",
       "    </tr>\n",
       "    <tr>\n",
       "      <th>28927</th>\n",
       "      <td>10201</td>\n",
       "      <td>My Love</td>\n",
       "      <td>사랑해 그 말은 무엇보다 아픈 말\\n숨죽여서 하는 말\\n이젠하기 힘든 말\\nOh 햇...</td>\n",
       "      <td>발라드</td>\n",
       "      <td>[[13, 7, 7, 11, 9, 7, 12, 13, 10, 6, 11, 13, 1...</td>\n",
       "      <td>[[사랑해 그 말은 무엇보다 아픈 말, 숨죽여서 하는 말, 이젠하기 힘든 말, Oh...</td>\n",
       "      <td>line</td>\n",
       "      <td>total</td>\n",
       "      <td>0</td>\n",
       "    </tr>\n",
       "    <tr>\n",
       "      <th>33044</th>\n",
       "      <td>4623</td>\n",
       "      <td>My Love</td>\n",
       "      <td>난 안되겠니 이생에서\\n다음 생에선 되겠니\\n약속한다면 오늘이 끝이라도\\n두렵지 않...</td>\n",
       "      <td>발라드, 국내드라마</td>\n",
       "      <td>[[9, 8, 12], [13, 10, 6], [10, 10, 9], [9, 8, ...</td>\n",
       "      <td>[[난 안되겠니 이생에서, 다음 생에선 되겠니, 약속한다면 오늘이 끝이라도], [나...</td>\n",
       "      <td>line</td>\n",
       "      <td>L</td>\n",
       "      <td>30</td>\n",
       "    </tr>\n",
       "    <tr>\n",
       "      <th>33653</th>\n",
       "      <td>6344</td>\n",
       "      <td>My Love</td>\n",
       "      <td>(나 이제 알아~~~) (가까이 와봐~~~)\\n내 곁에서 언제나 날 지켜주는 너\\n...</td>\n",
       "      <td>댄스</td>\n",
       "      <td>[[10, 13], [13, 13, 0], [13, 5], [5, 13, 5], [...</td>\n",
       "      <td>[[(나 이제 알아~~~) (가까이 와봐~~~), 내 곁에서 언제나 날 지켜주는 너...</td>\n",
       "      <td>line</td>\n",
       "      <td>L</td>\n",
       "      <td>30</td>\n",
       "    </tr>\n",
       "    <tr>\n",
       "      <th>35017</th>\n",
       "      <td>10201</td>\n",
       "      <td>My Love</td>\n",
       "      <td>사랑해 그 말은 무엇보다 아픈 말\\n숨죽여서 하는 말\\n이젠하기 힘든 말\\nOh 햇...</td>\n",
       "      <td>발라드</td>\n",
       "      <td>[[13, 7, 7], [9, 7, 12], [10, 6, 11], [10, 6, ...</td>\n",
       "      <td>[[사랑해 그 말은 무엇보다 아픈 말, 숨죽여서 하는 말, 이젠하기 힘든 말], [...</td>\n",
       "      <td>line</td>\n",
       "      <td>L</td>\n",
       "      <td>30</td>\n",
       "    </tr>\n",
       "  </tbody>\n",
       "</table>\n",
       "</div>"
      ],
      "text/plain": [
       "       index    title                                             lyrics  \\\n",
       "2594    4623  My Love  난 안되겠니 이생에서\\n다음 생에선 되겠니\\n약속한다면 오늘이 끝이라도\\n두렵지 않...   \n",
       "3203    6344  My Love  (나 이제 알아~~~) (가까이 와봐~~~)\\n내 곁에서 언제나 날 지켜주는 너\\n...   \n",
       "4567   10201  My Love  사랑해 그 말은 무엇보다 아픈 말\\n숨죽여서 하는 말\\n이젠하기 힘든 말\\nOh 햇...   \n",
       "8684    4623  My Love  난 안되겠니 이생에서\\n다음 생에선 되겠니\\n약속한다면 오늘이 끝이라도\\n두렵지 않...   \n",
       "9293    6344  My Love  (나 이제 알아~~~) (가까이 와봐~~~)\\n내 곁에서 언제나 날 지켜주는 너\\n...   \n",
       "10657  10201  My Love  사랑해 그 말은 무엇보다 아픈 말\\n숨죽여서 하는 말\\n이젠하기 힘든 말\\nOh 햇...   \n",
       "14774   4623  My Love  난 안되겠니 이생에서\\n다음 생에선 되겠니\\n약속한다면 오늘이 끝이라도\\n두렵지 않...   \n",
       "15383   6344  My Love  (나 이제 알아~~~) (가까이 와봐~~~)\\n내 곁에서 언제나 날 지켜주는 너\\n...   \n",
       "16747  10201  My Love  사랑해 그 말은 무엇보다 아픈 말\\n숨죽여서 하는 말\\n이젠하기 힘든 말\\nOh 햇...   \n",
       "20864   4623  My Love  난 안되겠니 이생에서\\n다음 생에선 되겠니\\n약속한다면 오늘이 끝이라도\\n두렵지 않...   \n",
       "21473   6344  My Love  (나 이제 알아~~~) (가까이 와봐~~~)\\n내 곁에서 언제나 날 지켜주는 너\\n...   \n",
       "22837  10201  My Love  사랑해 그 말은 무엇보다 아픈 말\\n숨죽여서 하는 말\\n이젠하기 힘든 말\\nOh 햇...   \n",
       "26954   4623  My Love  난 안되겠니 이생에서\\n다음 생에선 되겠니\\n약속한다면 오늘이 끝이라도\\n두렵지 않...   \n",
       "27563   6344  My Love  (나 이제 알아~~~) (가까이 와봐~~~)\\n내 곁에서 언제나 날 지켜주는 너\\n...   \n",
       "28927  10201  My Love  사랑해 그 말은 무엇보다 아픈 말\\n숨죽여서 하는 말\\n이젠하기 힘든 말\\nOh 햇...   \n",
       "33044   4623  My Love  난 안되겠니 이생에서\\n다음 생에선 되겠니\\n약속한다면 오늘이 끝이라도\\n두렵지 않...   \n",
       "33653   6344  My Love  (나 이제 알아~~~) (가까이 와봐~~~)\\n내 곁에서 언제나 날 지켜주는 너\\n...   \n",
       "35017  10201  My Love  사랑해 그 말은 무엇보다 아픈 말\\n숨죽여서 하는 말\\n이젠하기 힘든 말\\nOh 햇...   \n",
       "\n",
       "            genre                                            mungchi  \\\n",
       "2594   발라드, 국내드라마  [[1, 4, 4], [2, 3, 3], [5, 3, 4], [3, 3, 2, 4]...   \n",
       "3203           댄스  [[1, 2, 2, 3, 2], [1, 3, 3, 1, 4, 1], [2, 2, 2...   \n",
       "4567          발라드  [[3, 1, 2, 4, 2, 1], [4, 2, 1], [4, 2, 1], [2,...   \n",
       "8684   발라드, 국내드라마  [[1, 4, 4, 2, 3, 3, 5, 3, 4, 3, 3, 2, 4, 2, 2,...   \n",
       "9293           댄스  [[1, 2, 2, 3, 2, 1, 3, 3, 1, 4, 1, 2, 2, 2, 2,...   \n",
       "10657         발라드  [[3, 1, 2, 4, 2, 1, 4, 2, 1, 4, 2, 1, 2, 3, 2,...   \n",
       "14774  발라드, 국내드라마  [[1, 4, 4, 2, 3, 3, 5, 3, 4, 3, 3, 2, 4], [2, ...   \n",
       "15383          댄스  [[1, 2, 2, 3, 2, 1, 3, 3, 1, 4, 1, 2, 2, 2, 2,...   \n",
       "16747         발라드  [[3, 1, 2, 4, 2, 1, 4, 2, 1, 4, 2, 1, 2, 3, 2,...   \n",
       "20864  발라드, 국내드라마  [[9], [8], [12], [12], [13], [10], [6], [14], ...   \n",
       "21473          댄스  [[10], [13], [13], [13], [13], [0], [5], [13],...   \n",
       "22837         발라드  [[13], [7], [7], [11], [9], [7], [12], [13], [...   \n",
       "26954  발라드, 국내드라마  [[9, 8, 12, 12, 13, 10, 6, 14, 10, 10, 9, 12, ...   \n",
       "27563          댄스  [[10, 13, 13, 13, 13, 0, 5, 13, 5, 13, 5, 13, ...   \n",
       "28927         발라드  [[13, 7, 7, 11, 9, 7, 12, 13, 10, 6, 11, 13, 1...   \n",
       "33044  발라드, 국내드라마  [[9, 8, 12], [13, 10, 6], [10, 10, 9], [9, 8, ...   \n",
       "33653          댄스  [[10, 13], [13, 13, 0], [13, 5], [5, 13, 5], [...   \n",
       "35017         발라드  [[13, 7, 7], [9, 7, 12], [10, 6, 11], [10, 6, ...   \n",
       "\n",
       "                                                   label chunk_strategy  \\\n",
       "2594   [[난, 안되겠니, 이생에서], [다음, 생에선, 되겠니], [약속한다면, 오늘이,...           word   \n",
       "3203   [[(나, 이제, 알아~~~), (가까이, 와봐~~~)], [내, 곁에서, 언제나,...           word   \n",
       "4567   [[사랑해, 그, 말은, 무엇보다, 아픈, 말], [숨죽여서, 하는, 말], [이젠...           word   \n",
       "8684   [[난, 안되겠니, 이생에서, 다음, 생에선, 되겠니, 약속한다면, 오늘이, 끝이라...           word   \n",
       "9293   [[(나, 이제, 알아~~~), (가까이, 와봐~~~), 내, 곁에서, 언제나, 날...           word   \n",
       "10657  [[사랑해, 그, 말은, 무엇보다, 아픈, 말, 숨죽여서, 하는, 말, 이젠하기, ...           word   \n",
       "14774  [[난, 안되겠니, 이생에서, 다음, 생에선, 되겠니, 약속한다면, 오늘이, 끝이라...           word   \n",
       "15383  [[(나, 이제, 알아~~~), (가까이, 와봐~~~), 내, 곁에서, 언제나, 날...           word   \n",
       "16747  [[사랑해, 그, 말은, 무엇보다, 아픈, 말, 숨죽여서, 하는, 말, 이젠하기, ...           word   \n",
       "20864  [[난 안되겠니 이생에서], [다음 생에선 되겠니], [약속한다면 오늘이 끝이라도]...           line   \n",
       "21473  [[(나 이제 알아~~~) (가까이 와봐~~~)], [내 곁에서 언제나 날 지켜주는...           line   \n",
       "22837  [[사랑해 그 말은 무엇보다 아픈 말], [숨죽여서 하는 말], [이젠하기 힘든 말...           line   \n",
       "26954  [[난 안되겠니 이생에서, 다음 생에선 되겠니, 약속한다면 오늘이 끝이라도, 두렵지...           line   \n",
       "27563  [[(나 이제 알아~~~) (가까이 와봐~~~), 내 곁에서 언제나 날 지켜주는 너...           line   \n",
       "28927  [[사랑해 그 말은 무엇보다 아픈 말, 숨죽여서 하는 말, 이젠하기 힘든 말, Oh...           line   \n",
       "33044  [[난 안되겠니 이생에서, 다음 생에선 되겠니, 약속한다면 오늘이 끝이라도], [나...           line   \n",
       "33653  [[(나 이제 알아~~~) (가까이 와봐~~~), 내 곁에서 언제나 날 지켜주는 너...           line   \n",
       "35017  [[사랑해 그 말은 무엇보다 아픈 말, 숨죽여서 하는 말, 이젠하기 힘든 말], [...           line   \n",
       "\n",
       "      sampling_strategy  syllable_limit  \n",
       "2594                one               0  \n",
       "3203                one               0  \n",
       "4567                one               0  \n",
       "8684              total               0  \n",
       "9293              total               0  \n",
       "10657             total               0  \n",
       "14774                 L              30  \n",
       "15383                 L              30  \n",
       "16747                 L              30  \n",
       "20864               one               0  \n",
       "21473               one               0  \n",
       "22837               one               0  \n",
       "26954             total               0  \n",
       "27563             total               0  \n",
       "28927             total               0  \n",
       "33044                 L              30  \n",
       "33653                 L              30  \n",
       "35017                 L              30  "
      ]
     },
     "execution_count": 414,
     "metadata": {},
     "output_type": "execute_result"
    }
   ],
   "source": [
    "x[x['title']=='My Love']"
   ]
  },
  {
   "cell_type": "code",
   "execution_count": 415,
   "metadata": {},
   "outputs": [],
   "source": [
    "filter_x = pd.read_csv(\"len_over_line_df.csv\")"
   ]
  },
  {
   "cell_type": "code",
   "execution_count": 416,
   "metadata": {},
   "outputs": [
    {
     "name": "stdout",
     "output_type": "stream",
     "text": [
      "96    Anywhere you go, anywhere you go,\\nanywhere yo...\n",
      "97    Anywhere you go, anywhere you go,\\nanywhere yo...\n",
      "Name: lyrics, dtype: object\n"
     ]
    }
   ],
   "source": [
    "print(filter_x[filter_x['가수']=='Anyband']['lyrics'])"
   ]
  },
  {
   "cell_type": "code",
   "execution_count": 417,
   "metadata": {},
   "outputs": [
    {
     "data": {
      "text/html": [
       "<div>\n",
       "<style scoped>\n",
       "    .dataframe tbody tr th:only-of-type {\n",
       "        vertical-align: middle;\n",
       "    }\n",
       "\n",
       "    .dataframe tbody tr th {\n",
       "        vertical-align: top;\n",
       "    }\n",
       "\n",
       "    .dataframe thead th {\n",
       "        text-align: right;\n",
       "    }\n",
       "</style>\n",
       "<table border=\"1\" class=\"dataframe\">\n",
       "  <thead>\n",
       "    <tr style=\"text-align: right;\">\n",
       "      <th></th>\n",
       "      <th>index</th>\n",
       "      <th>title</th>\n",
       "      <th>lyrics</th>\n",
       "      <th>genre</th>\n",
       "      <th>mungchi</th>\n",
       "      <th>label</th>\n",
       "      <th>chunk_strategy</th>\n",
       "      <th>sampling_strategy</th>\n",
       "      <th>syllable_limit</th>\n",
       "    </tr>\n",
       "  </thead>\n",
       "  <tbody>\n",
       "    <tr>\n",
       "      <th>24263</th>\n",
       "      <td>14283</td>\n",
       "      <td>멜로디</td>\n",
       "      <td>어딘가 들어본 듯한 이 Melody\\n떠올라 작은 기억들이 My memories\\n...</td>\n",
       "      <td>랩/힙합</td>\n",
       "      <td>[[15], [19], [17], [7], [20], [15], [19], [17]...</td>\n",
       "      <td>[[어딘가 들어본 듯한 이 Melody], [떠올라 작은 기억들이 My memori...</td>\n",
       "      <td>line</td>\n",
       "      <td>one</td>\n",
       "      <td>0</td>\n",
       "    </tr>\n",
       "    <tr>\n",
       "      <th>10867</th>\n",
       "      <td>10775</td>\n",
       "      <td>할말 있어요 (Gotta Talk To U)</td>\n",
       "      <td>나 오늘 그대에게\\n할말이 너무나 많아요\\n부디 내 얘길\\n들어 줄 수 있나요\\n그...</td>\n",
       "      <td>댄스</td>\n",
       "      <td>[[1, 2, 4, 3, 3, 3, 2, 1, 2, 2, 1, 1, 3, 2, 2,...</td>\n",
       "      <td>[[나, 오늘, 그대에게, 할말이, 너무나, 많아요, 부디, 내, 얘길, 들어, 줄...</td>\n",
       "      <td>word</td>\n",
       "      <td>total</td>\n",
       "      <td>0</td>\n",
       "    </tr>\n",
       "    <tr>\n",
       "      <th>33673</th>\n",
       "      <td>6403</td>\n",
       "      <td>다행이다</td>\n",
       "      <td>그대를 만나고\\n그대의 머릿결을 만질 수가 있어서\\n그대를 만나고\\n그대와 마주보며...</td>\n",
       "      <td>발라드</td>\n",
       "      <td>[[6, 14, 6], [6, 13, 4], [6, 14], [14, 13], [9...</td>\n",
       "      <td>[[그대를 만나고, 그대의 머릿결을 만질 수가 있어서, 그대를 만나고], [그대를 ...</td>\n",
       "      <td>line</td>\n",
       "      <td>L</td>\n",
       "      <td>30</td>\n",
       "    </tr>\n",
       "    <tr>\n",
       "      <th>23013</th>\n",
       "      <td>10675</td>\n",
       "      <td>거품 안 넘치게 따라줘 (Life Is Good) (Feat. Crush, DJ F...</td>\n",
       "      <td>my life is good life is good\\n난 부지런한 편은 아니라서\\n...</td>\n",
       "      <td>랩/힙합</td>\n",
       "      <td>[[22], [11], [10], [10], [7], [8], [15], [11],...</td>\n",
       "      <td>[[my life is good life is good], [난 부지런한 편은 아니...</td>\n",
       "      <td>line</td>\n",
       "      <td>one</td>\n",
       "      <td>0</td>\n",
       "    </tr>\n",
       "    <tr>\n",
       "      <th>29688</th>\n",
       "      <td>12350</td>\n",
       "      <td>빗속으로</td>\n",
       "      <td>비가 오면 빛이 나는 내사랑\\n이런 밤에 뒤척이면\\n내 맘은 지쳐\\n빗속으로 빗속으...</td>\n",
       "      <td>록/메탈</td>\n",
       "      <td>[[11, 8, 5, 8, 10, 10, 10, 11, 13, 8, 10, 10, ...</td>\n",
       "      <td>[[비가 오면 빛이 나는 내사랑, 이런 밤에 뒤척이면, 내 맘은 지쳐, 빗속으로 빗...</td>\n",
       "      <td>line</td>\n",
       "      <td>total</td>\n",
       "      <td>0</td>\n",
       "    </tr>\n",
       "  </tbody>\n",
       "</table>\n",
       "</div>"
      ],
      "text/plain": [
       "       index                                              title  \\\n",
       "24263  14283                                                멜로디   \n",
       "10867  10775                           할말 있어요 (Gotta Talk To U)   \n",
       "33673   6403                                               다행이다   \n",
       "23013  10675  거품 안 넘치게 따라줘 (Life Is Good) (Feat. Crush, DJ F...   \n",
       "29688  12350                                               빗속으로   \n",
       "\n",
       "                                                  lyrics genre  \\\n",
       "24263  어딘가 들어본 듯한 이 Melody\\n떠올라 작은 기억들이 My memories\\n...  랩/힙합   \n",
       "10867  나 오늘 그대에게\\n할말이 너무나 많아요\\n부디 내 얘길\\n들어 줄 수 있나요\\n그...    댄스   \n",
       "33673  그대를 만나고\\n그대의 머릿결을 만질 수가 있어서\\n그대를 만나고\\n그대와 마주보며...   발라드   \n",
       "23013  my life is good life is good\\n난 부지런한 편은 아니라서\\n...  랩/힙합   \n",
       "29688  비가 오면 빛이 나는 내사랑\\n이런 밤에 뒤척이면\\n내 맘은 지쳐\\n빗속으로 빗속으...  록/메탈   \n",
       "\n",
       "                                                 mungchi  \\\n",
       "24263  [[15], [19], [17], [7], [20], [15], [19], [17]...   \n",
       "10867  [[1, 2, 4, 3, 3, 3, 2, 1, 2, 2, 1, 1, 3, 2, 2,...   \n",
       "33673  [[6, 14, 6], [6, 13, 4], [6, 14], [14, 13], [9...   \n",
       "23013  [[22], [11], [10], [10], [7], [8], [15], [11],...   \n",
       "29688  [[11, 8, 5, 8, 10, 10, 10, 11, 13, 8, 10, 10, ...   \n",
       "\n",
       "                                                   label chunk_strategy  \\\n",
       "24263  [[어딘가 들어본 듯한 이 Melody], [떠올라 작은 기억들이 My memori...           line   \n",
       "10867  [[나, 오늘, 그대에게, 할말이, 너무나, 많아요, 부디, 내, 얘길, 들어, 줄...           word   \n",
       "33673  [[그대를 만나고, 그대의 머릿결을 만질 수가 있어서, 그대를 만나고], [그대를 ...           line   \n",
       "23013  [[my life is good life is good], [난 부지런한 편은 아니...           line   \n",
       "29688  [[비가 오면 빛이 나는 내사랑, 이런 밤에 뒤척이면, 내 맘은 지쳐, 빗속으로 빗...           line   \n",
       "\n",
       "      sampling_strategy  syllable_limit  \n",
       "24263               one               0  \n",
       "10867             total               0  \n",
       "33673                 L              30  \n",
       "23013               one               0  \n",
       "29688             total               0  "
      ]
     },
     "execution_count": 417,
     "metadata": {},
     "output_type": "execute_result"
    }
   ],
   "source": [
    "x.sample(5)"
   ]
  },
  {
   "cell_type": "code",
   "execution_count": 418,
   "metadata": {},
   "outputs": [],
   "source": [
    "filter_x = filter_x[filter_x['변경여부']=='o'].drop_duplicates(subset='title')"
   ]
  },
  {
   "cell_type": "code",
   "execution_count": 419,
   "metadata": {},
   "outputs": [
    {
     "data": {
      "text/html": [
       "<div>\n",
       "<style scoped>\n",
       "    .dataframe tbody tr th:only-of-type {\n",
       "        vertical-align: middle;\n",
       "    }\n",
       "\n",
       "    .dataframe tbody tr th {\n",
       "        vertical-align: top;\n",
       "    }\n",
       "\n",
       "    .dataframe thead th {\n",
       "        text-align: right;\n",
       "    }\n",
       "</style>\n",
       "<table border=\"1\" class=\"dataframe\">\n",
       "  <thead>\n",
       "    <tr style=\"text-align: right;\">\n",
       "      <th></th>\n",
       "      <th>Unnamed: 0</th>\n",
       "      <th>title</th>\n",
       "      <th>가수</th>\n",
       "      <th>lyrics</th>\n",
       "      <th>genre</th>\n",
       "      <th>year</th>\n",
       "      <th>label</th>\n",
       "      <th>chunk_strategy</th>\n",
       "      <th>sampling_strategy</th>\n",
       "      <th>syllable_limit</th>\n",
       "      <th>mungchi</th>\n",
       "      <th>변경 lyrics</th>\n",
       "      <th>변경여부</th>\n",
       "    </tr>\n",
       "  </thead>\n",
       "  <tbody>\n",
       "    <tr>\n",
       "      <th>0</th>\n",
       "      <td>0</td>\n",
       "      <td>애수</td>\n",
       "      <td>김완선</td>\n",
       "      <td>불빛에 흔들리는 두 사람 서로의 눈길에 취했나\\n가끔씩 부딪힌 어깨 , 향기로운 내...</td>\n",
       "      <td>댄스</td>\n",
       "      <td>1992</td>\n",
       "      <td>[['불빛에 흔들리는 두 사람 서로의 눈길에 취했나'], ['가끔씩 부딪힌 어깨 ,...</td>\n",
       "      <td>line</td>\n",
       "      <td>one</td>\n",
       "      <td>0</td>\n",
       "      <td>[[19], [25], [19], [25], [26], [25], [31], [26]]</td>\n",
       "      <td>불빛에 흔들리는 두 사람 서로의 눈길에 취했나\\n가끔씩 부딪힌 어깨 , 향기로운 내...</td>\n",
       "      <td>o</td>\n",
       "    </tr>\n",
       "    <tr>\n",
       "      <th>5</th>\n",
       "      <td>5</td>\n",
       "      <td>내가 너의 곁에 잠시 살았다는 걸</td>\n",
       "      <td>토이, 김연우</td>\n",
       "      <td>지운 줄 알았어 너에 기억들을\\n친구들을 함께 모여 술에 취한 밤 니 생각에 난 힘...</td>\n",
       "      <td>발라드</td>\n",
       "      <td>1996</td>\n",
       "      <td>[['지운 줄 알았어 너에 기억들을'], ['친구들을 함께 모여 술에 취한 밤 니 ...</td>\n",
       "      <td>line</td>\n",
       "      <td>one</td>\n",
       "      <td>0</td>\n",
       "      <td>[[12], [22], [12], [18], [11], [13], [10], [14...</td>\n",
       "      <td>지운 줄 알았어 너에 기억들을\\n친구들을 함께 모여 술에 취한 밤 니 생각에 난 힘...</td>\n",
       "      <td>o</td>\n",
       "    </tr>\n",
       "    <tr>\n",
       "      <th>10</th>\n",
       "      <td>10</td>\n",
       "      <td>P.S. I Love You</td>\n",
       "      <td>박정현</td>\n",
       "      <td>우연히 그댈 처음 본 순간 운명이란걸 느낄 수가 있었어 사랑의 시작을 먼저 말할 수...</td>\n",
       "      <td>발라드</td>\n",
       "      <td>1998</td>\n",
       "      <td>[['우연히 그댈 처음 본 순간 운명이란걸 느낄 수가 있었어 사랑의 시작을 먼저 말...</td>\n",
       "      <td>line</td>\n",
       "      <td>one</td>\n",
       "      <td>0</td>\n",
       "      <td>[[109], [38], [29], [28], [38], [29], [19]]</td>\n",
       "      <td>우연히 그댈 처음 본 순간 운명이란걸 \\n느낄 수가 있었어 사랑의 시작을 \\n먼저 ...</td>\n",
       "      <td>o</td>\n",
       "    </tr>\n",
       "    <tr>\n",
       "      <th>12</th>\n",
       "      <td>12</td>\n",
       "      <td>Jingle Bell</td>\n",
       "      <td>SMTOWN</td>\n",
       "      <td>종이 울려서 모두 여기 모여서 그렇게 짜증났던 일들 모두 잊어버려 지워버려\\n너와 ...</td>\n",
       "      <td>-</td>\n",
       "      <td>2000</td>\n",
       "      <td>[['종이 울려서 모두 여기 모여서 그렇게 짜증났던 일들 모두 잊어버려 지워버려']...</td>\n",
       "      <td>line</td>\n",
       "      <td>one</td>\n",
       "      <td>0</td>\n",
       "      <td>[[31], [19], [16], [32], [16], [3], [46], [34]...</td>\n",
       "      <td>종이 울려서 모두 여기 모여서 \\n그렇게 짜증났던 일들 모두 잊어버려 \\n지워버려 ...</td>\n",
       "      <td>o</td>\n",
       "    </tr>\n",
       "    <tr>\n",
       "      <th>14</th>\n",
       "      <td>14</td>\n",
       "      <td>서방님</td>\n",
       "      <td>이소은</td>\n",
       "      <td>잊어요 괜한 걱정마요 예전에 내가 말했잖아요\\n그대 가는 길가에 핀 이름모를 꽃처럼...</td>\n",
       "      <td>발라드</td>\n",
       "      <td>2000</td>\n",
       "      <td>[['잊어요 괜한 걱정마요 예전에 내가 말했잖아요'], ['그대 가는 길가에 핀 이...</td>\n",
       "      <td>line</td>\n",
       "      <td>one</td>\n",
       "      <td>0</td>\n",
       "      <td>[[19], [22], [21], [15], [9], [12], [16], [21]...</td>\n",
       "      <td>잊어요 괜한 걱정마요 예전에 내가 말했잖아요\\n그대 가는 길가에 핀 이름모를 꽃처럼...</td>\n",
       "      <td>o</td>\n",
       "    </tr>\n",
       "    <tr>\n",
       "      <th>48</th>\n",
       "      <td>48</td>\n",
       "      <td>Angel</td>\n",
       "      <td>신화</td>\n",
       "      <td>그토록 바래왔던 시간이 왔어\\n너를 위한 나의 깊은 맘을 들었어\\n처음부터 우린 사...</td>\n",
       "      <td>발라드</td>\n",
       "      <td>2004</td>\n",
       "      <td>[['그토록 바래왔던 시간이 왔어'], ['너를 위한 나의 깊은 맘을 들었어'], ...</td>\n",
       "      <td>line</td>\n",
       "      <td>one</td>\n",
       "      <td>0</td>\n",
       "      <td>[[12], [13], [12], [4], [14], [13], [9], [7], ...</td>\n",
       "      <td>그토록 바래왔던 시간이 왔어\\n너를 위한 나의 깊은 맘을 들었어\\n처음부터 우린 사...</td>\n",
       "      <td>o</td>\n",
       "    </tr>\n",
       "    <tr>\n",
       "      <th>72</th>\n",
       "      <td>72</td>\n",
       "      <td>기억의 습작 (Live)</td>\n",
       "      <td>김동률</td>\n",
       "      <td>이젠버틸수없다고 음~휑한웃음으로 내어깰기대어 눈을감았지만~이젠 말할수있는건 음~너의...</td>\n",
       "      <td>발라드</td>\n",
       "      <td>2005</td>\n",
       "      <td>[['이젠버틸수없다고 음~휑한웃음으로 내어깰기대어 눈을감았지만~이젠 말할수있는건 음...</td>\n",
       "      <td>line</td>\n",
       "      <td>one</td>\n",
       "      <td>0</td>\n",
       "      <td>[[259]]</td>\n",
       "      <td>이젠 버틸수 없다고 \\n휑한 웃음으로 내 어깰 기대어 \\n눈을 감았지만~\\n이젠 말...</td>\n",
       "      <td>o</td>\n",
       "    </tr>\n",
       "    <tr>\n",
       "      <th>96</th>\n",
       "      <td>96</td>\n",
       "      <td>TPL (Talk Play Love)</td>\n",
       "      <td>Anyband</td>\n",
       "      <td>Anywhere you go, anywhere you go,\\nanywhere yo...</td>\n",
       "      <td>댄스</td>\n",
       "      <td>2007</td>\n",
       "      <td>[['Anywhere you go, anywhere you go,'], [\"anyw...</td>\n",
       "      <td>line</td>\n",
       "      <td>one</td>\n",
       "      <td>0</td>\n",
       "      <td>[[26], [23], [18], [26], [23], [18], [14], [21...</td>\n",
       "      <td>Anywhere you go, anywhere you go,\\nanywhere yo...</td>\n",
       "      <td>o</td>\n",
       "    </tr>\n",
       "    <tr>\n",
       "      <th>98</th>\n",
       "      <td>98</td>\n",
       "      <td>Moai</td>\n",
       "      <td>서태지</td>\n",
       "      <td>네온사인 덫을 뒤로 등진 건 내가 벗어두고 온 날의 저항 같았어\\n떠나오는 내내 숱...</td>\n",
       "      <td>록/메탈</td>\n",
       "      <td>2008</td>\n",
       "      <td>[['네온사인 덫을 뒤로 등진 건 내가 벗어두고 온 날의 저항 같았어'], ['떠나...</td>\n",
       "      <td>line</td>\n",
       "      <td>one</td>\n",
       "      <td>0</td>\n",
       "      <td>[[25], [27], [26], [27], [26], [27], [17], [31...</td>\n",
       "      <td>네온사인 덫을 뒤로 등진 건 \\n내가 벗어두고 온 날의 저항 같았어\\n떠나오는 내내...</td>\n",
       "      <td>o</td>\n",
       "    </tr>\n",
       "    <tr>\n",
       "      <th>137</th>\n",
       "      <td>137</td>\n",
       "      <td>처럼 (Feat. 이하이)</td>\n",
       "      <td>유재석 X Dok2</td>\n",
       "      <td>처럼 (Feat. 이하이)\\n저 하늘이 왕을 세웠던 이유는\\n힘을 주어 가진 한사람...</td>\n",
       "      <td>랩/힙합</td>\n",
       "      <td>2017</td>\n",
       "      <td>[['처럼 (Feat. 이하이)'], ['저 하늘이 왕을 세웠던 이유는'], ['힘...</td>\n",
       "      <td>line</td>\n",
       "      <td>one</td>\n",
       "      <td>0</td>\n",
       "      <td>[[9], [12], [15], [24], [19], [26], [9], [20],...</td>\n",
       "      <td>처럼 (Feat. 이하이)\\n저 하늘이 왕을 세웠던 이유는\\n힘을 주어 가진 한사람...</td>\n",
       "      <td>o</td>\n",
       "    </tr>\n",
       "    <tr>\n",
       "      <th>146</th>\n",
       "      <td>146</td>\n",
       "      <td>힘든 건 사랑이 아니다</td>\n",
       "      <td>임창정</td>\n",
       "      <td>내가 널 떠났어야 했는데 왜 떠나야 하는지도 아는데\\n어떤 아무 말도 아무것도 줄 ...</td>\n",
       "      <td>발라드</td>\n",
       "      <td>2020</td>\n",
       "      <td>[['내가 널 떠났어야 했는데 왜 떠나야 하는지도 아는데'], ['어떤 아무 말도 ...</td>\n",
       "      <td>line</td>\n",
       "      <td>one</td>\n",
       "      <td>0</td>\n",
       "      <td>[[21], [29], [22], [23], [29], [28], [21], [29...</td>\n",
       "      <td>내가 널 떠났어야 했는데 \\n왜 떠나야 하는지도 아는데\\n어떤 아무 말도 아무것도 ...</td>\n",
       "      <td>o</td>\n",
       "    </tr>\n",
       "  </tbody>\n",
       "</table>\n",
       "</div>"
      ],
      "text/plain": [
       "     Unnamed: 0                 title          가수  \\\n",
       "0             0                    애수         김완선   \n",
       "5             5    내가 너의 곁에 잠시 살았다는 걸     토이, 김연우   \n",
       "10           10       P.S. I Love You         박정현   \n",
       "12           12           Jingle Bell      SMTOWN   \n",
       "14           14                   서방님         이소은   \n",
       "48           48                 Angel          신화   \n",
       "72           72         기억의 습작 (Live)         김동률   \n",
       "96           96  TPL (Talk Play Love)     Anyband   \n",
       "98           98                  Moai         서태지   \n",
       "137         137        처럼 (Feat. 이하이)  유재석 X Dok2   \n",
       "146         146          힘든 건 사랑이 아니다         임창정   \n",
       "\n",
       "                                                lyrics genre  year  \\\n",
       "0    불빛에 흔들리는 두 사람 서로의 눈길에 취했나\\n가끔씩 부딪힌 어깨 , 향기로운 내...    댄스  1992   \n",
       "5    지운 줄 알았어 너에 기억들을\\n친구들을 함께 모여 술에 취한 밤 니 생각에 난 힘...   발라드  1996   \n",
       "10   우연히 그댈 처음 본 순간 운명이란걸 느낄 수가 있었어 사랑의 시작을 먼저 말할 수...   발라드  1998   \n",
       "12   종이 울려서 모두 여기 모여서 그렇게 짜증났던 일들 모두 잊어버려 지워버려\\n너와 ...     -  2000   \n",
       "14   잊어요 괜한 걱정마요 예전에 내가 말했잖아요\\n그대 가는 길가에 핀 이름모를 꽃처럼...   발라드  2000   \n",
       "48   그토록 바래왔던 시간이 왔어\\n너를 위한 나의 깊은 맘을 들었어\\n처음부터 우린 사...   발라드  2004   \n",
       "72   이젠버틸수없다고 음~휑한웃음으로 내어깰기대어 눈을감았지만~이젠 말할수있는건 음~너의...   발라드  2005   \n",
       "96   Anywhere you go, anywhere you go,\\nanywhere yo...    댄스  2007   \n",
       "98   네온사인 덫을 뒤로 등진 건 내가 벗어두고 온 날의 저항 같았어\\n떠나오는 내내 숱...  록/메탈  2008   \n",
       "137  처럼 (Feat. 이하이)\\n저 하늘이 왕을 세웠던 이유는\\n힘을 주어 가진 한사람...  랩/힙합  2017   \n",
       "146  내가 널 떠났어야 했는데 왜 떠나야 하는지도 아는데\\n어떤 아무 말도 아무것도 줄 ...   발라드  2020   \n",
       "\n",
       "                                                 label chunk_strategy  \\\n",
       "0    [['불빛에 흔들리는 두 사람 서로의 눈길에 취했나'], ['가끔씩 부딪힌 어깨 ,...           line   \n",
       "5    [['지운 줄 알았어 너에 기억들을'], ['친구들을 함께 모여 술에 취한 밤 니 ...           line   \n",
       "10   [['우연히 그댈 처음 본 순간 운명이란걸 느낄 수가 있었어 사랑의 시작을 먼저 말...           line   \n",
       "12   [['종이 울려서 모두 여기 모여서 그렇게 짜증났던 일들 모두 잊어버려 지워버려']...           line   \n",
       "14   [['잊어요 괜한 걱정마요 예전에 내가 말했잖아요'], ['그대 가는 길가에 핀 이...           line   \n",
       "48   [['그토록 바래왔던 시간이 왔어'], ['너를 위한 나의 깊은 맘을 들었어'], ...           line   \n",
       "72   [['이젠버틸수없다고 음~휑한웃음으로 내어깰기대어 눈을감았지만~이젠 말할수있는건 음...           line   \n",
       "96   [['Anywhere you go, anywhere you go,'], [\"anyw...           line   \n",
       "98   [['네온사인 덫을 뒤로 등진 건 내가 벗어두고 온 날의 저항 같았어'], ['떠나...           line   \n",
       "137  [['처럼 (Feat. 이하이)'], ['저 하늘이 왕을 세웠던 이유는'], ['힘...           line   \n",
       "146  [['내가 널 떠났어야 했는데 왜 떠나야 하는지도 아는데'], ['어떤 아무 말도 ...           line   \n",
       "\n",
       "    sampling_strategy  syllable_limit  \\\n",
       "0                 one               0   \n",
       "5                 one               0   \n",
       "10                one               0   \n",
       "12                one               0   \n",
       "14                one               0   \n",
       "48                one               0   \n",
       "72                one               0   \n",
       "96                one               0   \n",
       "98                one               0   \n",
       "137               one               0   \n",
       "146               one               0   \n",
       "\n",
       "                                               mungchi  \\\n",
       "0     [[19], [25], [19], [25], [26], [25], [31], [26]]   \n",
       "5    [[12], [22], [12], [18], [11], [13], [10], [14...   \n",
       "10         [[109], [38], [29], [28], [38], [29], [19]]   \n",
       "12   [[31], [19], [16], [32], [16], [3], [46], [34]...   \n",
       "14   [[19], [22], [21], [15], [9], [12], [16], [21]...   \n",
       "48   [[12], [13], [12], [4], [14], [13], [9], [7], ...   \n",
       "72                                             [[259]]   \n",
       "96   [[26], [23], [18], [26], [23], [18], [14], [21...   \n",
       "98   [[25], [27], [26], [27], [26], [27], [17], [31...   \n",
       "137  [[9], [12], [15], [24], [19], [26], [9], [20],...   \n",
       "146  [[21], [29], [22], [23], [29], [28], [21], [29...   \n",
       "\n",
       "                                             변경 lyrics 변경여부  \n",
       "0    불빛에 흔들리는 두 사람 서로의 눈길에 취했나\\n가끔씩 부딪힌 어깨 , 향기로운 내...    o  \n",
       "5    지운 줄 알았어 너에 기억들을\\n친구들을 함께 모여 술에 취한 밤 니 생각에 난 힘...    o  \n",
       "10   우연히 그댈 처음 본 순간 운명이란걸 \\n느낄 수가 있었어 사랑의 시작을 \\n먼저 ...    o  \n",
       "12   종이 울려서 모두 여기 모여서 \\n그렇게 짜증났던 일들 모두 잊어버려 \\n지워버려 ...    o  \n",
       "14   잊어요 괜한 걱정마요 예전에 내가 말했잖아요\\n그대 가는 길가에 핀 이름모를 꽃처럼...    o  \n",
       "48   그토록 바래왔던 시간이 왔어\\n너를 위한 나의 깊은 맘을 들었어\\n처음부터 우린 사...    o  \n",
       "72   이젠 버틸수 없다고 \\n휑한 웃음으로 내 어깰 기대어 \\n눈을 감았지만~\\n이젠 말...    o  \n",
       "96   Anywhere you go, anywhere you go,\\nanywhere yo...    o  \n",
       "98   네온사인 덫을 뒤로 등진 건 \\n내가 벗어두고 온 날의 저항 같았어\\n떠나오는 내내...    o  \n",
       "137  처럼 (Feat. 이하이)\\n저 하늘이 왕을 세웠던 이유는\\n힘을 주어 가진 한사람...    o  \n",
       "146  내가 널 떠났어야 했는데 \\n왜 떠나야 하는지도 아는데\\n어떤 아무 말도 아무것도 ...    o  "
      ]
     },
     "execution_count": 419,
     "metadata": {},
     "output_type": "execute_result"
    }
   ],
   "source": [
    "filter_x"
   ]
  },
  {
   "cell_type": "code",
   "execution_count": 420,
   "metadata": {},
   "outputs": [
    {
     "data": {
      "text/plain": [
       "36540"
      ]
     },
     "execution_count": 420,
     "metadata": {},
     "output_type": "execute_result"
    }
   ],
   "source": [
    "len(x)"
   ]
  },
  {
   "cell_type": "code",
   "execution_count": 421,
   "metadata": {},
   "outputs": [],
   "source": [
    "x = x.merge(filter_x[['title', 'lyrics', '변경 lyrics']], on=['title', 'lyrics'], how='left')\n",
    "x['lyrics'] = x['변경 lyrics'].fillna(x['lyrics'])\n",
    "x.drop(columns=['변경 lyrics'], inplace=True)"
   ]
  },
  {
   "cell_type": "code",
   "execution_count": 422,
   "metadata": {},
   "outputs": [
    {
     "data": {
      "text/plain": [
       "36540"
      ]
     },
     "execution_count": 422,
     "metadata": {},
     "output_type": "execute_result"
    }
   ],
   "source": [
    "len(x)"
   ]
  },
  {
   "cell_type": "code",
   "execution_count": 423,
   "metadata": {},
   "outputs": [
    {
     "data": {
      "text/html": [
       "<div>\n",
       "<style scoped>\n",
       "    .dataframe tbody tr th:only-of-type {\n",
       "        vertical-align: middle;\n",
       "    }\n",
       "\n",
       "    .dataframe tbody tr th {\n",
       "        vertical-align: top;\n",
       "    }\n",
       "\n",
       "    .dataframe thead th {\n",
       "        text-align: right;\n",
       "    }\n",
       "</style>\n",
       "<table border=\"1\" class=\"dataframe\">\n",
       "  <thead>\n",
       "    <tr style=\"text-align: right;\">\n",
       "      <th></th>\n",
       "      <th>index</th>\n",
       "      <th>title</th>\n",
       "      <th>lyrics</th>\n",
       "      <th>genre</th>\n",
       "      <th>mungchi</th>\n",
       "      <th>label</th>\n",
       "      <th>chunk_strategy</th>\n",
       "      <th>sampling_strategy</th>\n",
       "      <th>syllable_limit</th>\n",
       "    </tr>\n",
       "  </thead>\n",
       "  <tbody>\n",
       "    <tr>\n",
       "      <th>0</th>\n",
       "      <td>0</td>\n",
       "      <td>J에게</td>\n",
       "      <td>J 스치는 바람에 J 그대 모습 보이면\\n난 오늘도 조용히 그댈 그리워하네\\nJ 지...</td>\n",
       "      <td>발라드</td>\n",
       "      <td>[[1, 3, 3, 1, 2, 2, 3], [1, 3, 3, 2, 5], [1, 3...</td>\n",
       "      <td>[[J, 스치는, 바람에, J, 그대, 모습, 보이면], [난, 오늘도, 조용히, ...</td>\n",
       "      <td>word</td>\n",
       "      <td>one</td>\n",
       "      <td>0</td>\n",
       "    </tr>\n",
       "    <tr>\n",
       "      <th>1</th>\n",
       "      <td>1</td>\n",
       "      <td>갯바위</td>\n",
       "      <td>나는 나는 갯바위\\n당신은 나를 사랑하는 파도\\n어느 고운 바람 불던날\\n잔잔히 다...</td>\n",
       "      <td>포크/블루스</td>\n",
       "      <td>[[2, 2, 3], [3, 2, 4, 2], [2, 2, 2, 3], [3, 3]...</td>\n",
       "      <td>[[나는, 나는, 갯바위], [당신은, 나를, 사랑하는, 파도], [어느, 고운, ...</td>\n",
       "      <td>word</td>\n",
       "      <td>one</td>\n",
       "      <td>0</td>\n",
       "    </tr>\n",
       "    <tr>\n",
       "      <th>2</th>\n",
       "      <td>2</td>\n",
       "      <td>약속</td>\n",
       "      <td>별이 유난히도 밝은\\n오늘 이 시간이 가면\\n그대\\n떠난다~는 말이\\n나를 슬프~게...</td>\n",
       "      <td>발라드</td>\n",
       "      <td>[[2, 4, 2], [2, 1, 3, 2], [2], [4, 2], [2, 3, ...</td>\n",
       "      <td>[[별이, 유난히도, 밝은], [오늘, 이, 시간이, 가면], [그대], [떠난다~...</td>\n",
       "      <td>word</td>\n",
       "      <td>one</td>\n",
       "      <td>0</td>\n",
       "    </tr>\n",
       "    <tr>\n",
       "      <th>3</th>\n",
       "      <td>3</td>\n",
       "      <td>잃어버린 정</td>\n",
       "      <td>당신의 고운 눈매에 할말을 잊었지만은\\n냉정히 돌아선 무정한 사람은 눈물을 모르겠지...</td>\n",
       "      <td>성인가요/트로트</td>\n",
       "      <td>[[3, 2, 3, 3, 5], [3, 3, 3, 3, 3, 5], [3, 5, 3...</td>\n",
       "      <td>[[당신의, 고운, 눈매에, 할말을, 잊었지만은], [냉정히, 돌아선, 무정한, 사...</td>\n",
       "      <td>word</td>\n",
       "      <td>one</td>\n",
       "      <td>0</td>\n",
       "    </tr>\n",
       "    <tr>\n",
       "      <th>4</th>\n",
       "      <td>4</td>\n",
       "      <td>물같은 사랑</td>\n",
       "      <td>그대의 모습 멀어져갔네\\n쓸쓸한 기억 남기고\\n낭만이 지워진 그 길로\\n조용히 멀어...</td>\n",
       "      <td>성인가요/트로트</td>\n",
       "      <td>[[3, 2, 5], [3, 2, 3], [3, 3, 1, 2], [3, 5], [...</td>\n",
       "      <td>[[그대의, 모습, 멀어져갔네], [쓸쓸한, 기억, 남기고], [낭만이, 지워진, ...</td>\n",
       "      <td>word</td>\n",
       "      <td>one</td>\n",
       "      <td>0</td>\n",
       "    </tr>\n",
       "    <tr>\n",
       "      <th>...</th>\n",
       "      <td>...</td>\n",
       "      <td>...</td>\n",
       "      <td>...</td>\n",
       "      <td>...</td>\n",
       "      <td>...</td>\n",
       "      <td>...</td>\n",
       "      <td>...</td>\n",
       "      <td>...</td>\n",
       "      <td>...</td>\n",
       "    </tr>\n",
       "    <tr>\n",
       "      <th>36535</th>\n",
       "      <td>14606</td>\n",
       "      <td>버퍼링 (Glitch Mode)</td>\n",
       "      <td>Scratch that bring it back\\n(Shook\\nShook\\nHa)...</td>\n",
       "      <td>댄스</td>\n",
       "      <td>[[22, 5], [2, 4, 10, 13], [5, 14], [15], [5, 6...</td>\n",
       "      <td>[[Scratch that bring it back, (Shook], [Ha), 네...</td>\n",
       "      <td>line</td>\n",
       "      <td>L</td>\n",
       "      <td>30</td>\n",
       "    </tr>\n",
       "    <tr>\n",
       "      <th>36536</th>\n",
       "      <td>14607</td>\n",
       "      <td>Real Love</td>\n",
       "      <td>우린 이 음악을 빌려\\n이 분위기를 빌려\\n지금 이 공기 이건 마치\\n7시간 비행 ...</td>\n",
       "      <td>댄스</td>\n",
       "      <td>[[8, 7, 9], [10], [9, 6], [16, 4, 8], [9, 11, ...</td>\n",
       "      <td>[[우린 이 음악을 빌려, 이 분위기를 빌려, 지금 이 공기 이건 마치], [pin...</td>\n",
       "      <td>line</td>\n",
       "      <td>L</td>\n",
       "      <td>30</td>\n",
       "    </tr>\n",
       "    <tr>\n",
       "      <th>36537</th>\n",
       "      <td>14608</td>\n",
       "      <td>내가 아니라도</td>\n",
       "      <td>사랑이었다 별거 없던 내 하루에\\n빛이 돼준 단한 사람\\n나보다 나를 더 아껴 주던...</td>\n",
       "      <td>발라드</td>\n",
       "      <td>[[13, 8], [7, 13, 9], [8, 12, 6], [14, 4], [14...</td>\n",
       "      <td>[[사랑이었다 별거 없던 내 하루에, 빛이 돼준 단한 사람], [그땐 왜 몰랐을까,...</td>\n",
       "      <td>line</td>\n",
       "      <td>L</td>\n",
       "      <td>30</td>\n",
       "    </tr>\n",
       "    <tr>\n",
       "      <th>36538</th>\n",
       "      <td>14609</td>\n",
       "      <td>스물다섯, 스물하나</td>\n",
       "      <td>바람에 날려 꽃이 지는 계절엔\\n아직도 너의 손을 잡은 듯 그런 듯 해\\n그때는 아...</td>\n",
       "      <td>록/메탈</td>\n",
       "      <td>[[12, 14], [13, 13], [8, 12], [14, 14], [8, 7,...</td>\n",
       "      <td>[[바람에 날려 꽃이 지는 계절엔, 아직도 너의 손을 잡은 듯 그런 듯 해], [지...</td>\n",
       "      <td>line</td>\n",
       "      <td>L</td>\n",
       "      <td>30</td>\n",
       "    </tr>\n",
       "    <tr>\n",
       "      <th>36539</th>\n",
       "      <td>14610</td>\n",
       "      <td>Starlight</td>\n",
       "      <td>난 지금 널 향해 달려가고 있어\\n숨이 턱까지 차올라 괜찮아\\n잠시 후 널 마주할 ...</td>\n",
       "      <td>록/메탈, 국내드라마</td>\n",
       "      <td>[[12, 11], [12, 12], [7, 9, 8], [17], [8, 8, 6...</td>\n",
       "      <td>[[난 지금 널 향해 달려가고 있어, 숨이 턱까지 차올라 괜찮아], [가슴이 터질 ...</td>\n",
       "      <td>line</td>\n",
       "      <td>L</td>\n",
       "      <td>30</td>\n",
       "    </tr>\n",
       "  </tbody>\n",
       "</table>\n",
       "<p>36540 rows × 9 columns</p>\n",
       "</div>"
      ],
      "text/plain": [
       "       index              title  \\\n",
       "0          0                J에게   \n",
       "1          1                갯바위   \n",
       "2          2                 약속   \n",
       "3          3             잃어버린 정   \n",
       "4          4             물같은 사랑   \n",
       "...      ...                ...   \n",
       "36535  14606  버퍼링 (Glitch Mode)   \n",
       "36536  14607          Real Love   \n",
       "36537  14608            내가 아니라도   \n",
       "36538  14609         스물다섯, 스물하나   \n",
       "36539  14610          Starlight   \n",
       "\n",
       "                                                  lyrics        genre  \\\n",
       "0      J 스치는 바람에 J 그대 모습 보이면\\n난 오늘도 조용히 그댈 그리워하네\\nJ 지...          발라드   \n",
       "1      나는 나는 갯바위\\n당신은 나를 사랑하는 파도\\n어느 고운 바람 불던날\\n잔잔히 다...       포크/블루스   \n",
       "2      별이 유난히도 밝은\\n오늘 이 시간이 가면\\n그대\\n떠난다~는 말이\\n나를 슬프~게...          발라드   \n",
       "3      당신의 고운 눈매에 할말을 잊었지만은\\n냉정히 돌아선 무정한 사람은 눈물을 모르겠지...     성인가요/트로트   \n",
       "4      그대의 모습 멀어져갔네\\n쓸쓸한 기억 남기고\\n낭만이 지워진 그 길로\\n조용히 멀어...     성인가요/트로트   \n",
       "...                                                  ...          ...   \n",
       "36535  Scratch that bring it back\\n(Shook\\nShook\\nHa)...           댄스   \n",
       "36536  우린 이 음악을 빌려\\n이 분위기를 빌려\\n지금 이 공기 이건 마치\\n7시간 비행 ...           댄스   \n",
       "36537  사랑이었다 별거 없던 내 하루에\\n빛이 돼준 단한 사람\\n나보다 나를 더 아껴 주던...          발라드   \n",
       "36538  바람에 날려 꽃이 지는 계절엔\\n아직도 너의 손을 잡은 듯 그런 듯 해\\n그때는 아...         록/메탈   \n",
       "36539  난 지금 널 향해 달려가고 있어\\n숨이 턱까지 차올라 괜찮아\\n잠시 후 널 마주할 ...  록/메탈, 국내드라마   \n",
       "\n",
       "                                                 mungchi  \\\n",
       "0      [[1, 3, 3, 1, 2, 2, 3], [1, 3, 3, 2, 5], [1, 3...   \n",
       "1      [[2, 2, 3], [3, 2, 4, 2], [2, 2, 2, 3], [3, 3]...   \n",
       "2      [[2, 4, 2], [2, 1, 3, 2], [2], [4, 2], [2, 3, ...   \n",
       "3      [[3, 2, 3, 3, 5], [3, 3, 3, 3, 3, 5], [3, 5, 3...   \n",
       "4      [[3, 2, 5], [3, 2, 3], [3, 3, 1, 2], [3, 5], [...   \n",
       "...                                                  ...   \n",
       "36535  [[22, 5], [2, 4, 10, 13], [5, 14], [15], [5, 6...   \n",
       "36536  [[8, 7, 9], [10], [9, 6], [16, 4, 8], [9, 11, ...   \n",
       "36537  [[13, 8], [7, 13, 9], [8, 12, 6], [14, 4], [14...   \n",
       "36538  [[12, 14], [13, 13], [8, 12], [14, 14], [8, 7,...   \n",
       "36539  [[12, 11], [12, 12], [7, 9, 8], [17], [8, 8, 6...   \n",
       "\n",
       "                                                   label chunk_strategy  \\\n",
       "0      [[J, 스치는, 바람에, J, 그대, 모습, 보이면], [난, 오늘도, 조용히, ...           word   \n",
       "1      [[나는, 나는, 갯바위], [당신은, 나를, 사랑하는, 파도], [어느, 고운, ...           word   \n",
       "2      [[별이, 유난히도, 밝은], [오늘, 이, 시간이, 가면], [그대], [떠난다~...           word   \n",
       "3      [[당신의, 고운, 눈매에, 할말을, 잊었지만은], [냉정히, 돌아선, 무정한, 사...           word   \n",
       "4      [[그대의, 모습, 멀어져갔네], [쓸쓸한, 기억, 남기고], [낭만이, 지워진, ...           word   \n",
       "...                                                  ...            ...   \n",
       "36535  [[Scratch that bring it back, (Shook], [Ha), 네...           line   \n",
       "36536  [[우린 이 음악을 빌려, 이 분위기를 빌려, 지금 이 공기 이건 마치], [pin...           line   \n",
       "36537  [[사랑이었다 별거 없던 내 하루에, 빛이 돼준 단한 사람], [그땐 왜 몰랐을까,...           line   \n",
       "36538  [[바람에 날려 꽃이 지는 계절엔, 아직도 너의 손을 잡은 듯 그런 듯 해], [지...           line   \n",
       "36539  [[난 지금 널 향해 달려가고 있어, 숨이 턱까지 차올라 괜찮아], [가슴이 터질 ...           line   \n",
       "\n",
       "      sampling_strategy  syllable_limit  \n",
       "0                   one               0  \n",
       "1                   one               0  \n",
       "2                   one               0  \n",
       "3                   one               0  \n",
       "4                   one               0  \n",
       "...                 ...             ...  \n",
       "36535                 L              30  \n",
       "36536                 L              30  \n",
       "36537                 L              30  \n",
       "36538                 L              30  \n",
       "36539                 L              30  \n",
       "\n",
       "[36540 rows x 9 columns]"
      ]
     },
     "execution_count": 423,
     "metadata": {},
     "output_type": "execute_result"
    }
   ],
   "source": [
    "x"
   ]
  },
  {
   "cell_type": "markdown",
   "metadata": {},
   "source": [
    "### 1. 일단 곡으로 분석...?"
   ]
  },
  {
   "cell_type": "code",
   "execution_count": 424,
   "metadata": {},
   "outputs": [],
   "source": [
    "songs_only = x[['title', 'lyrics', 'genre']]"
   ]
  },
  {
   "cell_type": "code",
   "execution_count": 425,
   "metadata": {},
   "outputs": [
    {
     "name": "stderr",
     "output_type": "stream",
     "text": [
      "/tmp/ipykernel_1844387/2334859541.py:1: SettingWithCopyWarning: \n",
      "A value is trying to be set on a copy of a slice from a DataFrame\n",
      "\n",
      "See the caveats in the documentation: https://pandas.pydata.org/pandas-docs/stable/user_guide/indexing.html#returning-a-view-versus-a-copy\n",
      "  songs_only.drop_duplicates(inplace=True)\n"
     ]
    }
   ],
   "source": [
    "songs_only.drop_duplicates(inplace=True)"
   ]
  },
  {
   "cell_type": "code",
   "execution_count": 426,
   "metadata": {},
   "outputs": [
    {
     "data": {
      "text/plain": [
       "6090"
      ]
     },
     "execution_count": 426,
     "metadata": {},
     "output_type": "execute_result"
    }
   ],
   "source": [
    "len(songs_only)"
   ]
  },
  {
   "cell_type": "code",
   "execution_count": 427,
   "metadata": {},
   "outputs": [
    {
     "data": {
      "text/html": [
       "<div>\n",
       "<style scoped>\n",
       "    .dataframe tbody tr th:only-of-type {\n",
       "        vertical-align: middle;\n",
       "    }\n",
       "\n",
       "    .dataframe tbody tr th {\n",
       "        vertical-align: top;\n",
       "    }\n",
       "\n",
       "    .dataframe thead th {\n",
       "        text-align: right;\n",
       "    }\n",
       "</style>\n",
       "<table border=\"1\" class=\"dataframe\">\n",
       "  <thead>\n",
       "    <tr style=\"text-align: right;\">\n",
       "      <th></th>\n",
       "      <th>title</th>\n",
       "      <th>lyrics</th>\n",
       "      <th>genre</th>\n",
       "    </tr>\n",
       "  </thead>\n",
       "  <tbody>\n",
       "    <tr>\n",
       "      <th>2594</th>\n",
       "      <td>My Love</td>\n",
       "      <td>난 안되겠니 이생에서\\n다음 생에선 되겠니\\n약속한다면 오늘이 끝이라도\\n두렵지 않...</td>\n",
       "      <td>발라드, 국내드라마</td>\n",
       "    </tr>\n",
       "    <tr>\n",
       "      <th>3203</th>\n",
       "      <td>My Love</td>\n",
       "      <td>(나 이제 알아~~~) (가까이 와봐~~~)\\n내 곁에서 언제나 날 지켜주는 너\\n...</td>\n",
       "      <td>댄스</td>\n",
       "    </tr>\n",
       "    <tr>\n",
       "      <th>4567</th>\n",
       "      <td>My Love</td>\n",
       "      <td>사랑해 그 말은 무엇보다 아픈 말\\n숨죽여서 하는 말\\n이젠하기 힘든 말\\nOh 햇...</td>\n",
       "      <td>발라드</td>\n",
       "    </tr>\n",
       "  </tbody>\n",
       "</table>\n",
       "</div>"
      ],
      "text/plain": [
       "        title                                             lyrics       genre\n",
       "2594  My Love  난 안되겠니 이생에서\\n다음 생에선 되겠니\\n약속한다면 오늘이 끝이라도\\n두렵지 않...  발라드, 국내드라마\n",
       "3203  My Love  (나 이제 알아~~~) (가까이 와봐~~~)\\n내 곁에서 언제나 날 지켜주는 너\\n...          댄스\n",
       "4567  My Love  사랑해 그 말은 무엇보다 아픈 말\\n숨죽여서 하는 말\\n이젠하기 힘든 말\\nOh 햇...         발라드"
      ]
     },
     "execution_count": 427,
     "metadata": {},
     "output_type": "execute_result"
    }
   ],
   "source": [
    "songs_only[songs_only['title']=='My Love']"
   ]
  },
  {
   "cell_type": "markdown",
   "metadata": {},
   "source": [
    "- 총 6090개의 곡으로 훈련을 진행하게 됨\n",
    "- top100(50)을 싹 끌어모은 것 치고 적지 않나 생각할 수 있는데, 애초에 top100에 한 번 올라간 노래는 다음 월 차트에도 안 떨어지고 있을 가능성이 있으니, 중복 제거를 해주고 나면 다 이렇게 됨\n",
    "- 더 중요한건, 이 6090의 곡을 통째로 넣는 샘플만 학습에 사용하지는 않을 것\n",
    "    - 첫째로, 나중에 나오겠지만 그냥 곡 전체를 생성하는건 사람이 봐도 힘듬\n",
    "    - 둘째로, 그런 시나리오만 원하는 유저는 매우 적을 것\n",
    "- 곡의 일부분(몇 뭉치)만 생성하고자 하는 니즈가 훨씬 많을 것이고, 이를 위해 이 긴 하나의 통 가사를 어떻게 잘라서 훈련 샘플로 만들어 줄 것인지가 매우 중요해짐\n",
    "    - 유저의 니즈에 맞춰서 그에 대응되는 시나리오를 학습할 수 있게 하기 위함\n",
    "- 물론, 실제 유저의 니즈가 어떤지 정확하게 알 수는 없음; 다만 앞서 말했듯 곡 전체 버전의 샘플만 훈련시키는 것은 비효율+비강건한 방법\n",
    "    - 나름의 논리적인 가설을 세워서 훈련 샘플을 만들어 줄 것"
   ]
  },
  {
   "cell_type": "code",
   "execution_count": 428,
   "metadata": {},
   "outputs": [],
   "source": [
    "genre_counts = dict()\n",
    "for k, v in songs_only['genre'].value_counts().to_dict().items():\n",
    "    k = k.split(',')\n",
    "    for i in k:\n",
    "        i = i.strip()\n",
    "        if i not in genre_counts:\n",
    "            genre_counts[i] = 0\n",
    "        genre_counts[i] += v"
   ]
  },
  {
   "cell_type": "code",
   "execution_count": 429,
   "metadata": {},
   "outputs": [
    {
     "data": {
      "text/plain": [
       "{'발라드': 2506,\n",
       " '댄스': 1533,\n",
       " '랩/힙합': 698,\n",
       " '록/메탈': 591,\n",
       " 'R&B/Soul': 380,\n",
       " '성인가요/트로트': 208,\n",
       " '포크/블루스': 195,\n",
       " '국내드라마': 106,\n",
       " '인디음악': 105,\n",
       " '일렉트로니카': 20,\n",
       " '국내영화': 23,\n",
       " '-': 12,\n",
       " 'POP': 9,\n",
       " 'J-POP': 6,\n",
       " '클래식': 1,\n",
       " '크로스오버': 1,\n",
       " '교향/관현악': 1,\n",
       " '애니메이션/웹툰': 2,\n",
       " '키즈': 1,\n",
       " '만화': 1,\n",
       " '재즈': 3,\n",
       " '보컬재즈': 2,\n",
       " '애시드/퓨전/팝': 2}"
      ]
     },
     "execution_count": 429,
     "metadata": {},
     "output_type": "execute_result"
    }
   ],
   "source": [
    "genre_counts"
   ]
  },
  {
   "cell_type": "code",
   "execution_count": 430,
   "metadata": {},
   "outputs": [
    {
     "data": {
      "text/plain": [
       "<BarContainer object of 23 artists>"
      ]
     },
     "execution_count": 430,
     "metadata": {},
     "output_type": "execute_result"
    },
    {
     "data": {
      "image/png": "[encoded data removed]",
      "text/plain": [
       "<Figure size 2000x1000 with 1 Axes>"
      ]
     },
     "metadata": {},
     "output_type": "display_data"
    }
   ],
   "source": [
    "plt.figure(figsize=(20, 10))\n",
    "plt.bar(genre_counts.keys(), genre_counts.values())"
   ]
  },
  {
   "cell_type": "markdown",
   "metadata": {},
   "source": [
    "J-POP이나 클래식 같은건 또 다 빼야할 것으로 생각이 됨"
   ]
  },
  {
   "cell_type": "code",
   "execution_count": 431,
   "metadata": {},
   "outputs": [
    {
     "data": {
      "text/plain": [
       "13"
      ]
     },
     "execution_count": 431,
     "metadata": {},
     "output_type": "execute_result"
    }
   ],
   "source": [
    "sum(len(word) for word in re.findall(r'[가-힣]+', \"힘들다 정말 집좀 보내주라 제발 GG\"))"
   ]
  },
  {
   "cell_type": "code",
   "execution_count": 432,
   "metadata": {},
   "outputs": [
    {
     "name": "stderr",
     "output_type": "stream",
     "text": [
      "/tmp/ipykernel_1844387/1494649209.py:4: SettingWithCopyWarning: \n",
      "A value is trying to be set on a copy of a slice from a DataFrame.\n",
      "Try using .loc[row_indexer,col_indexer] = value instead\n",
      "\n",
      "See the caveats in the documentation: https://pandas.pydata.org/pandas-docs/stable/user_guide/indexing.html#returning-a-view-versus-a-copy\n",
      "  songs_only['num_korean_total_syllable'] = songs_only['lyrics'].apply(lambda x: sum(len(word) for word in re.findall(r'[가-힣]+', x)))\n",
      "/tmp/ipykernel_1844387/1494649209.py:7: SettingWithCopyWarning: \n",
      "A value is trying to be set on a copy of a slice from a DataFrame.\n",
      "Try using .loc[row_indexer,col_indexer] = value instead\n",
      "\n",
      "See the caveats in the documentation: https://pandas.pydata.org/pandas-docs/stable/user_guide/indexing.html#returning-a-view-versus-a-copy\n",
      "  songs_only['num_total_syllable'] = songs_only['lyrics'].apply(lambda x: sum(len(word) for word in re.findall(r'[가-힣]+|[a-zA-Z]+', x)))\n",
      "/tmp/ipykernel_1844387/1494649209.py:10: SettingWithCopyWarning: \n",
      "A value is trying to be set on a copy of a slice from a DataFrame.\n",
      "Try using .loc[row_indexer,col_indexer] = value instead\n",
      "\n",
      "See the caveats in the documentation: https://pandas.pydata.org/pandas-docs/stable/user_guide/indexing.html#returning-a-view-versus-a-copy\n",
      "  songs_only['check_only_korean'] = songs_only['lyrics'].apply(lambda x: True if re.fullmatch(r'[\\uac00-\\ud7af\\u1100-\\u11ff\\u3130-\\u318f\\uffa0-\\uffdc\\s]+', x) else False)\n"
     ]
    }
   ],
   "source": [
    "# 가사 당 한글 가사 길이 계산\n",
    "\n",
    "# Count the number of Korean characters\n",
    "songs_only['num_korean_total_syllable'] = songs_only['lyrics'].apply(lambda x: sum(len(word) for word in re.findall(r'[가-힣]+', x)))\n",
    "\n",
    "# Count the number of Korean and English characters\n",
    "songs_only['num_total_syllable'] = songs_only['lyrics'].apply(lambda x: sum(len(word) for word in re.findall(r'[가-힣]+|[a-zA-Z]+', x)))\n",
    "\n",
    "# Check if the lyrics contain only Korean characters\n",
    "songs_only['check_only_korean'] = songs_only['lyrics'].apply(lambda x: True if re.fullmatch(r'[\\uac00-\\ud7af\\u1100-\\u11ff\\u3130-\\u318f\\uffa0-\\uffdc\\s]+', x) else False)"
   ]
  },
  {
   "cell_type": "code",
   "execution_count": 433,
   "metadata": {},
   "outputs": [
    {
     "data": {
      "image/png": "[encoded data removed]",
      "text/plain": [
       "<Figure size 1200x600 with 2 Axes>"
      ]
     },
     "metadata": {},
     "output_type": "display_data"
    }
   ],
   "source": [
    "# Create a figure and two subplots\n",
    "fig, (ax1, ax2) = plt.subplots(1, 2, figsize=(12, 6))\n",
    "\n",
    "# Plot the histogram of num_korean_total_syllable on the left subplot\n",
    "ax1.hist(x=songs_only[songs_only['check_only_korean'] == True]['num_korean_total_syllable'], bins=100)\n",
    "ax1.set_title('Korean Syllables per Lyrics')\n",
    "\n",
    "# Plot the histogram of num_total_syllable on the right subplot\n",
    "ax2.hist(x=songs_only['num_total_syllable'], bins=100)\n",
    "ax2.set_title('Total Syllables per Lyrics')\n",
    "\n",
    "# Adjust the spacing between subplots\n",
    "plt.subplots_adjust(wspace=0.3)\n",
    "\n",
    "# Show the plot\n",
    "plt.show()"
   ]
  },
  {
   "cell_type": "code",
   "execution_count": 434,
   "metadata": {},
   "outputs": [
    {
     "data": {
      "text/plain": [
       "330.8229398663697"
      ]
     },
     "execution_count": 434,
     "metadata": {},
     "output_type": "execute_result"
    }
   ],
   "source": [
    "sum(songs_only[songs_only['check_only_korean'] == True]['num_korean_total_syllable']) / len(songs_only[songs_only['check_only_korean'] == True]['num_korean_total_syllable'])"
   ]
  },
  {
   "cell_type": "markdown",
   "metadata": {},
   "source": [
    "- 우선은 한글 가사를 생성하는 것에 목적을 둠\n",
    "    - 가사로부터 뭉치를 추출하는 것이 영어에 비해 훨씬 쉽기 때문 (글자수 = 뭉치)\n",
    "- 하지만, 그렇다고 영어가 들어간 모든 가사를 훈련에 쓰지 못하는 것은 아님\n",
    "    - 앞서 말했듯, 가사를 나눠서 샘플을 만들기 때문에, 영어가 들어간 부분만 제외하고 샘플을 만들 수 있음\n",
    "- 그냥 쌩 가사 데이터의 분포보다도, 어떤 샘플링 방법을 채택했을 때, 가사가 어떻게 나누어져서 데이터셋이 어떤 분포를 띄고, 어떤 특징을 띄는 지가 중요함\n",
    "    - **샘플이 납득할 수 있는 길이의 가사를 포함하는가?**"
   ]
  },
  {
   "cell_type": "markdown",
   "metadata": {},
   "source": [
    "- 여기서 정의하길, rule-based로 안전하게 가사를 쪼갤 수 있는 기준은 스페이스(단어 단위)와 개행이 있다고 정의할 것\n",
    "- 이 때, 스페이스 기준으로 자른 샘플은 납득 가능할 수 있는 정도의 길이의 가사를 포함하는가? NO\n",
    "    - 길이도 너무 짧아지고,\n",
    "    - 스페이스 기준으로 자른 것이 안전할 수 있다는 보장도 없음 (Ex. 이 곳에)\n",
    "- 개행으로 자른 샘플은 납득 가능할 수 있는 정도의 길이의 가사를 포함하는가? 최소한도로서의 역할은 할 수 있을것이라고 생각 (직관적으로)\n",
    "- 개행으로 자른 샘플이 최소 한도가 되도록 함(최소 한 샘플에 원래 가사의 한 줄 정도가 들어가도록 하고, 그 이상을 어떻게 골고루 채워줄 것인지 생각)\n",
    "- 숨은 전제: 적어도 한 유저가 모델에 가사를 요청할 때는, 한 줄 정도는 요청할 것.\n",
    "    - 유저마다 그 생각하는 최소 길이(한 줄)이 다르지 않을까요? -> watch this\n",
    "- 실제 벅스 가사"
   ]
  },
  {
   "cell_type": "markdown",
   "metadata": {},
   "source": [
    "## 2. 최소 단위, 개행"
   ]
  },
  {
   "cell_type": "code",
   "execution_count": 435,
   "metadata": {},
   "outputs": [
    {
     "data": {
      "text/plain": [
       "Index(['title', 'lyrics', 'genre', 'num_korean_total_syllable',\n",
       "       'num_total_syllable', 'check_only_korean'],\n",
       "      dtype='object')"
      ]
     },
     "execution_count": 435,
     "metadata": {},
     "output_type": "execute_result"
    }
   ],
   "source": [
    "songs_only.columns"
   ]
  },
  {
   "cell_type": "code",
   "execution_count": 436,
   "metadata": {},
   "outputs": [
    {
     "name": "stderr",
     "output_type": "stream",
     "text": [
      "/tmp/ipykernel_1844387/2609047710.py:5: SettingWithCopyWarning: \n",
      "A value is trying to be set on a copy of a slice from a DataFrame.\n",
      "Try using .loc[row_indexer,col_indexer] = value instead\n",
      "\n",
      "See the caveats in the documentation: https://pandas.pydata.org/pandas-docs/stable/user_guide/indexing.html#returning-a-view-versus-a-copy\n",
      "  songs_only['lines'] = songs_only['lyrics'].apply(lambda x: x.split('\\n'))\n",
      "/tmp/ipykernel_1844387/2609047710.py:26: SettingWithCopyWarning: \n",
      "A value is trying to be set on a copy of a slice from a DataFrame.\n",
      "Try using .loc[row_indexer,col_indexer] = value instead\n",
      "\n",
      "See the caveats in the documentation: https://pandas.pydata.org/pandas-docs/stable/user_guide/indexing.html#returning-a-view-versus-a-copy\n",
      "  songs_only['syllables_per_line'] = syllables_per_line\n",
      "/tmp/ipykernel_1844387/2609047710.py:27: SettingWithCopyWarning: \n",
      "A value is trying to be set on a copy of a slice from a DataFrame.\n",
      "Try using .loc[row_indexer,col_indexer] = value instead\n",
      "\n",
      "See the caveats in the documentation: https://pandas.pydata.org/pandas-docs/stable/user_guide/indexing.html#returning-a-view-versus-a-copy\n",
      "  songs_only['line_samples'] = real_lines\n"
     ]
    }
   ],
   "source": [
    "# Initialize an empty list to hold the counts\n",
    "counts = []\n",
    "syllables_per_line = []\n",
    "real_lines = []\n",
    "songs_only['lines'] = songs_only['lyrics'].apply(lambda x: x.split('\\n'))\n",
    "\n",
    "# Iterate over each song\n",
    "for lines in songs_only['lines']:\n",
    "    syllables_for_this_line = list()\n",
    "    real_line = list()\n",
    "    # Iterate over each line in the song\n",
    "    for line in lines:\n",
    "        # Check if the line only contains Korean characters\n",
    "        if re.fullmatch(r'[\\uac00-\\ud7af\\u1100-\\u11ff\\u3130-\\u318f\\uffa0-\\uffdc\\s]+', line):\n",
    "            real_line.append(line)\n",
    "            # Count the number of Korean characters and add it to the list\n",
    "            count = len([char for char in line if char != ' '])\n",
    "            if count > 30:\n",
    "                print(line)\n",
    "                print(lines)\n",
    "            counts.append(count)\n",
    "            syllables_for_this_line.append(count)\n",
    "    syllables_per_line.append(syllables_for_this_line)\n",
    "    real_lines.append(real_line)\n",
    "    \n",
    "songs_only['syllables_per_line'] = syllables_per_line\n",
    "songs_only['line_samples'] = real_lines"
   ]
  },
  {
   "cell_type": "code",
   "execution_count": 437,
   "metadata": {},
   "outputs": [
    {
     "name": "stdout",
     "output_type": "stream",
     "text": [
      "238920\n",
      "9.176025447848652\n"
     ]
    }
   ],
   "source": [
    "print(len(counts))\n",
    "mean = sum(counts) / len(counts)\n",
    "print(mean)"
   ]
  },
  {
   "cell_type": "code",
   "execution_count": 438,
   "metadata": {},
   "outputs": [
    {
     "data": {
      "text/plain": [
       "(array([1.5900e+02, 5.8700e+02, 2.0460e+03, 5.4560e+03, 1.2739e+04,\n",
       "        2.1007e+04, 3.0209e+04, 3.3574e+04, 3.0320e+04, 2.9027e+04,\n",
       "        2.3278e+04, 2.1306e+04, 1.2989e+04, 7.8830e+03, 3.3520e+03,\n",
       "        1.9080e+03, 9.2500e+02, 8.1600e+02, 4.8300e+02, 2.8400e+02,\n",
       "        1.7500e+02, 1.2600e+02, 1.0600e+02, 7.2000e+01, 3.3000e+01,\n",
       "        2.2000e+01, 1.7000e+01, 9.0000e+00, 1.2000e+01]),\n",
       " array([ 1.,  2.,  3.,  4.,  5.,  6.,  7.,  8.,  9., 10., 11., 12., 13.,\n",
       "        14., 15., 16., 17., 18., 19., 20., 21., 22., 23., 24., 25., 26.,\n",
       "        27., 28., 29., 30.]),\n",
       " <BarContainer object of 29 artists>)"
      ]
     },
     "execution_count": 438,
     "metadata": {},
     "output_type": "execute_result"
    },
    {
     "data": {
      "image/png": "[encoded data removed]",
      "text/plain": [
       "<Figure size 640x480 with 1 Axes>"
      ]
     },
     "metadata": {},
     "output_type": "display_data"
    }
   ],
   "source": [
    "plt.hist(counts, bins=range(min(counts), max(counts) + 1)) "
   ]
  },
  {
   "cell_type": "markdown",
   "metadata": {},
   "source": [
    "- 한 줄에 평균적으로 9음절이 포함되어있음\n",
    "- 한 줄을 요청 가사의 최소 길이로 생각한다면, 최소 평균 9음절을 요청하는 셈\n",
    "- 단, 이는 훈련이 최소 9음절 이상인 샘플들로만 이루어지는 것을 뜻하는 것은 아님\n",
    "- lowerbound의 평균이 9음절이 되는것\n",
    "- 음절 단위로 '최소 9음절 이상만 학습하자!'가 아니라, 줄 단위로 '최소 한 줄 이상은 학습하자!'인 것이고, 이에 따라 각 노래마다 한 줄이라는 것이 다양하기 때문에 줄 단위로 끊었을 때 다양한 길이로 학습이 될 수 있고, 평균적으로 9음절을 생성하도록 하는 샘플로 학습이 되는 것! EASY!\n",
    "- 단, 한 줄 단위로 자른 샘플이 한 곡에서 나오는 '최소' 길이의 샘플이니, rule-based하게 30을 기준으로 이보다 긴 한 줄이 있을 경우, 손수 잘라줬음\n",
    "    - 몇 개 안 됨\n",
    "    - 30 이상의 이상치 11곡은, 다른 사이트 참고해서 수정 함"
   ]
  },
  {
   "cell_type": "markdown",
   "metadata": {},
   "source": [
    "## 3. 충분한가"
   ]
  },
  {
   "cell_type": "markdown",
   "metadata": {},
   "source": [
    "- 가사를 전체 다 넣는 샘플만으로는 유저의 입력을 모두 커버할 수 없기에, 줄 단위로 잘라줬음\n",
    "- 유저의 입력 길이는 아주 다양할 것, 그 중에 최소가 한 줄일 것으로 예상했고, 그렇게 했을 때 평균적을 9음절이 최소 샘플이 되게 함\n",
    "    - 최소 치고 9 너무 길지 않나요?\n",
    "    - \"또 한 번 느껴지는 하루\"\n",
    "    - 말씀드렸듯, 평균이 9이고 훨씬 짧은 것도 훈련하게 된다\n",
    "- 최소 단위고 줄 단위였다면, 최대 단위는 어떻게 될까?\n",
    "- 너무나 당연하게도, 한 곡 전체가 최대일 것!    \n",
    "    - 한 곡에 대해 유저는 최소 한 줄의 가사를 요청하고, 최대 한 곡의 가사를 요청한다 -> Trivial!\n",
    "- 그래서 한 줄 짜리들 샘플도 만들어주고, 한 곡 짜리의 샘플도 만들어주기로 함.\n",
    "- 이걸로 충분할까?"
   ]
  },
  {
   "cell_type": "code",
   "execution_count": 439,
   "metadata": {},
   "outputs": [],
   "source": [
    "min_counts = counts\n",
    "max_counts = songs_only[songs_only['check_only_korean'] == True]['num_korean_total_syllable'].to_list()"
   ]
  },
  {
   "cell_type": "code",
   "execution_count": 440,
   "metadata": {},
   "outputs": [
    {
     "data": {
      "image/png": "[encoded data removed]",
      "text/plain": [
       "<Figure size 640x480 with 1 Axes>"
      ]
     },
     "metadata": {},
     "output_type": "display_data"
    }
   ],
   "source": [
    "plt.hist(min_counts, bins=range(min(min_counts), max(min_counts) + 1), alpha=0.5, label='Line Counts', color='blue')\n",
    "plt.hist(max_counts, bins=range(min(max_counts), max(max_counts) + 1), alpha=0.5, label='Song Counts', color='red')\n",
    "\n",
    "plt.axvline(x=11, color='skyblue', linestyle='--', linewidth=1, label='Line Mean')\n",
    "plt.axvline(x=333, color='pink', linestyle='--', linewidth=1, label='Song Mean')\n",
    "\n",
    "\n",
    "plt.yscale('log')\n",
    "plt.xticks(range(100, max(max_counts), 100))\n",
    "plt.legend(loc='upper right')\n",
    "plt.show()"
   ]
  },
  {
   "cell_type": "markdown",
   "metadata": {},
   "source": [
    "- log scale로 ploting해봤음\n",
    "- 짧은 길이의 샘플들이 더 많아야 한다는 것까지는 OK.\n",
    "- 근데 지금의 이 상태로는, 중간이 너무 텅 빔\n",
    "    - 이게 무슨 뜻이냐, 짧은 길이의 한 줄이나 긴 길이의 한 곡에 대한 대응밖에 못한다. 중간 출력을 못한다!\n",
    "- 저 30부터 250정도 까지를 잘 채워줄 수 있는 데이터가 필요함\n",
    "- 말로 풀어 설명하자면, 최소 단위인 줄 기준으로 자른 샘플과 최대 단위인 곡 전체를 사용하는 샘플만으로 학습하면, 그 중간 정도의 유저 입력에 대응할 수 없으니, 그 사이를 채울 수 있는 샘플을 만들어주자!"
   ]
  },
  {
   "cell_type": "markdown",
   "metadata": {},
   "source": [
    "-----발표 제외-----\n",
    "\n",
    "- 평균 한 줄의 음절 수가 9였고, 채워져야 하는 중간이 140 정도니까, 일단 rule-based로 14줄씩 합쳐주면 어떻게 될까?\n",
    "    - 단 마지막 샘플은 14줄 아니어도 다 합쳐주되 한 줄은 아니어야 함"
   ]
  },
  {
   "cell_type": "code",
   "execution_count": 441,
   "metadata": {},
   "outputs": [
    {
     "data": {
      "text/plain": [
       "0       [난 오늘도 조용히 그댈 그리워하네, 내 가슴 속깊이 여울져 남아 있네, 난 이밤도...\n",
       "1       [나는 나는 갯바위, 당신은 나를 사랑하는 파도, 어느 고운 바람 불던날, 잔잔히 ...\n",
       "2       [별이 유난히도 밝은, 오늘 이 시간이 가면, 그대, 이 밤 다가도록, 자꾸 귓가를...\n",
       "3       [당신의 고운 눈매에 할말을 잊었지만은, 냉정히 돌아선 무정한 사람은 눈물을 모르겠...\n",
       "4       [그대의 모습 멀어져갔네, 쓸쓸한 기억 남기고, 낭만이 지워진 그 길로, 조용히 멀...\n",
       "                              ...                        \n",
       "6085    [네 앞에선, 난 어질 어질 어질 두통, 또 돌고 돌아, 비상이 걸려, 버 버퍼링이...\n",
       "6086    [우린 이 음악을 빌려, 이 분위기를 빌려, 지금 이 공기 이건 마치, 낯선 과일 ...\n",
       "6087    [사랑이었다 별거 없던 내 하루에, 빛이 돼준 단한 사람, 나보다 나를 더 아껴 주...\n",
       "6088    [바람에 날려 꽃이 지는 계절엔, 아직도 너의 손을 잡은 듯 그런 듯 해, 그때는 ...\n",
       "6089    [난 지금 널 향해 달려가고 있어, 숨이 턱까지 차올라 괜찮아, 잠시 후 널 마주할...\n",
       "Name: line_samples, Length: 6090, dtype: object"
      ]
     },
     "execution_count": 441,
     "metadata": {},
     "output_type": "execute_result"
    }
   ],
   "source": [
    "songs_only['line_samples']"
   ]
  },
  {
   "cell_type": "code",
   "execution_count": 442,
   "metadata": {},
   "outputs": [
    {
     "name": "stderr",
     "output_type": "stream",
     "text": [
      "/tmp/ipykernel_1844387/2671436761.py:1: SettingWithCopyWarning: \n",
      "A value is trying to be set on a copy of a slice from a DataFrame.\n",
      "Try using .loc[row_indexer,col_indexer] = value instead\n",
      "\n",
      "See the caveats in the documentation: https://pandas.pydata.org/pandas-docs/stable/user_guide/indexing.html#returning-a-view-versus-a-copy\n",
      "  songs_only['mid_14_sample'] = songs_only['line_samples'].apply(\n"
     ]
    },
    {
     "data": {
      "text/plain": [
       "0       [난 오늘도 조용히 그댈 그리워하네\\n내 가슴 속깊이 여울져 남아 있네\\n난 이밤도...\n",
       "1       [나는 나는 갯바위\\n당신은 나를 사랑하는 파도\\n어느 고운 바람 불던날\\n잔잔히 ...\n",
       "2       [별이 유난히도 밝은\\n오늘 이 시간이 가면\\n그대\\n이 밤 다가도록\\n자꾸 귓가를...\n",
       "3       [당신의 고운 눈매에 할말을 잊었지만은\\n냉정히 돌아선 무정한 사람은 눈물을 모르겠...\n",
       "4       [그대의 모습 멀어져갔네\\n쓸쓸한 기억 남기고\\n낭만이 지워진 그 길로\\n조용히 멀...\n",
       "                              ...                        \n",
       "6085    [네 앞에선\\n난 어질 어질 어질 두통\\n또 돌고 돌아\\n비상이 걸려\\n버 버퍼링이...\n",
       "6086    [우린 이 음악을 빌려\\n이 분위기를 빌려\\n지금 이 공기 이건 마치\\n낯선 과일 ...\n",
       "6087    [사랑이었다 별거 없던 내 하루에\\n빛이 돼준 단한 사람\\n나보다 나를 더 아껴 주...\n",
       "6088    [바람에 날려 꽃이 지는 계절엔\\n아직도 너의 손을 잡은 듯 그런 듯 해\\n그때는 ...\n",
       "6089    [난 지금 널 향해 달려가고 있어\\n숨이 턱까지 차올라 괜찮아\\n잠시 후 널 마주할...\n",
       "Name: mid_14_sample, Length: 6090, dtype: object"
      ]
     },
     "execution_count": 442,
     "metadata": {},
     "output_type": "execute_result"
    }
   ],
   "source": [
    "songs_only['mid_14_sample'] = songs_only['line_samples'].apply(\n",
    "    lambda lines: ['\\n'.join(lines[i:i+14]) for i in range(0, len(lines), 14) if len(lines[i:i+14]) != 1]\n",
    ")\n",
    "songs_only['mid_14_sample']"
   ]
  },
  {
   "cell_type": "code",
   "execution_count": 443,
   "metadata": {},
   "outputs": [
    {
     "data": {
      "image/png": "[encoded data removed]",
      "text/plain": [
       "<Figure size 1000x600 with 1 Axes>"
      ]
     },
     "metadata": {},
     "output_type": "display_data"
    },
    {
     "name": "stdout",
     "output_type": "stream",
     "text": [
      "156.7483003708282\n"
     ]
    }
   ],
   "source": [
    "# Flatten the list of lists and calculate the length of each merged string\n",
    "merged_lengths = [len(sample) for sublist in songs_only['mid_14_sample'] for sample in sublist]\n",
    "\n",
    "# Plotting the histogram\n",
    "plt.figure(figsize=(10, 6))\n",
    "plt.hist(merged_lengths, bins=20, color='green')\n",
    "plt.title('Histogram of Merged String Lengths')\n",
    "plt.xlabel('Length of Merged Strings')\n",
    "plt.ylabel('Frequency')\n",
    "plt.show()\n",
    "print(sum(merged_lengths)/len(merged_lengths))"
   ]
  },
  {
   "cell_type": "code",
   "execution_count": 444,
   "metadata": {},
   "outputs": [
    {
     "data": {
      "image/png": "[encoded data removed]",
      "text/plain": [
       "<Figure size 640x480 with 1 Axes>"
      ]
     },
     "metadata": {},
     "output_type": "display_data"
    }
   ],
   "source": [
    "plt.hist(min_counts, bins=range(min(min_counts), max(min_counts) + 1), alpha=0.5, label='Line Counts', color='blue')\n",
    "plt.hist(merged_lengths, bins=range(min(merged_lengths), max(merged_lengths) + 1), alpha=0.5, label='Rule-based Merged Counts', color='green')\n",
    "plt.hist(max_counts, bins=range(min(max_counts), max(max_counts) + 1), alpha=0.5, label='Song Counts', color='red')\n",
    "\n",
    "plt.axvline(x=11, color='skyblue', linestyle='--', linewidth=1, label='Line Mean')\n",
    "plt.axvline(x=156, color='lightgreen', linestyle='--', linewidth=1, label='Rule-based Merged Mean')\n",
    "plt.axvline(x=333, color='pink', linestyle='--', linewidth=1, label='Song Mean')\n",
    "\n",
    "\n",
    "plt.yscale('log')\n",
    "plt.xticks(range(100, max(max_counts), 100))\n",
    "plt.legend(loc='upper right')\n",
    "plt.show()"
   ]
  },
  {
   "cell_type": "code",
   "execution_count": 445,
   "metadata": {},
   "outputs": [
    {
     "data": {
      "image/png": "[encoded data removed]",
      "text/plain": [
       "<Figure size 640x480 with 1 Axes>"
      ]
     },
     "metadata": {},
     "output_type": "display_data"
    }
   ],
   "source": [
    "rule_based_total = min_counts + max_counts + merged_lengths\n",
    "\n",
    "plt.hist(rule_based_total, bins=range(min(rule_based_total), max(rule_based_total) + 1,20), alpha=0.5, label='Line Counts', color='black')\n",
    "\n",
    "plt.yscale('log')\n",
    "plt.xticks(range(100, max(rule_based_total), 100))\n",
    "plt.legend(loc='upper right')\n",
    "plt.show()"
   ]
  },
  {
   "cell_type": "markdown",
   "metadata": {},
   "source": [
    "- 뭐 이렇게 할 수도 있긴 한데, 좀 더 한 줄과 한 노래 사이의 더 그럴듯한, 즉 통계적으로 14줄 이게 아니라, 좀 잘라도 될법한 곳을 찾아보면 어떨까?\n",
    "- 생각해보니, 노래는 그 특징상 반복 구절을 포함하는 경우들이 있다"
   ]
  },
  {
   "cell_type": "markdown",
   "metadata": {},
   "source": [
    "-----발표제외-----"
   ]
  },
  {
   "cell_type": "markdown",
   "metadata": {},
   "source": [
    "- 노래 한 줄과 노래 하나 사이의 의미 있는 단위? -> 절!\n",
    "- 절 어떻게 찾지?\n",
    "    - 후렴을 찾으면 절을 찾을 수 있다고 가정"
   ]
  },
  {
   "cell_type": "code",
   "execution_count": 446,
   "metadata": {},
   "outputs": [],
   "source": [
    "input_string1=\"\"\"네가 없이 웃을 수 있을까\n",
    "생각만 해도 눈물이나\n",
    "힘든 시간 날 지켜준 사람\n",
    "이제는 내가 그댈 지킬 테니\n",
    "너의 품은 항상 따뜻했어\n",
    "고단했던 나의 하루에\n",
    "유일한 휴식처\n",
    "나는 너 하나로 충분해\n",
    "긴 말 안 해도 눈빛으로 다 아니깐\n",
    "한 송이의 꽃이 피고 지는\n",
    "모든 날 모든 순간 함께해\n",
    "햇살처럼 빛나고 있었지\n",
    "나를 보는 네 눈빛은\n",
    "꿈이라고 해도 좋을 만큼\n",
    "그 모든 순간은 눈부셨다\n",
    "불안했던 나의 고된 삶에\n",
    "한줄기 빛처럼 다가와\n",
    "날 웃게 해준 너\n",
    "나는 너 하나로 충분해\n",
    "긴 말 안 해도 눈빛으로 다 아니깐\n",
    "한 송이의 꽃이 피고 지는\n",
    "모든 날 모든 순간 함께해\n",
    "알 수 없는 미래지만\n",
    "네 품속에 있는 지금 순간 순간이\n",
    "영원 했으면 해\n",
    "갈게 바람이 좋은 날에\n",
    "햇살 눈부신 어떤 날에 너에게로\n",
    "처음 내게 왔던 그날처럼\n",
    "모든 날 모든 순간 함께해\"\"\"\n",
    "\n",
    "input_string2=\"\"\"이 밤 그날의 반딧불을\n",
    "당신의 창 가까이 보낼게요\n",
    "음 사랑한다는 말이에요\n",
    "나 우리의 첫 입맞춤을 떠올려\n",
    "그럼 언제든 눈을 감고\n",
    "음 가장 먼 곳으로 가요\n",
    "난 파도가 머물던\n",
    "모래 위에 적힌 글씨처럼\n",
    "그대가 멀리 사라져 버릴 것 같아\n",
    "늘 그리워 그리워\n",
    "여기 내 마음속에\n",
    "모든 말을 다 꺼내어 줄 순 없지만\n",
    "사랑한다는 말이에요\n",
    "어떻게 나에게\n",
    "그대란 행운이 온 걸까\n",
    "지금 우리 함께 있다면 아\n",
    "얼마나 좋을까요\n",
    "난 파도가 머물던\n",
    "모래 위에 적힌 글씨처럼\n",
    "그대가 멀리 사라져 버릴 것 같아\n",
    "또 그리워 더 그리워\n",
    "나의 일기장 안에\n",
    "모든 말을 다 꺼내어 줄 순 없지만\n",
    "사랑한다는 말\n",
    "이 밤 그날의 반딧불을 당신의\n",
    "창 가까이 띄울게요\n",
    "음 좋은 꿈 이길 바라요\"\"\"\n",
    "\n",
    "input_string3=\"\"\"흔들리는 꽃들 속에서\n",
    "네 샴푸향이 느껴진거야\n",
    "스쳐지나간건가 뒤돌아보지만\n",
    "그냥 사람들만 보이는거야\n",
    "다와가는 집근처에서\n",
    "괜히 핸드폰만 만지는거야\n",
    "한번 연락해 볼까 용기내 보지만\n",
    "그냥 내 마음만 아쉬운 거야\n",
    "걷다가 보면 항상 이렇게 너를\n",
    "바라만 보던 너를\n",
    "기다린다고 말할까\n",
    "지금 집앞에 계속 이렇게 너를\n",
    "아쉬워 하다 너를 연락했다 할까\n",
    "지나치는 꽃들 속에서\n",
    "네 샴푸향만 보이는거야\n",
    "스쳐지나간건가 뒤 돌아보지만\n",
    "그냥 내 마음만 바빠진거야\n",
    "걷다가 보면 항상 이렇게 너를\n",
    "바라만 보던 너를\n",
    "기다린다고 말할까\n",
    "지금 집앞에 계속 이렇게 너를\n",
    "아쉬워 하다 너를 연락했다 할까\n",
    "어떤 계절이 너를\n",
    "우연히라도 너를 마주치게 할까\n",
    "난 이대로 아쉬워하다\n",
    "너를 바라만 보던 너를\n",
    "기다리면서 아무말 못하고\n",
    "그리워만 할까\n",
    "걷다가 보면 항상 이렇게 너를\n",
    "바라만 보던 너를\n",
    "생각한다고 말할까\n",
    "지금 집앞에 기다리고\n",
    "때론 지나치고 다시 기다리는\n",
    "꽃이 피는 거리에 보고파라 이밤에\n",
    "걷다가 보면 항상 이렇게 너를\n",
    "아쉬워 하다 너를\n",
    "기다린다고 말할까\n",
    "지금 집앞에 계속 이렇게 너를\n",
    "아쉬워 하다 너를 연락했다 할까\"\"\""
   ]
  },
  {
   "cell_type": "code",
   "execution_count": 447,
   "metadata": {},
   "outputs": [
    {
     "name": "stdout",
     "output_type": "stream",
     "text": [
      "The lines with the highest frequency are: [['난 파도가 머물던', '모래 위에 적힌 글씨처럼', '그대가 멀리 사라져 버릴 것 같아']]\n"
     ]
    }
   ],
   "source": [
    "import itertools\n",
    "\n",
    "def find_pseudo_chorus(lines):\n",
    "    subsequences = defaultdict(list)\n",
    "\n",
    "    max_len = len(lines) // 2\n",
    "\n",
    "    for length in range(1, max_len):\n",
    "        for start in range(len(lines) - length + 1):\n",
    "            subseq = tuple(lines[start:start+length])\n",
    "            subsequences[subseq].append(start)\n",
    "\n",
    "    def are_indices_disjoint(indices, length):\n",
    "        for i, j in itertools.combinations(indices, 2):\n",
    "            if not (j >= i + length or i >= j + length):\n",
    "                return False\n",
    "        return True\n",
    "    longest_common = []\n",
    "    for subseq, indices in subsequences.items():\n",
    "        if len(indices) > 1 and are_indices_disjoint(indices, len(subseq)):\n",
    "            if not longest_common or len(subseq) > len(longest_common[0]):\n",
    "                longest_common = [subseq]\n",
    "            elif len(subseq) == len(longest_common[0]):\n",
    "                longest_common.append(subseq)\n",
    "\n",
    "    return [list(subseq) for subseq in longest_common]\n",
    "\n",
    "# Example usage\n",
    "lines = [i for i in input_string2.split('\\n') if i]\n",
    "chorus = find_pseudo_chorus(lines)\n",
    "print(\"The lines with the highest frequency are:\", chorus)"
   ]
  },
  {
   "cell_type": "code",
   "execution_count": 448,
   "metadata": {},
   "outputs": [],
   "source": [
    "from collections import defaultdict\n",
    "from fuzzywuzzy import fuzz\n",
    "\n",
    "def find_pseudo_chorus_fuzzy(lines, similarity_threshold=90):\n",
    "    subsequences = defaultdict(list)\n",
    "    max_len = len(lines) // 2\n",
    "\n",
    "    # Collect potential subsequences\n",
    "    for length in range(1, max_len):\n",
    "        for start in range(len(lines) - length + 1):\n",
    "            subseq = tuple(lines[start:start + length])\n",
    "            subsequences[subseq].append(start)\n",
    "\n",
    "    # Check for fuzzy similarity among subsequences\n",
    "    def are_fuzzily_similar(subseq1, subseq2, threshold):\n",
    "        str1 = \" \".join(subseq1)\n",
    "        str2 = \" \".join(subseq2)\n",
    "        return fuzz.ratio(str1, str2) >= threshold\n",
    "\n",
    "    # Check if indices are disjoint\n",
    "    def are_indices_disjoint(indices, length):\n",
    "        sorted_indices = sorted(indices)\n",
    "        return all(sorted_indices[i] + length <= sorted_indices[i + 1] for i in range(len(sorted_indices) - 1))\n",
    "    # Identify the longest common disjoint subsequences with fuzzy matching\n",
    "    common_list = []\n",
    "    for subseq1 in subsequences:\n",
    "        for subseq2 in subsequences:\n",
    "            if subseq1 != subseq2 and are_fuzzily_similar(subseq1, subseq2, similarity_threshold):\n",
    "                combined_indices = subsequences[subseq1] + subsequences[subseq2]\n",
    "                if are_indices_disjoint(combined_indices, min(len(subseq1), len(subseq2))):\n",
    "                    common_list.append((subseq1, subseq2))  # Store pairs for example\n",
    "    common_list = [list(subseq) for subseq, _ in common_list]\n",
    "    if not common_list:\n",
    "        return []\n",
    "\n",
    "    max_length = max(len(subseq) for subseq in common_list)\n",
    "    return [list(subseq) for subseq in common_list if len(subseq) == max_length]\n",
    "\n",
    "# lines = [i for i in input_string2.split('\\n') if i]\n",
    "# chorus = find_pseudo_chorus_fuzzy(lines)\n",
    "# print(\"The lines with the highest frequency are:\", chorus)"
   ]
  },
  {
   "cell_type": "code",
   "execution_count": 449,
   "metadata": {},
   "outputs": [
    {
     "name": "stdout",
     "output_type": "stream",
     "text": [
      "['이 밤 그날의 반딧불을\\n당신의 창 가까이 보낼게요\\n음 사랑한다는 말이에요\\n나 우리의 첫 입맞춤을 떠올려\\n그럼 언제든 눈을 감고\\n음 가장 먼 곳으로 가요\\n난 파도가 머물던\\n모래 위에 적힌 글씨처럼\\n그대가 멀리 사라져 버릴 것 같아', '늘 그리워 그리워\\n여기 내 마음속에\\n모든 말을 다 꺼내어 줄 순 없지만\\n사랑한다는 말이에요\\n어떻게 나에게\\n그대란 행운이 온 걸까\\n지금 우리 함께 있다면 아\\n얼마나 좋을까요\\n난 파도가 머물던\\n모래 위에 적힌 글씨처럼\\n그대가 멀리 사라져 버릴 것 같아', '또 그리워 더 그리워\\n나의 일기장 안에\\n모든 말을 다 꺼내어 줄 순 없지만\\n사랑한다는 말\\n이 밤 그날의 반딧불을 당신의\\n창 가까이 띄울게요\\n음 좋은 꿈 이길 바라요']\n"
     ]
    }
   ],
   "source": [
    "def merge_with_chorus(lines, chorus):\n",
    "    pivot_tuples = [tuple(sublist) for sublist in chorus]\n",
    "\n",
    "    pivot_ends = []\n",
    "    i = 0\n",
    "    while i < len(lines):\n",
    "        for pivot in pivot_tuples:\n",
    "            pivot_len = len(pivot)\n",
    "            if i + pivot_len <= len(lines) and tuple(lines[i:i+pivot_len]) == pivot:\n",
    "                pivot_ends.append(i + pivot_len) \n",
    "                i += pivot_len - 1 \n",
    "                break\n",
    "        i += 1\n",
    "    if pivot_ends[-1] != len(lines):\n",
    "        pivot_ends.append(len(lines))\n",
    "\n",
    "    results = []\n",
    "    start_index = 0\n",
    "    for end_index in pivot_ends:\n",
    "        segment = \"\\n\".join(lines[start_index:end_index])\n",
    "        results.append(segment)\n",
    "        start_index = end_index \n",
    "\n",
    "    return results\n",
    "\n",
    "# Call the function and print the result\n",
    "segmented_result = merge_with_chorus(lines, chorus)\n",
    "print(segmented_result)"
   ]
  },
  {
   "cell_type": "markdown",
   "metadata": {},
   "source": [
    "- 적당하게 잘 쪼개지는 것을 확인할 수 있음\n",
    "- fuzzy하게 중복 제거를 해줘야 할까 생각이 들지만, 일단은 냅두자"
   ]
  },
  {
   "cell_type": "code",
   "execution_count": 450,
   "metadata": {},
   "outputs": [],
   "source": [
    "def check_chorus(lines):\n",
    "    if (pseudo_chorus := find_pseudo_chorus(lines)):\n",
    "        return True\n",
    "    else:\n",
    "        return False"
   ]
  },
  {
   "cell_type": "code",
   "execution_count": 451,
   "metadata": {},
   "outputs": [
    {
     "data": {
      "text/plain": [
       "line_samples\n",
       "True     5751\n",
       "False     339\n",
       "Name: count, dtype: int64"
      ]
     },
     "execution_count": 451,
     "metadata": {},
     "output_type": "execute_result"
    }
   ],
   "source": [
    "songs_only['line_samples'].apply(lambda row: check_chorus(row)).value_counts()"
   ]
  },
  {
   "cell_type": "code",
   "execution_count": 452,
   "metadata": {},
   "outputs": [],
   "source": [
    "def merging_lines(lines):\n",
    "    if (pseudo_chorus := find_pseudo_chorus(lines)):\n",
    "        return [i for i in merge_with_chorus(lines, pseudo_chorus) if '\\n' in i]\n",
    "    else:\n",
    "        return []"
   ]
  },
  {
   "cell_type": "code",
   "execution_count": 453,
   "metadata": {},
   "outputs": [
    {
     "name": "stderr",
     "output_type": "stream",
     "text": [
      "/tmp/ipykernel_1844387/533586291.py:1: SettingWithCopyWarning: \n",
      "A value is trying to be set on a copy of a slice from a DataFrame.\n",
      "Try using .loc[row_indexer,col_indexer] = value instead\n",
      "\n",
      "See the caveats in the documentation: https://pandas.pydata.org/pandas-docs/stable/user_guide/indexing.html#returning-a-view-versus-a-copy\n",
      "  songs_only['verse_samples'] = songs_only['line_samples'].apply(lambda row: merging_lines(row))\n"
     ]
    }
   ],
   "source": [
    "songs_only['verse_samples'] = songs_only['line_samples'].apply(lambda row: merging_lines(row))"
   ]
  },
  {
   "cell_type": "code",
   "execution_count": 454,
   "metadata": {},
   "outputs": [
    {
     "name": "stdout",
     "output_type": "stream",
     "text": [
      "['미스 고 미스 고\\n나는 너를 사랑했었다\\n짧은순간 내가슴에 머물다간\\n그흔적 너무크더라\\n시인처럼 사랑하고\\n시인처럼 스쳐간 너\\n계곡처럼 깊이패인\\n그리움만 남긴 너\\n미스 고 미스 고\\n나는 나는 사랑의 삐에로', '미스 고 미스 고\\n나는 너를 잊지 못했다\\n짧은순간 내가슴에 머물다간\\n그흔적 너무깊더라\\n시인처럼 사랑하고\\n시인처럼 가버린 너\\n계곡처럼 깊이패인\\n그리움만 남긴 너\\n미스 고 미스 고\\n나는 나는 사랑의 삐에로']\n",
      "2\n",
      "['나쁜 짓을 저질렀어요\\n그렇게 놀란 눈으로 날 보지 마요\\n여기서 다 털어 놓을까요\\n어젯밤 그대 전화 왜 안 받았게요\\n사실 부족해 이걸론\\n너무 당혹스런 너의 그 표정\\n누가 더 니가 내가 나쁠까\\n나한테 잘 걸렸어 너 말이야\\n누가 더 니가 내가 아플까\\n그렇게 살지 마라 너 말이야\\n혼자 보긴 너무 아까운 일이야\\n너의 무너진 모습\\n이제 시작이야 아직 먼 길이야\\n조금 더 배워야 돼 너 말이야', '왜 나에게 이러시나요\\n그 말이 그대 입에\\n오를 말인가요\\n여기서 다 털어볼까요\\n그대가 누구 누구 누굴 울렸는지\\n지금까지 너 만만하게만\\n상대했던 얼굴 반반한 애완\\n달라 나 준비한 반의\\n반의 반도 안 한 거야\\n네 재판 하나 둘 셋 넷 이리 온\\n내가 열을 세기 전에 어서 온\\n내게 빌지 마 아직은\\n아니 벌써부터 울 것 까지야\\n누가 더 니가 내가 나쁠까\\n나한테 잘 걸렸어 너 말이야\\n누가 더 니가 내가 아플까\\n그렇게 살지 마라 너 말이야\\n혼자 보긴 너무 아까운 일이야\\n너의 무너진 모습\\n이제 시작이야 아직 먼 길이야\\n조금 더 배워야 돼 너 말이야', '있는 힘 다 해서 멀리 뛰어가\\n비참한 니 모습\\n영원히 기억할게\\n뛰어 달아나 숨이 찰 때까지\\n모든 건 단 하나 니가 한 댓가지\\n너 좀 바라 봐 미칠 것만 같지\\n눈물에 콧물에 꼴 한 번 사납지\\n이거는 알아둬\\n니가 내게 줬던\\n모멸과 수치에 비하면\\n어림 반 푼어치도 아냐\\n그러니까 애처럼 울지 좀 마\\n이대로 이야기가 끝일까\\n마음 다 놓지는 마 너 말이야\\n또 다시 내 눈에 넌 잡힐까\\n눈앞에 띄지 마라 너 말이야\\n보이지도 않게 들리지도 않게\\n이름도 바꿔버려\\n좁은 세상이야 쉽진 않을 거야\\n사랑은 포기하길 너 말이야']\n",
      "3\n",
      "['한번만 안아주세요 마지막\\n밤이잖아요\\n이렇게 헝클어놓은 내맘을\\n달래주세요\\n한번만 안아주세요 마지막\\n부탁이예요\\n이렇게 그대 그냥 가버리시면\\n다신 볼 수 없잖아요\\n그래 날 잊어 나를 모두 잊어\\n기억에 매달려도 소용없어\\n잊어 비오는 거리에서 가끔\\n우산없이 흠뻑 젖고 싶은\\n마음으로 잊어 이렇게\\n생각해버려\\n나보다 더 아름다운 사랑을\\n만나기 위해서 잠시 스쳐간\\n인연이라고 그래 나역시 그리\\n쉽진 않겠지 나를 사랑해선\\n안돼 추억해도 안돼\\n우연이라 해도 다시 봐선\\n안돼 니 속에 담겨진\\n내 모든 기억들을 모조리\\n꺼내버려봐 그동안의 사랑은\\n믿어줘 하지만 더 이상은\\n안돼 이렇게는 안돼 차라리\\n혼자되는 아픔을 선택해\\n촛불은 켜지 말아요 이대로\\n그냥 있어요\\n그대의 슬픈 눈빛은 볼수가\\n없으니까요\\n아무말 하지 말아요 상처가\\n될테니까요\\n혹시나 그대 음성 떨리신다면\\n보내드릴 수 없으니\\n불을 꺼줘 어둠속에 있게\\n가슴속에 우리 추억 꺼내놓으면\\n이 어둠에 다시는 찾을수 없게\\n들켜버린 눈물도 싫으니까\\n그대 모습과 그대 목소리 이제\\n희미하게 지워져 여기 어둠\\n속에 아주 멀리 그댈 멀리 보낼\\n수 있을것 같아\\n새벽이 오려나 봐요 커튼을\\n열지 말아요\\n눈부신 빛이 싫어요 두려워질\\n테니까요\\n미안해 하지말아요 행복한\\n사랑하세요\\n그렇게 어렵지는 않을거예요\\n나 하나 잊는다는건', '한번만 안아주세요 또 다른\\n아침이예요\\n이렇게 헝클어놓은 내맘을\\n달래주세요\\n미안해 하지말아요 행복한\\n사랑하세요\\n그렇게 어렵지는 않을거예요\\n나 하나 잊는다는건']\n",
      "2\n"
     ]
    }
   ],
   "source": [
    "for i in songs_only['verse_samples'].sample(3):\n",
    "    print(i)\n",
    "    print(len(i))"
   ]
  },
  {
   "cell_type": "code",
   "execution_count": 455,
   "metadata": {},
   "outputs": [
    {
     "data": {
      "image/png": "[encoded data removed]",
      "text/plain": [
       "<Figure size 1000x600 with 1 Axes>"
      ]
     },
     "metadata": {},
     "output_type": "display_data"
    },
    {
     "name": "stdout",
     "output_type": "stream",
     "text": [
      "167.9417226842885\n"
     ]
    }
   ],
   "source": [
    "# Flatten the list of lists and calculate the length of each verse string\n",
    "verse_lengths = [len(sample) for sublist in songs_only['verse_samples'] for sample in sublist if sublist]\n",
    "\n",
    "# Plotting the histogram\n",
    "plt.figure(figsize=(10, 6))\n",
    "plt.hist(verse_lengths, bins=20, color='green')\n",
    "plt.title('Histogram of Verse String Lengths')\n",
    "plt.xlabel('Length of Verse Strings')\n",
    "plt.ylabel('Frequency')\n",
    "plt.show()\n",
    "print(sum(verse_lengths)/len(verse_lengths))"
   ]
  },
  {
   "cell_type": "code",
   "execution_count": 456,
   "metadata": {},
   "outputs": [
    {
     "data": {
      "image/png": "[encoded data removed]",
      "text/plain": [
       "<Figure size 640x480 with 1 Axes>"
      ]
     },
     "metadata": {},
     "output_type": "display_data"
    }
   ],
   "source": [
    "plt.hist(min_counts, bins=range(min(min_counts), max(min_counts) + 1), alpha=0.5, label='Line Counts', color='blue')\n",
    "plt.hist(verse_lengths, bins=range(min(verse_lengths), max(verse_lengths) + 1), alpha=0.5, label='Rule-based Verse Counts', color='green')\n",
    "plt.hist(max_counts, bins=range(min(max_counts), max(max_counts) + 1), alpha=0.5, label='Song Counts', color='red')\n",
    "\n",
    "plt.axvline(x=11, color='skyblue', linestyle='--', linewidth=1, label='Line Mean')\n",
    "plt.axvline(x=137, color='lightgreen', linestyle='--', linewidth=1, label='Rule-based Verse Mean')\n",
    "plt.axvline(x=333, color='pink', linestyle='--', linewidth=1, label='Song Mean')\n",
    "\n",
    "\n",
    "plt.yscale('log')\n",
    "plt.xticks(range(100, max(max_counts), 100))\n",
    "plt.legend(loc='upper right')\n",
    "plt.show()"
   ]
  },
  {
   "cell_type": "code",
   "execution_count": 457,
   "metadata": {},
   "outputs": [
    {
     "data": {
      "image/png": "[encoded data removed]",
      "text/plain": [
       "<Figure size 640x480 with 1 Axes>"
      ]
     },
     "metadata": {},
     "output_type": "display_data"
    }
   ],
   "source": [
    "rule_based_total = min_counts + max_counts + verse_lengths\n",
    "\n",
    "plt.hist(rule_based_total, bins=range(min(rule_based_total), max(rule_based_total) + 1, 20), alpha=0.5, label='Line Counts', color='black')\n",
    "\n",
    "plt.yscale('log')\n",
    "plt.xticks(range(100, max(rule_based_total), 100))\n",
    "plt.legend(loc='upper right')\n",
    "plt.show()"
   ]
  },
  {
   "cell_type": "markdown",
   "metadata": {},
   "source": [
    "- 그래도 훨씬 이쁘져?"
   ]
  },
  {
   "cell_type": "markdown",
   "metadata": {},
   "source": [
    "## 4. 이제 반 왔다. 뭉치 어떻게 할래"
   ]
  },
  {
   "cell_type": "code",
   "execution_count": 458,
   "metadata": {},
   "outputs": [
    {
     "data": {
      "text/plain": [
       "Index(['title', 'lyrics', 'genre', 'num_korean_total_syllable',\n",
       "       'num_total_syllable', 'check_only_korean', 'lines',\n",
       "       'syllables_per_line', 'line_samples', 'mid_14_sample', 'verse_samples'],\n",
       "      dtype='object')"
      ]
     },
     "execution_count": 458,
     "metadata": {},
     "output_type": "execute_result"
    }
   ],
   "source": [
    "songs_only.columns"
   ]
  },
  {
   "cell_type": "code",
   "execution_count": 459,
   "metadata": {},
   "outputs": [
    {
     "name": "stdout",
     "output_type": "stream",
     "text": [
      "26\n",
      "3\n",
      "1\n",
      "----------\n",
      "49\n",
      "3\n",
      "1\n",
      "----------\n",
      "50\n",
      "4\n",
      "1\n",
      "----------\n",
      "40\n",
      "3\n",
      "1\n",
      "----------\n",
      "25\n",
      "3\n",
      "1\n",
      "----------\n"
     ]
    }
   ],
   "source": [
    "for _, row in songs_only[songs_only['check_only_korean']==True][['title', 'lines', 'verse_samples', 'lyrics']].sample(5).iterrows():\n",
    "    print(len(row['lines']))\n",
    "    print(len(row['verse_samples']))\n",
    "    print(1)\n",
    "    print('-'*10)"
   ]
  },
  {
   "cell_type": "markdown",
   "metadata": {},
   "source": [
    "- 앞서 얘기했던 것처럼 뭉치를 단어 단위 / 줄단위로 만들어준다고 생각하면 모델이 추론하게 되는 뭉치의 분포는 어떻게 되는가?"
   ]
  },
  {
   "cell_type": "code",
   "execution_count": 460,
   "metadata": {},
   "outputs": [
    {
     "name": "stderr",
     "output_type": "stream",
     "text": [
      "/tmp/ipykernel_1844387/4256288938.py:1: SettingWithCopyWarning: \n",
      "A value is trying to be set on a copy of a slice from a DataFrame\n",
      "\n",
      "See the caveats in the documentation: https://pandas.pydata.org/pandas-docs/stable/user_guide/indexing.html#returning-a-view-versus-a-copy\n",
      "  songs_only.drop(columns=['num_korean_total_syllable', 'num_total_syllable', 'syllables_per_line', 'lines', 'mid_14_sample'], inplace=True)\n",
      "/tmp/ipykernel_1844387/4256288938.py:2: SettingWithCopyWarning: \n",
      "A value is trying to be set on a copy of a slice from a DataFrame.\n",
      "Try using .loc[row_indexer,col_indexer] = value instead\n",
      "\n",
      "See the caveats in the documentation: https://pandas.pydata.org/pandas-docs/stable/user_guide/indexing.html#returning-a-view-versus-a-copy\n",
      "  songs_only['total_samples'] = songs_only['lyrics'].apply(lambda x: [x])\n"
     ]
    }
   ],
   "source": [
    "songs_only.drop(columns=['num_korean_total_syllable', 'num_total_syllable', 'syllables_per_line', 'lines', 'mid_14_sample'], inplace=True)\n",
    "songs_only['total_samples'] = songs_only['lyrics'].apply(lambda x: [x])"
   ]
  },
  {
   "cell_type": "code",
   "execution_count": 461,
   "metadata": {},
   "outputs": [
    {
     "data": {
      "text/html": [
       "<div>\n",
       "<style scoped>\n",
       "    .dataframe tbody tr th:only-of-type {\n",
       "        vertical-align: middle;\n",
       "    }\n",
       "\n",
       "    .dataframe tbody tr th {\n",
       "        vertical-align: top;\n",
       "    }\n",
       "\n",
       "    .dataframe thead th {\n",
       "        text-align: right;\n",
       "    }\n",
       "</style>\n",
       "<table border=\"1\" class=\"dataframe\">\n",
       "  <thead>\n",
       "    <tr style=\"text-align: right;\">\n",
       "      <th></th>\n",
       "      <th>title</th>\n",
       "      <th>lyrics</th>\n",
       "      <th>genre</th>\n",
       "      <th>check_only_korean</th>\n",
       "      <th>line_samples</th>\n",
       "      <th>verse_samples</th>\n",
       "      <th>total_samples</th>\n",
       "    </tr>\n",
       "  </thead>\n",
       "  <tbody>\n",
       "    <tr>\n",
       "      <th>4</th>\n",
       "      <td>물같은 사랑</td>\n",
       "      <td>그대의 모습 멀어져갔네\\n쓸쓸한 기억 남기고\\n낭만이 지워진 그 길로\\n조용히 멀어...</td>\n",
       "      <td>성인가요/트로트</td>\n",
       "      <td>True</td>\n",
       "      <td>[그대의 모습 멀어져갔네, 쓸쓸한 기억 남기고, 낭만이 지워진 그 길로, 조용히 멀...</td>\n",
       "      <td>[그대의 모습 멀어져갔네\\n쓸쓸한 기억 남기고\\n낭만이 지워진 그 길로\\n조용히 멀...</td>\n",
       "      <td>[그대의 모습 멀어져갔네\\n쓸쓸한 기억 남기고\\n낭만이 지워진 그 길로\\n조용히 멀...</td>\n",
       "    </tr>\n",
       "    <tr>\n",
       "      <th>3613</th>\n",
       "      <td>넌센스 (Nonsense)</td>\n",
       "      <td>가지마 가지마\\n가지마 가지마\\n진실된 사랑을 넌 아니\\n이제와 남은 후회만이\\no...</td>\n",
       "      <td>댄스</td>\n",
       "      <td>False</td>\n",
       "      <td>[가지마 가지마, 가지마 가지마, 진실된 사랑을 넌 아니, 이제와 남은 후회만이, ...</td>\n",
       "      <td>[가지마 가지마\\n가지마 가지마\\n진실된 사랑을 넌 아니\\n이제와 남은 후회만이\\n...</td>\n",
       "      <td>[가지마 가지마\\n가지마 가지마\\n진실된 사랑을 넌 아니\\n이제와 남은 후회만이\\n...</td>\n",
       "    </tr>\n",
       "    <tr>\n",
       "      <th>2110</th>\n",
       "      <td>꿈에</td>\n",
       "      <td>어떤말을 해야하는지 난 너무 가슴이 떨려서\\n우리 옛날 그대로의 모습으로 만나고 있...</td>\n",
       "      <td>발라드</td>\n",
       "      <td>False</td>\n",
       "      <td>[어떤말을 해야하는지 난 너무 가슴이 떨려서, 우리 옛날 그대로의 모습으로 만나고 ...</td>\n",
       "      <td>[]</td>\n",
       "      <td>[어떤말을 해야하는지 난 너무 가슴이 떨려서\\n우리 옛날 그대로의 모습으로 만나고 ...</td>\n",
       "    </tr>\n",
       "    <tr>\n",
       "      <th>1964</th>\n",
       "      <td>고백</td>\n",
       "      <td>사랑해요 그대\\n이젠 내가 아닌 그대지만\\n사랑해요 그대\\n만질 수도 없는 사람이지...</td>\n",
       "      <td>발라드</td>\n",
       "      <td>False</td>\n",
       "      <td>[사랑해요 그대, 이젠 내가 아닌 그대지만, 사랑해요 그대, 만질 수도 없는 사람이...</td>\n",
       "      <td>[사랑해요 그대\\n이젠 내가 아닌 그대지만\\n사랑해요 그대\\n만질 수도 없는 사람이...</td>\n",
       "      <td>[사랑해요 그대\\n이젠 내가 아닌 그대지만\\n사랑해요 그대\\n만질 수도 없는 사람이...</td>\n",
       "    </tr>\n",
       "    <tr>\n",
       "      <th>5126</th>\n",
       "      <td>슈퍼스타 (Prod. by D.O)</td>\n",
       "      <td>Hello my name K I S U M\\n뮤직 거꾸로 뒤집어 M U S I K\\...</td>\n",
       "      <td>랩/힙합</td>\n",
       "      <td>False</td>\n",
       "      <td>[난 준비됐어, 모두를 놀래킬 준비 백퍼, 쇼미 돈을 거쳐, 언랩이 내게 부와 명예...</td>\n",
       "      <td>[난 준비됐어\\n모두를 놀래킬 준비 백퍼\\n쇼미 돈을 거쳐\\n언랩이 내게 부와 명예...</td>\n",
       "      <td>[Hello my name K I S U M\\n뮤직 거꾸로 뒤집어 M U S I K...</td>\n",
       "    </tr>\n",
       "  </tbody>\n",
       "</table>\n",
       "</div>"
      ],
      "text/plain": [
       "                    title                                             lyrics  \\\n",
       "4                  물같은 사랑  그대의 모습 멀어져갔네\\n쓸쓸한 기억 남기고\\n낭만이 지워진 그 길로\\n조용히 멀어...   \n",
       "3613       넌센스 (Nonsense)  가지마 가지마\\n가지마 가지마\\n진실된 사랑을 넌 아니\\n이제와 남은 후회만이\\no...   \n",
       "2110                   꿈에  어떤말을 해야하는지 난 너무 가슴이 떨려서\\n우리 옛날 그대로의 모습으로 만나고 있...   \n",
       "1964                   고백  사랑해요 그대\\n이젠 내가 아닌 그대지만\\n사랑해요 그대\\n만질 수도 없는 사람이지...   \n",
       "5126  슈퍼스타 (Prod. by D.O)  Hello my name K I S U M\\n뮤직 거꾸로 뒤집어 M U S I K\\...   \n",
       "\n",
       "         genre  check_only_korean  \\\n",
       "4     성인가요/트로트               True   \n",
       "3613        댄스              False   \n",
       "2110       발라드              False   \n",
       "1964       발라드              False   \n",
       "5126      랩/힙합              False   \n",
       "\n",
       "                                           line_samples  \\\n",
       "4     [그대의 모습 멀어져갔네, 쓸쓸한 기억 남기고, 낭만이 지워진 그 길로, 조용히 멀...   \n",
       "3613  [가지마 가지마, 가지마 가지마, 진실된 사랑을 넌 아니, 이제와 남은 후회만이, ...   \n",
       "2110  [어떤말을 해야하는지 난 너무 가슴이 떨려서, 우리 옛날 그대로의 모습으로 만나고 ...   \n",
       "1964  [사랑해요 그대, 이젠 내가 아닌 그대지만, 사랑해요 그대, 만질 수도 없는 사람이...   \n",
       "5126  [난 준비됐어, 모두를 놀래킬 준비 백퍼, 쇼미 돈을 거쳐, 언랩이 내게 부와 명예...   \n",
       "\n",
       "                                          verse_samples  \\\n",
       "4     [그대의 모습 멀어져갔네\\n쓸쓸한 기억 남기고\\n낭만이 지워진 그 길로\\n조용히 멀...   \n",
       "3613  [가지마 가지마\\n가지마 가지마\\n진실된 사랑을 넌 아니\\n이제와 남은 후회만이\\n...   \n",
       "2110                                                 []   \n",
       "1964  [사랑해요 그대\\n이젠 내가 아닌 그대지만\\n사랑해요 그대\\n만질 수도 없는 사람이...   \n",
       "5126  [난 준비됐어\\n모두를 놀래킬 준비 백퍼\\n쇼미 돈을 거쳐\\n언랩이 내게 부와 명예...   \n",
       "\n",
       "                                          total_samples  \n",
       "4     [그대의 모습 멀어져갔네\\n쓸쓸한 기억 남기고\\n낭만이 지워진 그 길로\\n조용히 멀...  \n",
       "3613  [가지마 가지마\\n가지마 가지마\\n진실된 사랑을 넌 아니\\n이제와 남은 후회만이\\n...  \n",
       "2110  [어떤말을 해야하는지 난 너무 가슴이 떨려서\\n우리 옛날 그대로의 모습으로 만나고 ...  \n",
       "1964  [사랑해요 그대\\n이젠 내가 아닌 그대지만\\n사랑해요 그대\\n만질 수도 없는 사람이...  \n",
       "5126  [Hello my name K I S U M\\n뮤직 거꾸로 뒤집어 M U S I K...  "
      ]
     },
     "execution_count": 461,
     "metadata": {},
     "output_type": "execute_result"
    }
   ],
   "source": [
    "songs_only.sample(5)"
   ]
  },
  {
   "cell_type": "code",
   "execution_count": 462,
   "metadata": {},
   "outputs": [],
   "source": [
    "def count_korean_letters(text):\n",
    "    pattern = r'[\\uac00-\\ud7af\\u1100-\\u11ff\\u3130-\\u318f\\uffa0-\\uffdc]'\n",
    "    \n",
    "    korean_letters = re.findall(pattern, text)\n",
    "    \n",
    "    return len(korean_letters)"
   ]
  },
  {
   "cell_type": "code",
   "execution_count": 463,
   "metadata": {},
   "outputs": [
    {
     "data": {
      "application/vnd.jupyter.widget-view+json": {
       "model_id": "a2d948c490034f4199a592a9139e2fcb",
       "version_major": 2,
       "version_minor": 0
      },
      "text/plain": [
       "0it [00:00, ?it/s]"
      ]
     },
     "metadata": {},
     "output_type": "display_data"
    }
   ],
   "source": [
    "line_samples_word_mungchi_label = []\n",
    "line_samples_line_mungchi_label = []\n",
    "verse_samples_word_mungchi_label = []\n",
    "verse_samples_line_mungchi_label = []\n",
    "total_samples_word_mungchi_label = []\n",
    "total_samples_line_mungchi_label = []\n",
    "\n",
    "for _, row in tqdm(songs_only.iterrows()):\n",
    "    line_samples = [re.sub('\\s{2,}',' ', re.sub(r'[^\\uac00-\\ud7af\\s]', '', i).strip()) for i in row['line_samples']]\n",
    "    line_samples = [i for i in line_samples if i]\n",
    "    line_samples_word_mungchi_label.append([' / '.join(i.split()) for i in line_samples])\n",
    "    line_samples_line_mungchi_label.append(line_samples)\n",
    "    \n",
    "    if row['verse_samples']:\n",
    "        verse_samples = [re.sub(r'[^\\uac00-\\ud7af\\s]', '', i) for i in row['verse_samples']]\n",
    "        verse_samples = [i for i in verse_samples if i]\n",
    "        verse_samples_word_mungchi_label.append([' / '.join(i.split()) for i in verse_samples])\n",
    "        verse_samples_line_mungchi_label.append([' / '.join(i.split('\\n')) for i in verse_samples])\n",
    "    else:\n",
    "        verse_samples_word_mungchi_label.append([])\n",
    "        verse_samples_line_mungchi_label.append([])\n",
    "        \n",
    "    if row['check_only_korean']:\n",
    "        total_samples = [re.sub(r'[^\\uac00-\\ud7af\\s]', '', i) for i in row['total_samples']]\n",
    "        total_samples = [i for i in total_samples if i]\n",
    "        total_samples_word_mungchi_label.append([' / '.join(i.split()) for i in total_samples])\n",
    "        total_samples_line_mungchi_label.append([' / '.join(i.split('\\n')) for i in total_samples])\n",
    "    else:\n",
    "        total_samples_word_mungchi_label.append([])\n",
    "        total_samples_line_mungchi_label.append([])        "
   ]
  },
  {
   "cell_type": "code",
   "execution_count": 464,
   "metadata": {},
   "outputs": [
    {
     "data": {
      "text/plain": [
       "6090"
      ]
     },
     "execution_count": 464,
     "metadata": {},
     "output_type": "execute_result"
    }
   ],
   "source": [
    "len(total_samples_word_mungchi_label)"
   ]
  },
  {
   "cell_type": "code",
   "execution_count": 465,
   "metadata": {},
   "outputs": [
    {
     "name": "stdout",
     "output_type": "stream",
     "text": [
      "['야윈 / 어깨로 / 흘러내리는', '너무 / 슬픈 / 미련 / 때문에', '나 / 여기까지 / 그댈 / 찾아서 / 왔어요', '유리 / 창 / 밖엔 / 바람이 / 불고', '아름다운 / 연인들끼리', '추억 / 속으로 / 걸어가는걸 / 보았죠', '너무나 / 사랑했기 / 때문에', '잊을 / 수가 / 없어요', '지난날들이 / 아름다워요', '너무나 / 행복했기 / 때문에', '지울 / 수가 / 없어요', '이 / 내 / 가슴이 / 멍들어도', '그대 / 꿈속이라도 / 한번', '다시 / 만나 / 볼 / 수 / 있다면', '그대 / 이 / 내 / 영혼을 / 태워', '다시 / 사랑할 / 수 / 있다면', '너무나 / 사랑했기 / 때문에', '잊을 / 수가 / 없어요', '지난날들이 / 아름다워요', '너무나 / 행복했기 / 때문에', '지울 / 수가 / 없어요', '이 / 내 / 가슴이 / 멍들어도', '그대 / 꿈속이라도 / 한번', '다시 / 만나 / 볼 / 수 / 있다면', '그대 / 이 / 내 / 영혼을 / 태워', '다시 / 사랑할 / 수 / 있다면'] ['야윈 어깨로 흘러내리는', '너무 슬픈 미련 때문에', '나 여기까지 그댈 찾아서 왔어요', '유리 창 밖엔 바람이 불고', '아름다운 연인들끼리', '추억 속으로 걸어가는걸 보았죠', '너무나 사랑했기 때문에', '잊을 수가 없어요', '지난날들이 아름다워요', '너무나 행복했기 때문에', '지울 수가 없어요', '이 내 가슴이 멍들어도', '그대 꿈속이라도 한번', '다시 만나 볼 수 있다면', '그대 이 내 영혼을 태워', '다시 사랑할 수 있다면', '너무나 사랑했기 때문에', '잊을 수가 없어요', '지난날들이 아름다워요', '너무나 행복했기 때문에', '지울 수가 없어요', '이 내 가슴이 멍들어도', '그대 꿈속이라도 한번', '다시 만나 볼 수 있다면', '그대 이 내 영혼을 태워', '다시 사랑할 수 있다면'] ['야윈 / 어깨로 / 흘러내리는 / 너무 / 슬픈 / 미련 / 때문에 / 나 / 여기까지 / 그댈 / 찾아서 / 왔어요 / 유리 / 창 / 밖엔 / 바람이 / 불고 / 아름다운 / 연인들끼리 / 추억 / 속으로 / 걸어가는걸 / 보았죠 / 너무나 / 사랑했기 / 때문에 / 잊을 / 수가 / 없어요 / 지난날들이 / 아름다워요 / 너무나 / 행복했기 / 때문에 / 지울 / 수가 / 없어요 / 이 / 내 / 가슴이 / 멍들어도 / 그대 / 꿈속이라도 / 한번 / 다시 / 만나 / 볼 / 수 / 있다면 / 그대 / 이 / 내 / 영혼을 / 태워 / 다시 / 사랑할 / 수 / 있다면', '너무나 / 사랑했기 / 때문에 / 잊을 / 수가 / 없어요 / 지난날들이 / 아름다워요 / 너무나 / 행복했기 / 때문에 / 지울 / 수가 / 없어요 / 이 / 내 / 가슴이 / 멍들어도 / 그대 / 꿈속이라도 / 한번 / 다시 / 만나 / 볼 / 수 / 있다면 / 그대 / 이 / 내 / 영혼을 / 태워 / 다시 / 사랑할 / 수 / 있다면'] ['야윈 어깨로 흘러내리는 / 너무 슬픈 미련 때문에 / 나 여기까지 그댈 찾아서 왔어요 / 유리 창 밖엔 바람이 불고 / 아름다운 연인들끼리 / 추억 속으로 걸어가는걸 보았죠 / 너무나 사랑했기 때문에 / 잊을 수가 없어요 / 지난날들이 아름다워요 / 너무나 행복했기 때문에 / 지울 수가 없어요 / 이 내 가슴이 멍들어도 / 그대 꿈속이라도 한번 / 다시 만나 볼 수 있다면 / 그대 이 내 영혼을 태워 / 다시 사랑할 수 있다면', '너무나 사랑했기 때문에 / 잊을 수가 없어요 / 지난날들이 아름다워요 / 너무나 행복했기 때문에 / 지울 수가 없어요 / 이 내 가슴이 멍들어도 / 그대 꿈속이라도 한번 / 다시 만나 볼 수 있다면 / 그대 이 내 영혼을 태워 / 다시 사랑할 수 있다면'] ['야윈 / 어깨로 / 흘러내리는 / 너무 / 슬픈 / 미련 / 때문에 / 나 / 여기까지 / 그댈 / 찾아서 / 왔어요 / 유리 / 창 / 밖엔 / 바람이 / 불고 / 아름다운 / 연인들끼리 / 추억 / 속으로 / 걸어가는걸 / 보았죠 / 너무나 / 사랑했기 / 때문에 / 잊을 / 수가 / 없어요 / 지난날들이 / 아름다워요 / 너무나 / 행복했기 / 때문에 / 지울 / 수가 / 없어요 / 이 / 내 / 가슴이 / 멍들어도 / 그대 / 꿈속이라도 / 한번 / 다시 / 만나 / 볼 / 수 / 있다면 / 그대 / 이 / 내 / 영혼을 / 태워 / 다시 / 사랑할 / 수 / 있다면 / 너무나 / 사랑했기 / 때문에 / 잊을 / 수가 / 없어요 / 지난날들이 / 아름다워요 / 너무나 / 행복했기 / 때문에 / 지울 / 수가 / 없어요 / 이 / 내 / 가슴이 / 멍들어도 / 그대 / 꿈속이라도 / 한번 / 다시 / 만나 / 볼 / 수 / 있다면 / 그대 / 이 / 내 / 영혼을 / 태워 / 다시 / 사랑할 / 수 / 있다면'] ['야윈 어깨로 흘러내리는 / 너무 슬픈 미련 때문에 / 나 여기까지 그댈 찾아서 왔어요 / 유리 창 밖엔 바람이 불고 / 아름다운 연인들끼리 / 추억 속으로 걸어가는걸 보았죠 / 너무나 사랑했기 때문에 / 잊을 수가 없어요 / 지난날들이 아름다워요 / 너무나 행복했기 때문에 / 지울 수가 없어요 / 이 내 가슴이 멍들어도 / 그대 꿈속이라도 한번 / 다시 만나 볼 수 있다면 / 그대 이 내 영혼을 태워 / 다시 사랑할 수 있다면 / 너무나 사랑했기 때문에 / 잊을 수가 없어요 / 지난날들이 아름다워요 / 너무나 행복했기 때문에 / 지울 수가 없어요 / 이 내 가슴이 멍들어도 / 그대 꿈속이라도 한번 / 다시 만나 볼 수 있다면 / 그대 이 내 영혼을 태워 / 다시 사랑할 수 있다면']\n"
     ]
    }
   ],
   "source": [
    "print(line_samples_word_mungchi_label[100],\n",
    "line_samples_line_mungchi_label[100],\n",
    "verse_samples_word_mungchi_label[100],\n",
    "verse_samples_line_mungchi_label[100],\n",
    "total_samples_word_mungchi_label[100],\n",
    "total_samples_line_mungchi_label[100])\n"
   ]
  },
  {
   "cell_type": "code",
   "execution_count": 493,
   "metadata": {},
   "outputs": [
    {
     "data": {
      "application/vnd.jupyter.widget-view+json": {
       "model_id": "e55b538806ce4691bb1d781ecf70b249",
       "version_major": 2,
       "version_minor": 0
      },
      "text/plain": [
       "0it [00:00, ?it/s]"
      ]
     },
     "metadata": {},
     "output_type": "display_data"
    },
    {
     "data": {
      "application/vnd.jupyter.widget-view+json": {
       "model_id": "ed8fc703091747d8b74b5e56738fc118",
       "version_major": 2,
       "version_minor": 0
      },
      "text/plain": [
       "0it [00:00, ?it/s]"
      ]
     },
     "metadata": {},
     "output_type": "display_data"
    },
    {
     "data": {
      "application/vnd.jupyter.widget-view+json": {
       "model_id": "4c15017933d14df4b39486353cce2062",
       "version_major": 2,
       "version_minor": 0
      },
      "text/plain": [
       "0it [00:00, ?it/s]"
      ]
     },
     "metadata": {},
     "output_type": "display_data"
    }
   ],
   "source": [
    "line_samples = 0\n",
    "verse_samples = 0\n",
    "song_samples = 0\n",
    "\n",
    "line_samples_word_mungchi_input = []\n",
    "line_samples_line_mungchi_input = []\n",
    "verse_samples_word_mungchi_input = []\n",
    "verse_samples_line_mungchi_input = []\n",
    "total_samples_word_mungchi_input = []\n",
    "total_samples_line_mungchi_input = []\n",
    "\n",
    "for labels_word, labels_line in tqdm(zip(\n",
    "    line_samples_word_mungchi_label, \n",
    "    line_samples_line_mungchi_label\n",
    ")):\n",
    "    if labels_word and labels_line:\n",
    "        line_samples_word_mungchi_input.append([[cnt if (cnt:=count_korean_letters(l)) else print(\"lw\", labels_word) for l in label.split(' / ')] for label in labels_word])\n",
    "        line_samples_line_mungchi_input.append([[cnt if (cnt:=count_korean_letters(l)) else print(\"ll\", labels_line) for l in label.split(' / ')] for label in labels_line])\n",
    "        line_samples += len(labels_word)+len(labels_line)\n",
    "    else:\n",
    "        line_samples_word_mungchi_input.append([])\n",
    "        line_samples_line_mungchi_input.append([])\n",
    "    \n",
    "for labels_verse_word, labels_verse_line in tqdm(zip(\n",
    "    verse_samples_word_mungchi_label, \n",
    "    verse_samples_line_mungchi_label, \n",
    ")):\n",
    "    if labels_verse_word and labels_verse_line:\n",
    "        verse_samples_word_mungchi_input.append([[cnt if (cnt:=count_korean_letters(l)) else print(\"mw\", labels_verse_word) for l in label.split(' / ')] for label in labels_verse_word])\n",
    "        verse_samples_line_mungchi_input.append([[cnt if (cnt:=count_korean_letters(l)) else print(\"ml\", labels_verse_line) for l in label.split(' / ')] for label in labels_verse_line])\n",
    "        verse_samples += len(labels_verse_word)+len(labels_verse_line)\n",
    "    else:\n",
    "        verse_samples_word_mungchi_input.append([])\n",
    "        verse_samples_line_mungchi_input.append([])\n",
    "        \n",
    "for labels_total_word, labels_total_line in tqdm(zip(\n",
    "    total_samples_word_mungchi_label, \n",
    "    total_samples_line_mungchi_label\n",
    ")):\n",
    "    if labels_total_word and labels_total_line:\n",
    "        total_samples_word_mungchi_input.append([[cnt if (cnt:=count_korean_letters(l)) else print(\"tw\", labels_total_word) for l in label.split(' / ')] for label in labels_total_word])\n",
    "        total_samples_line_mungchi_input.append([[cnt if (cnt:=count_korean_letters(l)) else print(\"tl\", labels_total_line) for l in label.split(' / ')] for label in labels_total_line])\n",
    "        song_samples += len(labels_total_word)+len(labels_total_line)\n",
    "    else:\n",
    "        total_samples_word_mungchi_input.append([])\n",
    "        total_samples_line_mungchi_input.append([])"
   ]
  },
  {
   "cell_type": "code",
   "execution_count": 494,
   "metadata": {},
   "outputs": [
    {
     "name": "stdout",
     "output_type": "stream",
     "text": [
      "line_samples: 477840\n",
      "      verse_sampels: 35108\n",
      "      song_samples: 5388\n",
      "      total: 518336\n"
     ]
    }
   ],
   "source": [
    "print(f\"\"\"line_samples: {line_samples}\n",
    "      verse_sampels: {verse_samples}\n",
    "      song_samples: {song_samples}\n",
    "      total: {line_samples+verse_samples+song_samples}\"\"\")"
   ]
  },
  {
   "cell_type": "code",
   "execution_count": 482,
   "metadata": {},
   "outputs": [
    {
     "name": "stdout",
     "output_type": "stream",
     "text": [
      "[[2, 3, 5], [2, 2, 2, 3], [1, 4, 2, 3, 3], [2, 1, 2, 3, 2], [4, 5], [2, 3, 5, 3], [3, 4, 3], [2, 2, 3], [5, 5], [3, 4, 3], [2, 2, 3], [1, 1, 3, 4], [2, 5, 2], [2, 2, 1, 1, 3], [2, 1, 1, 3, 2], [2, 3, 1, 3], [3, 4, 3], [2, 2, 3], [5, 5], [3, 4, 3], [2, 2, 3], [1, 1, 3, 4], [2, 5, 2], [2, 2, 1, 1, 3], [2, 1, 1, 3, 2], [2, 3, 1, 3]]\n",
      "['야윈 / 어깨로 / 흘러내리는', '너무 / 슬픈 / 미련 / 때문에', '나 / 여기까지 / 그댈 / 찾아서 / 왔어요', '유리 / 창 / 밖엔 / 바람이 / 불고', '아름다운 / 연인들끼리', '추억 / 속으로 / 걸어가는걸 / 보았죠', '너무나 / 사랑했기 / 때문에', '잊을 / 수가 / 없어요', '지난날들이 / 아름다워요', '너무나 / 행복했기 / 때문에', '지울 / 수가 / 없어요', '이 / 내 / 가슴이 / 멍들어도', '그대 / 꿈속이라도 / 한번', '다시 / 만나 / 볼 / 수 / 있다면', '그대 / 이 / 내 / 영혼을 / 태워', '다시 / 사랑할 / 수 / 있다면', '너무나 / 사랑했기 / 때문에', '잊을 / 수가 / 없어요', '지난날들이 / 아름다워요', '너무나 / 행복했기 / 때문에', '지울 / 수가 / 없어요', '이 / 내 / 가슴이 / 멍들어도', '그대 / 꿈속이라도 / 한번', '다시 / 만나 / 볼 / 수 / 있다면', '그대 / 이 / 내 / 영혼을 / 태워', '다시 / 사랑할 / 수 / 있다면']\n"
     ]
    }
   ],
   "source": [
    "print(line_samples_word_mungchi_input[100])\n",
    "print(line_samples_word_mungchi_label[100])"
   ]
  },
  {
   "cell_type": "code",
   "execution_count": 483,
   "metadata": {},
   "outputs": [
    {
     "name": "stdout",
     "output_type": "stream",
     "text": [
      "[[10], [9], [13], [10], [9], [13], [10], [7], [10], [10], [7], [9], [9], [9], [9], [9], [10], [7], [10], [10], [7], [9], [9], [9], [9], [9]]\n",
      "['야윈 어깨로 흘러내리는', '너무 슬픈 미련 때문에', '나 여기까지 그댈 찾아서 왔어요', '유리 창 밖엔 바람이 불고', '아름다운 연인들끼리', '추억 속으로 걸어가는걸 보았죠', '너무나 사랑했기 때문에', '잊을 수가 없어요', '지난날들이 아름다워요', '너무나 행복했기 때문에', '지울 수가 없어요', '이 내 가슴이 멍들어도', '그대 꿈속이라도 한번', '다시 만나 볼 수 있다면', '그대 이 내 영혼을 태워', '다시 사랑할 수 있다면', '너무나 사랑했기 때문에', '잊을 수가 없어요', '지난날들이 아름다워요', '너무나 행복했기 때문에', '지울 수가 없어요', '이 내 가슴이 멍들어도', '그대 꿈속이라도 한번', '다시 만나 볼 수 있다면', '그대 이 내 영혼을 태워', '다시 사랑할 수 있다면']\n"
     ]
    }
   ],
   "source": [
    "print(line_samples_line_mungchi_input[100])\n",
    "print(line_samples_line_mungchi_label[100])"
   ]
  },
  {
   "cell_type": "code",
   "execution_count": 484,
   "metadata": {},
   "outputs": [
    {
     "name": "stdout",
     "output_type": "stream",
     "text": [
      "[[2, 2, 3, 5, 2, 3, 2, 4, 3, 2, 3, 3, 1, 3, 2, 3, 3, 2, 2, 3, 2, 2, 6, 2, 2, 6], [2, 3, 2, 2, 2, 3, 2, 3, 3, 2, 3, 3, 2, 3, 1, 2, 3, 2, 3, 1, 2, 4, 2, 2, 6, 2, 2, 6], [1, 2, 3, 2, 3, 3, 3, 3, 2, 2, 6, 2, 2, 6], [2, 3, 2, 3, 2, 3, 4, 2, 2, 6, 2, 2, 6]]\n",
      "['야윈 / 어깨로 / 흘러내리는 / 너무 / 슬픈 / 미련 / 때문에 / 나 / 여기까지 / 그댈 / 찾아서 / 왔어요 / 유리 / 창 / 밖엔 / 바람이 / 불고 / 아름다운 / 연인들끼리 / 추억 / 속으로 / 걸어가는걸 / 보았죠 / 너무나 / 사랑했기 / 때문에 / 잊을 / 수가 / 없어요 / 지난날들이 / 아름다워요 / 너무나 / 행복했기 / 때문에 / 지울 / 수가 / 없어요 / 이 / 내 / 가슴이 / 멍들어도 / 그대 / 꿈속이라도 / 한번 / 다시 / 만나 / 볼 / 수 / 있다면 / 그대 / 이 / 내 / 영혼을 / 태워 / 다시 / 사랑할 / 수 / 있다면', '너무나 / 사랑했기 / 때문에 / 잊을 / 수가 / 없어요 / 지난날들이 / 아름다워요 / 너무나 / 행복했기 / 때문에 / 지울 / 수가 / 없어요 / 이 / 내 / 가슴이 / 멍들어도 / 그대 / 꿈속이라도 / 한번 / 다시 / 만나 / 볼 / 수 / 있다면 / 그대 / 이 / 내 / 영혼을 / 태워 / 다시 / 사랑할 / 수 / 있다면']\n"
     ]
    }
   ],
   "source": [
    "print(verse_samples_word_mungchi_input[100])\n",
    "print(verse_samples_word_mungchi_label[100])"
   ]
  },
  {
   "cell_type": "code",
   "execution_count": 485,
   "metadata": {},
   "outputs": [
    {
     "name": "stdout",
     "output_type": "stream",
     "text": [
      "[[2, 10, 11, 8, 7, 8, 7, 10, 10], [5, 9, 13, 8, 6, 12, 10, 10], [6, 14, 10, 10], [10, 9, 10, 10]]\n",
      "['야윈 어깨로 흘러내리는 / 너무 슬픈 미련 때문에 / 나 여기까지 그댈 찾아서 왔어요 / 유리 창 밖엔 바람이 불고 / 아름다운 연인들끼리 / 추억 속으로 걸어가는걸 보았죠 / 너무나 사랑했기 때문에 / 잊을 수가 없어요 / 지난날들이 아름다워요 / 너무나 행복했기 때문에 / 지울 수가 없어요 / 이 내 가슴이 멍들어도 / 그대 꿈속이라도 한번 / 다시 만나 볼 수 있다면 / 그대 이 내 영혼을 태워 / 다시 사랑할 수 있다면', '너무나 사랑했기 때문에 / 잊을 수가 없어요 / 지난날들이 아름다워요 / 너무나 행복했기 때문에 / 지울 수가 없어요 / 이 내 가슴이 멍들어도 / 그대 꿈속이라도 한번 / 다시 만나 볼 수 있다면 / 그대 이 내 영혼을 태워 / 다시 사랑할 수 있다면']\n"
     ]
    }
   ],
   "source": [
    "print(verse_samples_line_mungchi_input[100])\n",
    "print(verse_samples_line_mungchi_label[100])"
   ]
  },
  {
   "cell_type": "code",
   "execution_count": 486,
   "metadata": {},
   "outputs": [
    {
     "name": "stdout",
     "output_type": "stream",
     "text": [
      "[[3, 2, 3, 1, 2, 5, 2, 2, 3, 1, 3, 5, 2, 2, 3, 2, 3, 1, 1, 2, 4, 3, 4, 3, 3, 3, 1, 2, 3, 5, 3, 3, 5, 1, 4, 4, 2, 3, 1, 2, 3, 1, 2, 5, 2, 2, 3, 1, 3, 5, 2, 2, 3, 2, 3, 1, 1, 2, 4, 3, 4, 3, 3, 3, 1, 2, 3, 5, 3, 3, 5, 1, 2, 2, 4, 2, 3, 1, 2, 3, 1, 2, 5, 2, 2, 3, 1, 3, 5, 2, 2, 3]]\n",
      "['야윈 / 어깨로 / 흘러내리는 / 너무 / 슬픈 / 미련 / 때문에 / 나 / 여기까지 / 그댈 / 찾아서 / 왔어요 / 유리 / 창 / 밖엔 / 바람이 / 불고 / 아름다운 / 연인들끼리 / 추억 / 속으로 / 걸어가는걸 / 보았죠 / 너무나 / 사랑했기 / 때문에 / 잊을 / 수가 / 없어요 / 지난날들이 / 아름다워요 / 너무나 / 행복했기 / 때문에 / 지울 / 수가 / 없어요 / 이 / 내 / 가슴이 / 멍들어도 / 그대 / 꿈속이라도 / 한번 / 다시 / 만나 / 볼 / 수 / 있다면 / 그대 / 이 / 내 / 영혼을 / 태워 / 다시 / 사랑할 / 수 / 있다면 / 너무나 / 사랑했기 / 때문에 / 잊을 / 수가 / 없어요 / 지난날들이 / 아름다워요 / 너무나 / 행복했기 / 때문에 / 지울 / 수가 / 없어요 / 이 / 내 / 가슴이 / 멍들어도 / 그대 / 꿈속이라도 / 한번 / 다시 / 만나 / 볼 / 수 / 있다면 / 그대 / 이 / 내 / 영혼을 / 태워 / 다시 / 사랑할 / 수 / 있다면']\n"
     ]
    }
   ],
   "source": [
    "print(total_samples_word_mungchi_input[100])\n",
    "print(total_samples_word_mungchi_label[100])"
   ]
  },
  {
   "cell_type": "code",
   "execution_count": 487,
   "metadata": {},
   "outputs": [
    {
     "name": "stdout",
     "output_type": "stream",
     "text": [
      "[[5, 11, 7, 9, 7, 6, 7, 10, 6, 11, 11, 5, 9, 3, 11, 7, 9, 7, 6, 7, 10, 6, 11, 11, 5, 9, 3, 11, 7, 9, 7]]\n",
      "['야윈 어깨로 흘러내리는 / 너무 슬픈 미련 때문에 / 나 여기까지 그댈 찾아서 왔어요 / 유리 창 밖엔 바람이 불고 / 아름다운 연인들끼리 / 추억 속으로 걸어가는걸 보았죠 / 너무나 사랑했기 때문에 / 잊을 수가 없어요 / 지난날들이 아름다워요 / 너무나 행복했기 때문에 / 지울 수가 없어요 / 이 내 가슴이 멍들어도 / 그대 꿈속이라도 한번 / 다시 만나 볼 수 있다면 / 그대 이 내 영혼을 태워 / 다시 사랑할 수 있다면 / 너무나 사랑했기 때문에 / 잊을 수가 없어요 / 지난날들이 아름다워요 / 너무나 행복했기 때문에 / 지울 수가 없어요 / 이 내 가슴이 멍들어도 / 그대 꿈속이라도 한번 / 다시 만나 볼 수 있다면 / 그대 이 내 영혼을 태워 / 다시 사랑할 수 있다면']\n"
     ]
    }
   ],
   "source": [
    "print(total_samples_line_mungchi_input[100])\n",
    "print(total_samples_line_mungchi_label[100])"
   ]
  },
  {
   "cell_type": "code",
   "execution_count": 495,
   "metadata": {},
   "outputs": [],
   "source": [
    "line_word = [k for i in line_samples_word_mungchi_input for j in i for k in j]\n",
    "line_line = [k for i in line_samples_line_mungchi_input for j in i for k in j]\n",
    "verse_word = [k for i in verse_samples_word_mungchi_input for j in i for k in j]\n",
    "verse_line = [k for i in verse_samples_line_mungchi_input for j in i for k in j]\n",
    "total_word = [k for i in total_samples_word_mungchi_input for j in i for k in j]\n",
    "total_line = [k for i in total_samples_line_mungchi_input for j in i for k in j]"
   ]
  },
  {
   "cell_type": "code",
   "execution_count": 496,
   "metadata": {},
   "outputs": [
    {
     "data": {
      "text/plain": [
       "[(2, 768830),\n",
       " (3, 615694),\n",
       " (1, 344923),\n",
       " (4, 271192),\n",
       " (5, 105306),\n",
       " (8, 81323),\n",
       " (7, 74224),\n",
       " (9, 72608),\n",
       " (10, 69373),\n",
       " (6, 60492),\n",
       " (11, 55703),\n",
       " (12, 50624),\n",
       " (13, 30383),\n",
       " (14, 18118),\n",
       " (15, 7687),\n",
       " (16, 4330),\n",
       " (17, 2041),\n",
       " (18, 1876),\n",
       " (19, 1068),\n",
       " (20, 628),\n",
       " (21, 388),\n",
       " (22, 265),\n",
       " (23, 238),\n",
       " (24, 162),\n",
       " (25, 65),\n",
       " (26, 46),\n",
       " (27, 34),\n",
       " (29, 24),\n",
       " (28, 22),\n",
       " (30, 7)]"
      ]
     },
     "execution_count": 496,
     "metadata": {},
     "output_type": "execute_result"
    }
   ],
   "source": [
    "Counter(line_word+verse_word+total_word+line_line+verse_line+total_line).most_common()"
   ]
  },
  {
   "cell_type": "code",
   "execution_count": 497,
   "metadata": {},
   "outputs": [
    {
     "data": {
      "image/png": "[encoded data removed]",
      "text/plain": [
       "<Figure size 640x480 with 1 Axes>"
      ]
     },
     "metadata": {},
     "output_type": "display_data"
    }
   ],
   "source": [
    "plt.hist(line_word, bins=range(min(line_word), max(line_word) + 1), alpha=0.5, label='Word_L', color='cornflowerblue')\n",
    "plt.hist(verse_word, bins=range(min(verse_word), max(verse_word) + 1), alpha=0.5, label='Word_M', color='royalblue')\n",
    "plt.hist(total_word, bins=range(min(total_word), max(total_word) + 1), alpha=0.5, label='Word_T', color='navy')\n",
    "plt.hist(line_line, bins=range(min(line_line), max(line_line) + 1), alpha=0.5, label='Line_L', color='lightcoral')\n",
    "plt.hist(verse_line, bins=range(min(verse_line), max(verse_line) + 1), alpha=0.5, label='Line_M', color='indianred')\n",
    "plt.hist(total_line, bins=range(min(total_line), max(total_line) + 1), alpha=0.5, label='Line_T', color='firebrick')\n",
    "\n",
    "plt.title('Mungchi Distribution')\n",
    "plt.yscale('log')\n",
    "plt.legend(loc='upper right')\n",
    "plt.show()"
   ]
  },
  {
   "cell_type": "code",
   "execution_count": 498,
   "metadata": {},
   "outputs": [
    {
     "data": {
      "image/png": "[encoded data removed]",
      "text/plain": [
       "<Figure size 640x480 with 1 Axes>"
      ]
     },
     "metadata": {},
     "output_type": "display_data"
    }
   ],
   "source": [
    "cnt = line_word + verse_word + total_word + line_line + verse_line + total_line\n",
    "\n",
    "plt.hist(cnt, bins=range(min(cnt), max(cnt) + 1), alpha=0.9, color='lightgreen')\n",
    "plt.title('Total Mungchi Distribution')\n",
    "plt.yscale('log')\n",
    "plt.xlim((0, 50))\n",
    "plt.show()"
   ]
  },
  {
   "cell_type": "markdown",
   "metadata": {},
   "source": [
    "- 나쁘지 않게 잘 잘라지는 것 같음 충분히\n",
    "- 근데, 약간 걸리는건 6-9 사이의 음절들이 살짝 부족해 보인다는 점?\n",
    "    - 채워준다면, 6-9보다 작은 뭉치들을 특정 조건(Ex. 형태소)에 부합하는 경우 합쳐주는 방법을 쓸 수도 있을 것 같음"
   ]
  },
  {
   "attachments": {
    "image.png": {
     "image/png": "[encoded data removed]"
    }
   },
   "cell_type": "markdown",
   "metadata": {},
   "source": [
    "![image.png](attachment:image.png)"
   ]
  },
  {
   "cell_type": "code",
   "execution_count": 499,
   "metadata": {},
   "outputs": [
    {
     "name": "stderr",
     "output_type": "stream",
     "text": [
      "/tmp/ipykernel_1844387/87666204.py:1: SettingWithCopyWarning: \n",
      "A value is trying to be set on a copy of a slice from a DataFrame.\n",
      "Try using .loc[row_indexer,col_indexer] = value instead\n",
      "\n",
      "See the caveats in the documentation: https://pandas.pydata.org/pandas-docs/stable/user_guide/indexing.html#returning-a-view-versus-a-copy\n",
      "  songs_only['line_sample_word_mungchi_string'] = line_samples_word_mungchi_label\n",
      "/tmp/ipykernel_1844387/87666204.py:2: SettingWithCopyWarning: \n",
      "A value is trying to be set on a copy of a slice from a DataFrame.\n",
      "Try using .loc[row_indexer,col_indexer] = value instead\n",
      "\n",
      "See the caveats in the documentation: https://pandas.pydata.org/pandas-docs/stable/user_guide/indexing.html#returning-a-view-versus-a-copy\n",
      "  songs_only['line_sample_word_mungchi_integer'] = line_samples_word_mungchi_input\n",
      "/tmp/ipykernel_1844387/87666204.py:3: SettingWithCopyWarning: \n",
      "A value is trying to be set on a copy of a slice from a DataFrame.\n",
      "Try using .loc[row_indexer,col_indexer] = value instead\n",
      "\n",
      "See the caveats in the documentation: https://pandas.pydata.org/pandas-docs/stable/user_guide/indexing.html#returning-a-view-versus-a-copy\n",
      "  songs_only['line_sample_line_mungchi_string'] = line_samples_line_mungchi_label\n",
      "/tmp/ipykernel_1844387/87666204.py:4: SettingWithCopyWarning: \n",
      "A value is trying to be set on a copy of a slice from a DataFrame.\n",
      "Try using .loc[row_indexer,col_indexer] = value instead\n",
      "\n",
      "See the caveats in the documentation: https://pandas.pydata.org/pandas-docs/stable/user_guide/indexing.html#returning-a-view-versus-a-copy\n",
      "  songs_only['line_sample_line_mungchi_integer'] = line_samples_line_mungchi_input\n",
      "/tmp/ipykernel_1844387/87666204.py:5: SettingWithCopyWarning: \n",
      "A value is trying to be set on a copy of a slice from a DataFrame.\n",
      "Try using .loc[row_indexer,col_indexer] = value instead\n",
      "\n",
      "See the caveats in the documentation: https://pandas.pydata.org/pandas-docs/stable/user_guide/indexing.html#returning-a-view-versus-a-copy\n",
      "  songs_only['verse_sample_word_mungchi_string'] = verse_samples_word_mungchi_label\n",
      "/tmp/ipykernel_1844387/87666204.py:6: SettingWithCopyWarning: \n",
      "A value is trying to be set on a copy of a slice from a DataFrame.\n",
      "Try using .loc[row_indexer,col_indexer] = value instead\n",
      "\n",
      "See the caveats in the documentation: https://pandas.pydata.org/pandas-docs/stable/user_guide/indexing.html#returning-a-view-versus-a-copy\n",
      "  songs_only['verse_sample_word_mungchi_integer'] = verse_samples_word_mungchi_input\n",
      "/tmp/ipykernel_1844387/87666204.py:7: SettingWithCopyWarning: \n",
      "A value is trying to be set on a copy of a slice from a DataFrame.\n",
      "Try using .loc[row_indexer,col_indexer] = value instead\n",
      "\n",
      "See the caveats in the documentation: https://pandas.pydata.org/pandas-docs/stable/user_guide/indexing.html#returning-a-view-versus-a-copy\n",
      "  songs_only['verse_sample_line_mungchi_string'] = verse_samples_line_mungchi_label\n",
      "/tmp/ipykernel_1844387/87666204.py:8: SettingWithCopyWarning: \n",
      "A value is trying to be set on a copy of a slice from a DataFrame.\n",
      "Try using .loc[row_indexer,col_indexer] = value instead\n",
      "\n",
      "See the caveats in the documentation: https://pandas.pydata.org/pandas-docs/stable/user_guide/indexing.html#returning-a-view-versus-a-copy\n",
      "  songs_only['verse_sample_line_mungchi_integer'] = verse_samples_line_mungchi_input\n",
      "/tmp/ipykernel_1844387/87666204.py:9: SettingWithCopyWarning: \n",
      "A value is trying to be set on a copy of a slice from a DataFrame.\n",
      "Try using .loc[row_indexer,col_indexer] = value instead\n",
      "\n",
      "See the caveats in the documentation: https://pandas.pydata.org/pandas-docs/stable/user_guide/indexing.html#returning-a-view-versus-a-copy\n",
      "  songs_only['total_sample_word_mungchi_string'] = total_samples_word_mungchi_label\n",
      "/tmp/ipykernel_1844387/87666204.py:10: SettingWithCopyWarning: \n",
      "A value is trying to be set on a copy of a slice from a DataFrame.\n",
      "Try using .loc[row_indexer,col_indexer] = value instead\n",
      "\n",
      "See the caveats in the documentation: https://pandas.pydata.org/pandas-docs/stable/user_guide/indexing.html#returning-a-view-versus-a-copy\n",
      "  songs_only['total_sample_word_mungchi_integer'] = total_samples_word_mungchi_input\n",
      "/tmp/ipykernel_1844387/87666204.py:11: SettingWithCopyWarning: \n",
      "A value is trying to be set on a copy of a slice from a DataFrame.\n",
      "Try using .loc[row_indexer,col_indexer] = value instead\n",
      "\n",
      "See the caveats in the documentation: https://pandas.pydata.org/pandas-docs/stable/user_guide/indexing.html#returning-a-view-versus-a-copy\n",
      "  songs_only['total_sample_line_mungchi_string'] = total_samples_line_mungchi_label\n",
      "/tmp/ipykernel_1844387/87666204.py:12: SettingWithCopyWarning: \n",
      "A value is trying to be set on a copy of a slice from a DataFrame.\n",
      "Try using .loc[row_indexer,col_indexer] = value instead\n",
      "\n",
      "See the caveats in the documentation: https://pandas.pydata.org/pandas-docs/stable/user_guide/indexing.html#returning-a-view-versus-a-copy\n",
      "  songs_only['total_sample_line_mungchi_integer'] = total_samples_line_mungchi_input\n"
     ]
    }
   ],
   "source": [
    "songs_only['line_sample_word_mungchi_string'] = line_samples_word_mungchi_label\n",
    "songs_only['line_sample_word_mungchi_integer'] = line_samples_word_mungchi_input\n",
    "songs_only['line_sample_line_mungchi_string'] = line_samples_line_mungchi_label\n",
    "songs_only['line_sample_line_mungchi_integer'] = line_samples_line_mungchi_input\n",
    "songs_only['verse_sample_word_mungchi_string'] = verse_samples_word_mungchi_label\n",
    "songs_only['verse_sample_word_mungchi_integer'] = verse_samples_word_mungchi_input\n",
    "songs_only['verse_sample_line_mungchi_string'] = verse_samples_line_mungchi_label\n",
    "songs_only['verse_sample_line_mungchi_integer'] = verse_samples_line_mungchi_input\n",
    "songs_only['total_sample_word_mungchi_string'] = total_samples_word_mungchi_label\n",
    "songs_only['total_sample_word_mungchi_integer'] = total_samples_word_mungchi_input\n",
    "songs_only['total_sample_line_mungchi_string'] = total_samples_line_mungchi_label\n",
    "songs_only['total_sample_line_mungchi_integer'] = total_samples_line_mungchi_input"
   ]
  },
  {
   "cell_type": "code",
   "execution_count": 500,
   "metadata": {},
   "outputs": [
    {
     "data": {
      "text/html": [
       "<div>\n",
       "<style scoped>\n",
       "    .dataframe tbody tr th:only-of-type {\n",
       "        vertical-align: middle;\n",
       "    }\n",
       "\n",
       "    .dataframe tbody tr th {\n",
       "        vertical-align: top;\n",
       "    }\n",
       "\n",
       "    .dataframe thead th {\n",
       "        text-align: right;\n",
       "    }\n",
       "</style>\n",
       "<table border=\"1\" class=\"dataframe\">\n",
       "  <thead>\n",
       "    <tr style=\"text-align: right;\">\n",
       "      <th></th>\n",
       "      <th>title</th>\n",
       "      <th>lyrics</th>\n",
       "      <th>genre</th>\n",
       "      <th>check_only_korean</th>\n",
       "      <th>line_samples</th>\n",
       "      <th>verse_samples</th>\n",
       "      <th>total_samples</th>\n",
       "      <th>line_sample_word_mungchi_string</th>\n",
       "      <th>line_sample_word_mungchi_integer</th>\n",
       "      <th>line_sample_line_mungchi_string</th>\n",
       "      <th>line_sample_line_mungchi_integer</th>\n",
       "      <th>verse_sample_word_mungchi_string</th>\n",
       "      <th>verse_sample_word_mungchi_integer</th>\n",
       "      <th>verse_sample_line_mungchi_string</th>\n",
       "      <th>verse_sample_line_mungchi_integer</th>\n",
       "      <th>total_sample_word_mungchi_string</th>\n",
       "      <th>total_sample_word_mungchi_integer</th>\n",
       "      <th>total_sample_line_mungchi_string</th>\n",
       "      <th>total_sample_line_mungchi_integer</th>\n",
       "    </tr>\n",
       "  </thead>\n",
       "  <tbody>\n",
       "    <tr>\n",
       "      <th>6085</th>\n",
       "      <td>버퍼링 (Glitch Mode)</td>\n",
       "      <td>Scratch that bring it back\\n(Shook\\nShook\\nHa)...</td>\n",
       "      <td>댄스</td>\n",
       "      <td>False</td>\n",
       "      <td>[네 앞에선, 난 어질 어질 어질 두통, 또 돌고 돌아, 비상이 걸려, 버 버퍼링이...</td>\n",
       "      <td>[네 앞에선\\n난 어질 어질 어질 두통\\n또 돌고 돌아\\n비상이 걸려\\n버 버퍼링이...</td>\n",
       "      <td>[Scratch that bring it back\\n(Shook\\nShook\\nHa...</td>\n",
       "      <td>[네 / 앞에선, 난 / 어질 / 어질 / 어질 / 두통, 또 / 돌고 / 돌아, ...</td>\n",
       "      <td>[[1, 3], [1, 2, 2, 2, 2], [1, 2, 2], [3, 2], [...</td>\n",
       "      <td>[네 앞에선, 난 어질 어질 어질 두통, 또 돌고 돌아, 비상이 걸려, 버 버퍼링이...</td>\n",
       "      <td>[[4], [9], [5], [5], [6], [6], [8], [8], [7], ...</td>\n",
       "      <td>[네 / 앞에선 / 난 / 어질 / 어질 / 어질 / 두통 / 또 / 돌고 / 돌아...</td>\n",
       "      <td>[[1, 3, 1, 2, 2, 2, 2, 1, 2, 2, 3, 2, 1, 5], [...</td>\n",
       "      <td>[네 앞에선 / 난 어질 어질 어질 두통 / 또 돌고 돌아 / 비상이 걸려 / 버 ...</td>\n",
       "      <td>[[4, 9, 5, 5, 6], [6, 8, 8, 7, 8, 6, 7, 7, 5, ...</td>\n",
       "      <td>[]</td>\n",
       "      <td>[]</td>\n",
       "      <td>[]</td>\n",
       "      <td>[]</td>\n",
       "    </tr>\n",
       "    <tr>\n",
       "      <th>6086</th>\n",
       "      <td>Real Love</td>\n",
       "      <td>우린 이 음악을 빌려\\n이 분위기를 빌려\\n지금 이 공기 이건 마치\\n7시간 비행 ...</td>\n",
       "      <td>댄스</td>\n",
       "      <td>False</td>\n",
       "      <td>[우린 이 음악을 빌려, 이 분위기를 빌려, 지금 이 공기 이건 마치, 낯선 과일 ...</td>\n",
       "      <td>[우린 이 음악을 빌려\\n이 분위기를 빌려\\n지금 이 공기 이건 마치\\n낯선 과일 ...</td>\n",
       "      <td>[우린 이 음악을 빌려\\n이 분위기를 빌려\\n지금 이 공기 이건 마치\\n7시간 비행...</td>\n",
       "      <td>[우린 / 이 / 음악을 / 빌려, 이 / 분위기를 / 빌려, 지금 / 이 / 공기...</td>\n",
       "      <td>[[2, 1, 3, 2], [1, 4, 2], [2, 1, 2, 2, 2], [2,...</td>\n",
       "      <td>[우린 이 음악을 빌려, 이 분위기를 빌려, 지금 이 공기 이건 마치, 낯선 과일 ...</td>\n",
       "      <td>[[8], [7], [9], [9], [6], [16], [16], [4], [8]...</td>\n",
       "      <td>[우린 / 이 / 음악을 / 빌려 / 이 / 분위기를 / 빌려 / 지금 / 이 / ...</td>\n",
       "      <td>[[2, 1, 3, 2, 1, 4, 2, 2, 1, 2, 2, 2, 2, 2, 3,...</td>\n",
       "      <td>[우린 이 음악을 빌려 / 이 분위기를 빌려 / 지금 이 공기 이건 마치 / 낯선 ...</td>\n",
       "      <td>[[8, 7, 9, 9, 6, 16, 16, 4, 8, 7, 9], [9, 7, 1...</td>\n",
       "      <td>[]</td>\n",
       "      <td>[]</td>\n",
       "      <td>[]</td>\n",
       "      <td>[]</td>\n",
       "    </tr>\n",
       "    <tr>\n",
       "      <th>6087</th>\n",
       "      <td>내가 아니라도</td>\n",
       "      <td>사랑이었다 별거 없던 내 하루에\\n빛이 돼준 단한 사람\\n나보다 나를 더 아껴 주던...</td>\n",
       "      <td>발라드</td>\n",
       "      <td>True</td>\n",
       "      <td>[사랑이었다 별거 없던 내 하루에, 빛이 돼준 단한 사람, 나보다 나를 더 아껴 주...</td>\n",
       "      <td>[사랑이었다 별거 없던 내 하루에\\n빛이 돼준 단한 사람\\n나보다 나를 더 아껴 주...</td>\n",
       "      <td>[사랑이었다 별거 없던 내 하루에\\n빛이 돼준 단한 사람\\n나보다 나를 더 아껴 주...</td>\n",
       "      <td>[사랑이었다 / 별거 / 없던 / 내 / 하루에, 빛이 / 돼준 / 단한 / 사람,...</td>\n",
       "      <td>[[5, 2, 2, 1, 3], [2, 2, 2, 2], [3, 2, 1, 2, 2...</td>\n",
       "      <td>[사랑이었다 별거 없던 내 하루에, 빛이 돼준 단한 사람, 나보다 나를 더 아껴 주...</td>\n",
       "      <td>[[13], [8], [12], [7], [13], [9], [9], [8], [1...</td>\n",
       "      <td>[사랑이었다 / 별거 / 없던 / 내 / 하루에 / 빛이 / 돼준 / 단한 / 사람...</td>\n",
       "      <td>[[5, 2, 2, 1, 3, 2, 2, 2, 2, 3, 2, 1, 2, 2, 2,...</td>\n",
       "      <td>[사랑이었다 별거 없던 내 하루에 / 빛이 돼준 단한 사람 / 나보다 나를 더 아껴...</td>\n",
       "      <td>[[13, 8, 12, 7, 13, 9, 9, 8, 12, 6, 12, 14, 4,...</td>\n",
       "      <td>[사랑이었다 / 별거 / 없던 / 내 / 하루에 / 빛이 / 돼준 / 단한 / 사람...</td>\n",
       "      <td>[[5, 2, 2, 1, 3, 2, 2, 2, 2, 3, 2, 1, 2, 2, 2,...</td>\n",
       "      <td>[사랑이었다 별거 없던 내 하루에 / 빛이 돼준 단한 사람 / 나보다 나를 더 아껴...</td>\n",
       "      <td>[[13, 8, 12, 7, 13, 9, 9, 8, 12, 6, 12, 14, 4,...</td>\n",
       "    </tr>\n",
       "    <tr>\n",
       "      <th>6088</th>\n",
       "      <td>스물다섯, 스물하나</td>\n",
       "      <td>바람에 날려 꽃이 지는 계절엔\\n아직도 너의 손을 잡은 듯 그런 듯 해\\n그때는 아...</td>\n",
       "      <td>록/메탈</td>\n",
       "      <td>True</td>\n",
       "      <td>[바람에 날려 꽃이 지는 계절엔, 아직도 너의 손을 잡은 듯 그런 듯 해, 그때는 ...</td>\n",
       "      <td>[바람에 날려 꽃이 지는 계절엔\\n아직도 너의 손을 잡은 듯 그런 듯 해\\n그때는 ...</td>\n",
       "      <td>[바람에 날려 꽃이 지는 계절엔\\n아직도 너의 손을 잡은 듯 그런 듯 해\\n그때는 ...</td>\n",
       "      <td>[바람에 / 날려 / 꽃이 / 지는 / 계절엔, 아직도 / 너의 / 손을 / 잡은 ...</td>\n",
       "      <td>[[3, 2, 2, 2, 3], [3, 2, 2, 2, 1, 2, 1, 1], [3...</td>\n",
       "      <td>[바람에 날려 꽃이 지는 계절엔, 아직도 너의 손을 잡은 듯 그런 듯 해, 그때는 ...</td>\n",
       "      <td>[[12], [14], [12], [13], [13], [8], [8], [12],...</td>\n",
       "      <td>[바람에 / 날려 / 꽃이 / 지는 / 계절엔 / 아직도 / 너의 / 손을 / 잡은...</td>\n",
       "      <td>[[3, 2, 2, 2, 3, 3, 2, 2, 2, 1, 2, 1, 1, 3, 2,...</td>\n",
       "      <td>[바람에 날려 꽃이 지는 계절엔 / 아직도 너의 손을 잡은 듯 그런 듯 해 / 그때...</td>\n",
       "      <td>[[12, 14, 12, 13, 13, 8, 8], [12, 14, 14, 14, ...</td>\n",
       "      <td>[바람에 / 날려 / 꽃이 / 지는 / 계절엔 / 아직도 / 너의 / 손을 / 잡은...</td>\n",
       "      <td>[[3, 2, 2, 2, 3, 3, 2, 2, 2, 1, 2, 1, 1, 3, 2,...</td>\n",
       "      <td>[바람에 날려 꽃이 지는 계절엔 / 아직도 너의 손을 잡은 듯 그런 듯 해 / 그때...</td>\n",
       "      <td>[[12, 14, 12, 13, 13, 8, 8, 12, 14, 14, 14, 14...</td>\n",
       "    </tr>\n",
       "    <tr>\n",
       "      <th>6089</th>\n",
       "      <td>Starlight</td>\n",
       "      <td>난 지금 널 향해 달려가고 있어\\n숨이 턱까지 차올라 괜찮아\\n잠시 후 널 마주할 ...</td>\n",
       "      <td>록/메탈, 국내드라마</td>\n",
       "      <td>False</td>\n",
       "      <td>[난 지금 널 향해 달려가고 있어, 숨이 턱까지 차올라 괜찮아, 잠시 후 널 마주할...</td>\n",
       "      <td>[난 지금 널 향해 달려가고 있어\\n숨이 턱까지 차올라 괜찮아\\n잠시 후 널 마주할...</td>\n",
       "      <td>[난 지금 널 향해 달려가고 있어\\n숨이 턱까지 차올라 괜찮아\\n잠시 후 널 마주할...</td>\n",
       "      <td>[난 / 지금 / 널 / 향해 / 달려가고 / 있어, 숨이 / 턱까지 / 차올라 /...</td>\n",
       "      <td>[[1, 2, 1, 2, 4, 2], [2, 3, 3, 3], [2, 1, 1, 3...</td>\n",
       "      <td>[난 지금 널 향해 달려가고 있어, 숨이 턱까지 차올라 괜찮아, 잠시 후 널 마주할...</td>\n",
       "      <td>[[12], [11], [10], [12], [12], [10], [7], [9],...</td>\n",
       "      <td>[난 / 지금 / 널 / 향해 / 달려가고 / 있어 / 숨이 / 턱까지 / 차올라 ...</td>\n",
       "      <td>[[1, 2, 1, 2, 4, 2, 2, 3, 3, 3, 2, 1, 1, 3, 3,...</td>\n",
       "      <td>[난 지금 널 향해 달려가고 있어 / 숨이 턱까지 차올라 괜찮아 / 잠시 후 널 마...</td>\n",
       "      <td>[[12, 11, 10, 12, 12, 10, 7, 9, 8, 12, 8, 8, 6...</td>\n",
       "      <td>[]</td>\n",
       "      <td>[]</td>\n",
       "      <td>[]</td>\n",
       "      <td>[]</td>\n",
       "    </tr>\n",
       "  </tbody>\n",
       "</table>\n",
       "</div>"
      ],
      "text/plain": [
       "                  title                                             lyrics  \\\n",
       "6085  버퍼링 (Glitch Mode)  Scratch that bring it back\\n(Shook\\nShook\\nHa)...   \n",
       "6086          Real Love  우린 이 음악을 빌려\\n이 분위기를 빌려\\n지금 이 공기 이건 마치\\n7시간 비행 ...   \n",
       "6087            내가 아니라도  사랑이었다 별거 없던 내 하루에\\n빛이 돼준 단한 사람\\n나보다 나를 더 아껴 주던...   \n",
       "6088         스물다섯, 스물하나  바람에 날려 꽃이 지는 계절엔\\n아직도 너의 손을 잡은 듯 그런 듯 해\\n그때는 아...   \n",
       "6089          Starlight  난 지금 널 향해 달려가고 있어\\n숨이 턱까지 차올라 괜찮아\\n잠시 후 널 마주할 ...   \n",
       "\n",
       "            genre  check_only_korean  \\\n",
       "6085           댄스              False   \n",
       "6086           댄스              False   \n",
       "6087          발라드               True   \n",
       "6088         록/메탈               True   \n",
       "6089  록/메탈, 국내드라마              False   \n",
       "\n",
       "                                           line_samples  \\\n",
       "6085  [네 앞에선, 난 어질 어질 어질 두통, 또 돌고 돌아, 비상이 걸려, 버 버퍼링이...   \n",
       "6086  [우린 이 음악을 빌려, 이 분위기를 빌려, 지금 이 공기 이건 마치, 낯선 과일 ...   \n",
       "6087  [사랑이었다 별거 없던 내 하루에, 빛이 돼준 단한 사람, 나보다 나를 더 아껴 주...   \n",
       "6088  [바람에 날려 꽃이 지는 계절엔, 아직도 너의 손을 잡은 듯 그런 듯 해, 그때는 ...   \n",
       "6089  [난 지금 널 향해 달려가고 있어, 숨이 턱까지 차올라 괜찮아, 잠시 후 널 마주할...   \n",
       "\n",
       "                                          verse_samples  \\\n",
       "6085  [네 앞에선\\n난 어질 어질 어질 두통\\n또 돌고 돌아\\n비상이 걸려\\n버 버퍼링이...   \n",
       "6086  [우린 이 음악을 빌려\\n이 분위기를 빌려\\n지금 이 공기 이건 마치\\n낯선 과일 ...   \n",
       "6087  [사랑이었다 별거 없던 내 하루에\\n빛이 돼준 단한 사람\\n나보다 나를 더 아껴 주...   \n",
       "6088  [바람에 날려 꽃이 지는 계절엔\\n아직도 너의 손을 잡은 듯 그런 듯 해\\n그때는 ...   \n",
       "6089  [난 지금 널 향해 달려가고 있어\\n숨이 턱까지 차올라 괜찮아\\n잠시 후 널 마주할...   \n",
       "\n",
       "                                          total_samples  \\\n",
       "6085  [Scratch that bring it back\\n(Shook\\nShook\\nHa...   \n",
       "6086  [우린 이 음악을 빌려\\n이 분위기를 빌려\\n지금 이 공기 이건 마치\\n7시간 비행...   \n",
       "6087  [사랑이었다 별거 없던 내 하루에\\n빛이 돼준 단한 사람\\n나보다 나를 더 아껴 주...   \n",
       "6088  [바람에 날려 꽃이 지는 계절엔\\n아직도 너의 손을 잡은 듯 그런 듯 해\\n그때는 ...   \n",
       "6089  [난 지금 널 향해 달려가고 있어\\n숨이 턱까지 차올라 괜찮아\\n잠시 후 널 마주할...   \n",
       "\n",
       "                        line_sample_word_mungchi_string  \\\n",
       "6085  [네 / 앞에선, 난 / 어질 / 어질 / 어질 / 두통, 또 / 돌고 / 돌아, ...   \n",
       "6086  [우린 / 이 / 음악을 / 빌려, 이 / 분위기를 / 빌려, 지금 / 이 / 공기...   \n",
       "6087  [사랑이었다 / 별거 / 없던 / 내 / 하루에, 빛이 / 돼준 / 단한 / 사람,...   \n",
       "6088  [바람에 / 날려 / 꽃이 / 지는 / 계절엔, 아직도 / 너의 / 손을 / 잡은 ...   \n",
       "6089  [난 / 지금 / 널 / 향해 / 달려가고 / 있어, 숨이 / 턱까지 / 차올라 /...   \n",
       "\n",
       "                       line_sample_word_mungchi_integer  \\\n",
       "6085  [[1, 3], [1, 2, 2, 2, 2], [1, 2, 2], [3, 2], [...   \n",
       "6086  [[2, 1, 3, 2], [1, 4, 2], [2, 1, 2, 2, 2], [2,...   \n",
       "6087  [[5, 2, 2, 1, 3], [2, 2, 2, 2], [3, 2, 1, 2, 2...   \n",
       "6088  [[3, 2, 2, 2, 3], [3, 2, 2, 2, 1, 2, 1, 1], [3...   \n",
       "6089  [[1, 2, 1, 2, 4, 2], [2, 3, 3, 3], [2, 1, 1, 3...   \n",
       "\n",
       "                        line_sample_line_mungchi_string  \\\n",
       "6085  [네 앞에선, 난 어질 어질 어질 두통, 또 돌고 돌아, 비상이 걸려, 버 버퍼링이...   \n",
       "6086  [우린 이 음악을 빌려, 이 분위기를 빌려, 지금 이 공기 이건 마치, 낯선 과일 ...   \n",
       "6087  [사랑이었다 별거 없던 내 하루에, 빛이 돼준 단한 사람, 나보다 나를 더 아껴 주...   \n",
       "6088  [바람에 날려 꽃이 지는 계절엔, 아직도 너의 손을 잡은 듯 그런 듯 해, 그때는 ...   \n",
       "6089  [난 지금 널 향해 달려가고 있어, 숨이 턱까지 차올라 괜찮아, 잠시 후 널 마주할...   \n",
       "\n",
       "                       line_sample_line_mungchi_integer  \\\n",
       "6085  [[4], [9], [5], [5], [6], [6], [8], [8], [7], ...   \n",
       "6086  [[8], [7], [9], [9], [6], [16], [16], [4], [8]...   \n",
       "6087  [[13], [8], [12], [7], [13], [9], [9], [8], [1...   \n",
       "6088  [[12], [14], [12], [13], [13], [8], [8], [12],...   \n",
       "6089  [[12], [11], [10], [12], [12], [10], [7], [9],...   \n",
       "\n",
       "                       verse_sample_word_mungchi_string  \\\n",
       "6085  [네 / 앞에선 / 난 / 어질 / 어질 / 어질 / 두통 / 또 / 돌고 / 돌아...   \n",
       "6086  [우린 / 이 / 음악을 / 빌려 / 이 / 분위기를 / 빌려 / 지금 / 이 / ...   \n",
       "6087  [사랑이었다 / 별거 / 없던 / 내 / 하루에 / 빛이 / 돼준 / 단한 / 사람...   \n",
       "6088  [바람에 / 날려 / 꽃이 / 지는 / 계절엔 / 아직도 / 너의 / 손을 / 잡은...   \n",
       "6089  [난 / 지금 / 널 / 향해 / 달려가고 / 있어 / 숨이 / 턱까지 / 차올라 ...   \n",
       "\n",
       "                      verse_sample_word_mungchi_integer  \\\n",
       "6085  [[1, 3, 1, 2, 2, 2, 2, 1, 2, 2, 3, 2, 1, 5], [...   \n",
       "6086  [[2, 1, 3, 2, 1, 4, 2, 2, 1, 2, 2, 2, 2, 2, 3,...   \n",
       "6087  [[5, 2, 2, 1, 3, 2, 2, 2, 2, 3, 2, 1, 2, 2, 2,...   \n",
       "6088  [[3, 2, 2, 2, 3, 3, 2, 2, 2, 1, 2, 1, 1, 3, 2,...   \n",
       "6089  [[1, 2, 1, 2, 4, 2, 2, 3, 3, 3, 2, 1, 1, 3, 3,...   \n",
       "\n",
       "                       verse_sample_line_mungchi_string  \\\n",
       "6085  [네 앞에선 / 난 어질 어질 어질 두통 / 또 돌고 돌아 / 비상이 걸려 / 버 ...   \n",
       "6086  [우린 이 음악을 빌려 / 이 분위기를 빌려 / 지금 이 공기 이건 마치 / 낯선 ...   \n",
       "6087  [사랑이었다 별거 없던 내 하루에 / 빛이 돼준 단한 사람 / 나보다 나를 더 아껴...   \n",
       "6088  [바람에 날려 꽃이 지는 계절엔 / 아직도 너의 손을 잡은 듯 그런 듯 해 / 그때...   \n",
       "6089  [난 지금 널 향해 달려가고 있어 / 숨이 턱까지 차올라 괜찮아 / 잠시 후 널 마...   \n",
       "\n",
       "                      verse_sample_line_mungchi_integer  \\\n",
       "6085  [[4, 9, 5, 5, 6], [6, 8, 8, 7, 8, 6, 7, 7, 5, ...   \n",
       "6086  [[8, 7, 9, 9, 6, 16, 16, 4, 8, 7, 9], [9, 7, 1...   \n",
       "6087  [[13, 8, 12, 7, 13, 9, 9, 8, 12, 6, 12, 14, 4,...   \n",
       "6088  [[12, 14, 12, 13, 13, 8, 8], [12, 14, 14, 14, ...   \n",
       "6089  [[12, 11, 10, 12, 12, 10, 7, 9, 8, 12, 8, 8, 6...   \n",
       "\n",
       "                       total_sample_word_mungchi_string  \\\n",
       "6085                                                 []   \n",
       "6086                                                 []   \n",
       "6087  [사랑이었다 / 별거 / 없던 / 내 / 하루에 / 빛이 / 돼준 / 단한 / 사람...   \n",
       "6088  [바람에 / 날려 / 꽃이 / 지는 / 계절엔 / 아직도 / 너의 / 손을 / 잡은...   \n",
       "6089                                                 []   \n",
       "\n",
       "                      total_sample_word_mungchi_integer  \\\n",
       "6085                                                 []   \n",
       "6086                                                 []   \n",
       "6087  [[5, 2, 2, 1, 3, 2, 2, 2, 2, 3, 2, 1, 2, 2, 2,...   \n",
       "6088  [[3, 2, 2, 2, 3, 3, 2, 2, 2, 1, 2, 1, 1, 3, 2,...   \n",
       "6089                                                 []   \n",
       "\n",
       "                       total_sample_line_mungchi_string  \\\n",
       "6085                                                 []   \n",
       "6086                                                 []   \n",
       "6087  [사랑이었다 별거 없던 내 하루에 / 빛이 돼준 단한 사람 / 나보다 나를 더 아껴...   \n",
       "6088  [바람에 날려 꽃이 지는 계절엔 / 아직도 너의 손을 잡은 듯 그런 듯 해 / 그때...   \n",
       "6089                                                 []   \n",
       "\n",
       "                      total_sample_line_mungchi_integer  \n",
       "6085                                                 []  \n",
       "6086                                                 []  \n",
       "6087  [[13, 8, 12, 7, 13, 9, 9, 8, 12, 6, 12, 14, 4,...  \n",
       "6088  [[12, 14, 12, 13, 13, 8, 8, 12, 14, 14, 14, 14...  \n",
       "6089                                                 []  "
      ]
     },
     "execution_count": 500,
     "metadata": {},
     "output_type": "execute_result"
    }
   ],
   "source": [
    "songs_only.tail()"
   ]
  },
  {
   "cell_type": "code",
   "execution_count": 501,
   "metadata": {},
   "outputs": [],
   "source": [
    "songs_only.to_json(\"./ready/dataset_v2.0.json\", force_ascii=False, orient = 'records', indent=4)"
   ]
  },
  {
   "cell_type": "markdown",
   "metadata": {},
   "source": [
    "## 5. 그 외"
   ]
  },
  {
   "cell_type": "markdown",
   "metadata": {},
   "source": [
    "- Title도 넣어주는데, 제목에 19금이나 (feat,~) 이런 것도 있음. 이런건 지워주자\n",
    "    - 19금은 아예 뺄 수도 있는데, 그럼 모델 두개 만들어야해서.. 잘 모르겠음\n",
    "- 앞서 말한 것처럼 fuzzy dedup을 쓸까도 고민이 되긴 함"
   ]
  }
 ],
 "metadata": {
  "kernelspec": {
   "display_name": "Python 3",
   "language": "python",
   "name": "python3"
  },
  "language_info": {
   "codemirror_mode": {
    "name": "ipython",
    "version": 3
   },
   "file_extension": ".py",
   "mimetype": "text/x-python",
   "name": "python",
   "nbconvert_exporter": "python",
   "pygments_lexer": "ipython3",
   "version": "3.10.14"
  }
 },
 "nbformat": 4,
 "nbformat_minor": 2
}
