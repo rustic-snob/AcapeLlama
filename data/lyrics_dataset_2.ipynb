{
 "cells": [
  {
   "cell_type": "code",
   "execution_count": 143,
   "metadata": {},
   "outputs": [],
   "source": [
    "import pandas as pd\n",
    "import glob\n",
    "import re\n",
    "file_paths = glob.glob(r'1984 - 2022 멜론 Top.100\\\\*.멜론TOP100가사.csv')  # 데이터 위치 확인 필요\n",
    "df_list = [pd.read_csv(file_path,index_col=0) for file_path in file_paths]\n",
    "combined_df = pd.concat(df_list, ignore_index=True)\n",
    "combined_df.rename(columns={'가사':'lyrics','제목':'title','장르':'genre'},inplace=True)\n",
    "combined_df.drop_duplicates(ignore_index=True,inplace=True)\n",
    "combined_df = combined_df[(combined_df['lyrics']!='Nan')&(combined_df['title']!='NaN') ]\n",
    "combined_df.dropna(inplace=True)\n",
    "combined_df['lyrics'] =combined_df['lyrics'].apply(lambda x: re.sub(r'\\n+', '\\n',x))\n",
    "combined_df['lyrics'] =combined_df['lyrics'].apply(lambda x: re.sub(r'\\s*\\n\\s*', '\\n',x))\n",
    "combined_df['lyrics'] =combined_df['lyrics'].apply(lambda x: re.sub(r'\\s*!\\n*', '\\n',x))\n",
    "combined_df['lyrics'] =combined_df['lyrics'].apply(lambda x: re.sub(r'\\s*\\n', '\\n',x))\n",
    "combined_df['lyrics'] =combined_df['lyrics'].apply(lambda x: re.sub(r'\\n\\s*', '\\n',x))\n",
    "combined_df['lyrics'] = combined_df['lyrics'].str.replace('  ', ' ')\n",
    "combined_df['lyrics'] = combined_df['lyrics'].str.strip()\n",
    "df_1,df_2,df_3,df_4,df_5,df_6 = (combined_df.copy(deep=True) for _ in range(6))\n"
   ]
  },
  {
   "cell_type": "code",
   "execution_count": null,
   "metadata": {},
   "outputs": [],
   "source": [
    "# combined_df['lyrics'] = combined_df['lyrics'].str.replace('   \\n', '\\n')\n",
    "#combined_df['lyrics'] = combined_df['lyrics'].str.replace('\\n\\n\\n', '\\n')\n",
    "# combined_df['lyrics'] = combined_df['lyrics'].str.replace('\\n  \\n', '\\n')\n",
    "# combined_df['lyrics'] = combined_df['lyrics'].str.replace('\\n \\n', '\\n')\n",
    "#combined_df['lyrics'] = combined_df['lyrics'].str.replace('\\n\\n', '\\n')\n",
    "#combined_df['lyrics'] = combined_df['lyrics'].str.replace('\\n\\n\\n ', '\\n')\n",
    "# combined_df['lyrics'] = combined_df['lyrics'].str.replace('!', '')"
   ]
  },
  {
   "cell_type": "code",
   "execution_count": 144,
   "metadata": {},
   "outputs": [],
   "source": [
    "#단어단위 뭉치 NL줄 단위\\n\",\n",
    "def word_N_split(lyrics_row,l_num):\n",
    "    l_num =l_num\n",
    "    word_sum = 0\n",
    "    lyrics_mung = []\n",
    "    lyrics_word =[]\n",
    "    for word in lyrics_row.split('\\n'): #df_6['lyrics'].iloc[1]\n",
    "        word_sum += len(word)\n",
    "        lyrics_word.append(word)\n",
    "\n",
    "        if word_sum>=l_num:\n",
    "            lyrics_mung.append(lyrics_word)\n",
    "            word_sum = 0\n",
    "            lyrics_word=[]\n",
    "    return [[word for phrase in sublist for word in phrase.split() if word !=''] for sublist in lyrics_mung]\n",
    "\n",
    "#한줄단위 뭉치 NL줄 단위\n",
    "def line_N_split(lyrics_row,l_num):\n",
    "    word_sum = 0\n",
    "    lyrics_mung = []\n",
    "    lyrics_word =[]\n",
    "    for word in lyrics_row.split('\\n'): #df_6['lyrics'].iloc[1]\n",
    "\n",
    "        word_sum += len(word)\n",
    "        lyrics_word.append(word)\n",
    "\n",
    "        if word_sum>=l_num:\n",
    "            lyrics_mung.append(lyrics_word)\n",
    "            word_sum = 0\n",
    "            lyrics_word=[]\n",
    "    return lyrics_mung\n",
    "\n",
    "def count_char(text):\n",
    "    return sum(1 for char in text if char.isalpha())"
   ]
  },
  {
   "cell_type": "code",
   "execution_count": 145,
   "metadata": {},
   "outputs": [],
   "source": [
    "# label 한syllable_strategy (필요없어짐)\n",
    "#df['lyrics'].apply(lambda x: [line.split(' ') for line in x.split('\\\\n')] if pd.notnull(x) else x)\n",
    "\n",
    "# label syllable_limit마다\n",
    "n_ = 1\n",
    "df_1['label'] = df_1['lyrics'].apply(lambda x: [' '.join(x.split('\\n')[i:i+n_]).split(' ') for i in range(0, len(x.split('\\n')), n_) if x.split('\\n')[i:i+n_]!=''])\n",
    "df_1['chunk_strategy'] = 'word'\n",
    "df_1['sampling_strategy'] ='one'\n",
    "df_1['syllable_limit'] = 0\n",
    "df_1['mungchi'] = df_1['label'].apply(lambda x: [[count_char(word) for word in sublist] for sublist in x])\n",
    "# label 전곡\n",
    "df_2['label'] = df_2['lyrics'].apply(lambda x: [word for part in x.split('\\n') for word in part.split(' ') if word])\n",
    "df_2['chunk_strategy'] = 'word'\n",
    "df_2['sampling_strategy'] ='total'\n",
    "df_2['syllable_limit'] = 0\n",
    "df_2['mungchi'] = df_2['label'].apply(lambda x: [count_char(sublist) for sublist in x])\n",
    "\n",
    "l_num = 30\n",
    "df_3['label'] = df_3['lyrics'].apply(lambda x: word_N_split(x,l_num))\n",
    "df_3['chunk_strategy'] = 'word'\n",
    "df_3['sampling_strategy'] ='L'\n",
    "df_3['syllable_limit'] = l_num\n",
    "df_3['mungchi'] = df_3['label'].apply(lambda x: [[count_char(word) for word in sublist] for sublist in x])\n",
    "# 한label syllable_limit\n",
    "n_ = 1\n",
    "df_4['label'] = df_4['lyrics'].apply(lambda x: [x.strip().split('\\n')[i:i+n_] for i in range(0, len(x.strip().split('\\n')), n_)])\n",
    "df_4['chunk_strategy'] = 'line'\n",
    "df_4['sampling_strategy'] ='one'\n",
    "df_4['syllable_limit'] = 0\n",
    "df_4['mungchi'] = df_4['label'].apply(lambda x: [[count_char(word) for word in sublist] for sublist in x])\n",
    "# 한label 전곡\n",
    "df_5['label']= df_5['lyrics'].apply(lambda x: [x.strip().split('\\n')])\n",
    "df_5['chunk_strategy'] = 'line'\n",
    "df_5['sampling_strategy'] ='total'\n",
    "df_5['syllable_limit'] = 0\n",
    "df_5['mungchi'] = df_5['label'].apply(lambda x: [[count_char(word.strip()) for word in sublist] for sublist in x])\n",
    "\n",
    "df_6['label'] = df_6['lyrics'].apply(lambda x: line_N_split(x,l_num))\n",
    "df_6['chunk_strategy'] = 'line'\n",
    "df_6['sampling_strategy'] ='L'\n",
    "df_6['syllable_limit'] = l_num\n",
    "df_6['mungchi'] = df_6['label'].apply(lambda x: [[count_char(word) for word in sublist] for sublist in x])"
   ]
  },
  {
   "cell_type": "code",
   "execution_count": 146,
   "metadata": {},
   "outputs": [],
   "source": [
    "dataset = pd.concat([df_1, df_2, df_3, df_4, df_5, df_6], axis=0)\n",
    "dataset = dataset[['title','lyrics','genre','mungchi','label','chunk_strategy','sampling_strategy','syllable_limit']]"
   ]
  },
  {
   "cell_type": "code",
   "execution_count": 147,
   "metadata": {},
   "outputs": [],
   "source": [
    "# data 저장\n",
    "dataset.to_csv('lyrics_dataset.csv',index_label=False)\n",
    "dataset.reset_index().to_json('lyrics_dataset.json')"
   ]
  },
  {
   "cell_type": "code",
   "execution_count": 148,
   "metadata": {},
   "outputs": [
    {
     "data": {
      "text/plain": [
       "[[15],\n",
       " [14],\n",
       " [14],\n",
       " [13],\n",
       " [17],\n",
       " [14],\n",
       " [14],\n",
       " [14],\n",
       " [14],\n",
       " [17],\n",
       " [14],\n",
       " [14],\n",
       " [14],\n",
       " [14],\n",
       " [7]]"
      ]
     },
     "execution_count": 148,
     "metadata": {},
     "output_type": "execute_result"
    }
   ],
   "source": [
    "df = dataset\n",
    "df.loc[(df['title']=='J에게') & (df['chunk_strategy']=='line') & (df['sampling_strategy']=='one')]['mungchi'][0]"
   ]
  },
  {
   "cell_type": "code",
   "execution_count": 149,
   "metadata": {},
   "outputs": [
    {
     "data": {
      "text/plain": [
       "0    [[1, 3, 3, 1, 2, 2, 3], [1, 3, 3, 2, 5], [1, 3...\n",
       "0    [1, 3, 3, 1, 2, 2, 3, 1, 3, 3, 2, 5, 1, 3, 3, ...\n",
       "0    [[1, 3, 3, 1, 2, 2, 3, 1, 3, 3, 2, 5], [1, 3, ...\n",
       "0    [[15], [14], [14], [13], [17], [14], [14], [14...\n",
       "0    [[15, 14, 14, 13, 17, 14, 14, 14, 14, 17, 14, ...\n",
       "0    [[15, 14], [14, 13], [17, 14], [14, 14], [14, ...\n",
       "Name: mungchi, dtype: object"
      ]
     },
     "execution_count": 149,
     "metadata": {},
     "output_type": "execute_result"
    }
   ],
   "source": [
    "df.loc[(df['title']=='J에게')]['mungchi']"
   ]
  },
  {
   "cell_type": "code",
   "execution_count": 37,
   "metadata": {},
   "outputs": [],
   "source": [
    "# 리스트안에 빈칸 있는 가사 찾기\n",
    "def zero_check(df):\n",
    "    idx = 0\n",
    "    for i in df.label:\n",
    "        idx+=1\n",
    "        for j in i:\n",
    "            for x in j:\n",
    "                if len(x)==0:\n",
    "                    print(idx-1,len(x),i)\n",
    "    return\n",
    "\n",
    "# 리스트안에 특정문자 있는 가사 찾기\n",
    "def word_check(df,word):\n",
    "    idx = 0\n",
    "    for i in df.label:\n",
    "        idx+=1\n",
    "        for j in i:\n",
    "            for x in j:\n",
    "                if x==word:\n",
    "                    print(idx-1,i)\n",
    "    return\n",
    "                "
   ]
  },
  {
   "cell_type": "code",
   "execution_count": 150,
   "metadata": {},
   "outputs": [],
   "source": [
    "zero_check(df_1,)"
   ]
  },
  {
   "cell_type": "code",
   "execution_count": null,
   "metadata": {},
   "outputs": [],
   "source": [
    "idx = 0\n",
    "for i in df_1.lyrics:\n",
    "    idx+=1\n",
    "    for j in i:\n",
    "        print(j)"
   ]
  },
  {
   "cell_type": "code",
   "execution_count": 136,
   "metadata": {},
   "outputs": [
    {
     "data": {
      "text/plain": [
       "title                                                               그대\n",
       "가수                                                                 이태원\n",
       "lyrics               그대 아름다운 얼굴에\\n슬픈 미소 짓지 말아요\\n그대 사랑하는 이 마음 언제라도 있...\n",
       "genre                                                           포크/블루스\n",
       "label                [[그대, 아름다운, 얼굴에], [슬픈, 미소, 짓지, 말아요], [그대, 사랑하는...\n",
       "chunk_strategy                                                    word\n",
       "sampling_strategy                                                  one\n",
       "syllable_limit                                                       0\n",
       "mungchi              [[2, 4, 3], [2, 2, 2, 3], [2, 4, 1, 2, 4, 3], ...\n",
       "Name: 83, dtype: object"
      ]
     },
     "execution_count": 136,
     "metadata": {},
     "output_type": "execute_result"
    }
   ],
   "source": [
    "df_1.iloc[73]"
   ]
  },
  {
   "cell_type": "code",
   "execution_count": 45,
   "metadata": {},
   "outputs": [],
   "source": [
    "dataset['lyrics'] = dataset['lyrics'].str.replace('\\n\\n', '\\n', regex=False)"
   ]
  },
  {
   "cell_type": "code",
   "execution_count": 66,
   "metadata": {},
   "outputs": [
    {
     "name": "stdout",
     "output_type": "stream",
     "text": [
      "['sweet little kitty\\nsweet little kitty -\\n\\n내 두눈 밤이면 별이 되지 \\n나의 집은 뒷골목 달과 별이 뜨지요\\n두번 다신 생선가게 털지 않아\\n서럽게 울던 날들 나는 외톨이라네\\n\\n이젠 바다로 떠날거예요(더 자유롭게)\\n거미로 그물 쳐서 물고기 잡으러\\n\\n나는 낭만 고양이\\n슬픈 도시를 비춰 춤추는 작은 별빛\\n나는 낭만 고양이\\n홀로 떠나가버린 깊고 슬픈 나의 바다여\\n\\n(sweet) sweet little kitty -\\n\\n깊은 바다 자유롭게 날던 내가\\n한 없이 밑으로만 가라 앉고 있는데\\n이젠 바다로 떠날 거예요(더 자유롭게)\\n거미로 그물 쳐서 물고기 잡으러\\n\\n나는 낭만 고양이\\n슬픈 도시를 비춰 춤추는 작은 별빛\\n나는 낭만 고양이 \\n홀로 떠나가버린 깊고 슬픈 나의 바다여\\n\\nsweet little kitty\\nsweet little kitty -\\n\\n(나는 낭만 고양이 홀로 떠나가버린..)\\n\\n나는 낭만 고양이\\n슬픈 도시를 비춰 (도시를 비춰)\\n춤추는 작은 별빛\\n\\n나는 낭만 고양이\\n홀로 떠나가버린 (떠나가 버린 아)\\n깊고 슬픈 나의 바다여\\n\\n(sweet) sweet little kitty -']\n"
     ]
    }
   ],
   "source": [
    "print(df_1[df_1['title'] ==' 비내리는 영동교']['lyrics'].str.replace(r'\\n+', '\\n').tolist())\n",
    "print(df_1[df_1['title'] =='낭만고양이']['lyrics'].tolist())"
   ]
  },
  {
   "cell_type": "code",
   "execution_count": 137,
   "metadata": {},
   "outputs": [
    {
     "name": "stdout",
     "output_type": "stream",
     "text": [
      "['그대 아름다운 얼굴에\\n슬픈 미소 짓지 말아요\\n그대 사랑하는 이 마음 언제라도 있지요\\n그대 아름다운 마음에\\n슬픈 추억 갖지 말아요\\n그대 좋아하는 이마음 언제라도 있지요\\n우리는 누구입니까\\n빈 언덕의 자운영꽃\\n혼자힘으로 일어설 수 없는\\n반짝이는 조약돌\\n이름을 얻지못한 구석진 마을의\\n투명한 시냇물\\n일제히 흰 띠를 두르고 스스로 다가오는\\n첫눈입니다\\n우리는 무엇입니까\\n늘 앞질러 사랑케 하실 힘 덜어내고도\\n몇배로 다시 고이는 힘\\n이파리도 되고 실팍한 줄기도 되고\\n아\\n 한몫에 그대를 다 품을 수 있는\\n씨앗으로 남고 싶습니다\\n허물없이 맨발인 넉넉한 저녁입니다\\n뜨거운 목젖까지 알아내고도\\n코끝으로까지 발이 저린\\n우리는 나무입니다\\n우리는 어떤 노래입니까\\n이노리나무 정수리에 낭낭 걸린 노래 한소절\\n그대 아름다운 얼굴에\\n슬픈 미소 짓지 말아요\\n그대 사랑하는 이마음 언제라도 있지요\\n아름다운 세상을 눈물나게 하는\\n눈물나는 세상을 아름답게 하는\\n그대와 나는 두고 두고 사랑해야 합니다\\n그것이 내가 네게로 이르는 길\\n네가 깨끗한 얼굴로 내게로 되돌아 오는길\\n그대와 나는 내리 내리 사랑하는 일만\\n남겨두어야 합니다\\n그대 아름다운 마음에\\n슬픈 추억갖지 말아요\\n그대 좋아하는 이마음 영원토록 있지요']\n"
     ]
    }
   ],
   "source": [
    "#print(combined_df[combined_df['title'] =='Real Love']['lyrics'].str.replace(r'\\n+', '\\n').tolist())\n",
    "print(combined_df[combined_df['title'] =='그대']['lyrics'].tolist())"
   ]
  },
  {
   "cell_type": "code",
   "execution_count": 113,
   "metadata": {},
   "outputs": [
    {
     "ename": "TypeError",
     "evalue": "expected string or bytes-like object",
     "output_type": "error",
     "traceback": [
      "\u001b[1;31m---------------------------------------------------------------------------\u001b[0m",
      "\u001b[1;31mTypeError\u001b[0m                                 Traceback (most recent call last)",
      "Cell \u001b[1;32mIn[113], line 2\u001b[0m\n\u001b[0;32m      1\u001b[0m \u001b[38;5;28;01mimport\u001b[39;00m \u001b[38;5;21;01mre\u001b[39;00m\n\u001b[1;32m----> 2\u001b[0m \u001b[38;5;28mprint\u001b[39m(\u001b[43mre\u001b[49m\u001b[38;5;241;43m.\u001b[39;49m\u001b[43msub\u001b[49m\u001b[43m(\u001b[49m\u001b[38;5;124;43mr\u001b[39;49m\u001b[38;5;124;43m'\u001b[39;49m\u001b[38;5;124;43m\\\u001b[39;49m\u001b[38;5;124;43mn+\u001b[39;49m\u001b[38;5;124;43m'\u001b[39;49m\u001b[43m,\u001b[49m\u001b[43m \u001b[49m\u001b[38;5;124;43m'\u001b[39;49m\u001b[38;5;130;43;01m\\n\u001b[39;49;00m\u001b[38;5;124;43m'\u001b[39;49m\u001b[43m,\u001b[49m\u001b[43mcombined_df\u001b[49m\u001b[43m[\u001b[49m\u001b[43mcombined_df\u001b[49m\u001b[43m[\u001b[49m\u001b[38;5;124;43m'\u001b[39;49m\u001b[38;5;124;43mtitle\u001b[39;49m\u001b[38;5;124;43m'\u001b[39;49m\u001b[43m]\u001b[49m\u001b[43m \u001b[49m\u001b[38;5;241;43m==\u001b[39;49m\u001b[38;5;124;43m'\u001b[39;49m\u001b[38;5;124;43mReal Love\u001b[39;49m\u001b[38;5;124;43m'\u001b[39;49m\u001b[43m]\u001b[49m\u001b[43m[\u001b[49m\u001b[38;5;124;43m'\u001b[39;49m\u001b[38;5;124;43mlyrics\u001b[39;49m\u001b[38;5;124;43m'\u001b[39;49m\u001b[43m]\u001b[49m\u001b[43m)\u001b[49m)\n\u001b[0;32m      3\u001b[0m \u001b[38;5;28mprint\u001b[39m(combined_df[combined_df[\u001b[38;5;124m'\u001b[39m\u001b[38;5;124mtitle\u001b[39m\u001b[38;5;124m'\u001b[39m] \u001b[38;5;241m==\u001b[39m\u001b[38;5;124m'\u001b[39m\u001b[38;5;124mReal Love\u001b[39m\u001b[38;5;124m'\u001b[39m][\u001b[38;5;124m'\u001b[39m\u001b[38;5;124mlyrics\u001b[39m\u001b[38;5;124m'\u001b[39m]\u001b[38;5;241m.\u001b[39mtolist())\n",
      "File \u001b[1;32mc:\\Users\\galaxy\\AppData\\Local\\Programs\\Python\\Python38\\lib\\re.py:210\u001b[0m, in \u001b[0;36msub\u001b[1;34m(pattern, repl, string, count, flags)\u001b[0m\n\u001b[0;32m    203\u001b[0m \u001b[38;5;28;01mdef\u001b[39;00m \u001b[38;5;21msub\u001b[39m(pattern, repl, string, count\u001b[38;5;241m=\u001b[39m\u001b[38;5;241m0\u001b[39m, flags\u001b[38;5;241m=\u001b[39m\u001b[38;5;241m0\u001b[39m):\n\u001b[0;32m    204\u001b[0m \u001b[38;5;250m    \u001b[39m\u001b[38;5;124;03m\"\"\"Return the string obtained by replacing the leftmost\u001b[39;00m\n\u001b[0;32m    205\u001b[0m \u001b[38;5;124;03m    non-overlapping occurrences of the pattern in string by the\u001b[39;00m\n\u001b[0;32m    206\u001b[0m \u001b[38;5;124;03m    replacement repl.  repl can be either a string or a callable;\u001b[39;00m\n\u001b[0;32m    207\u001b[0m \u001b[38;5;124;03m    if a string, backslash escapes in it are processed.  If it is\u001b[39;00m\n\u001b[0;32m    208\u001b[0m \u001b[38;5;124;03m    a callable, it's passed the Match object and must return\u001b[39;00m\n\u001b[0;32m    209\u001b[0m \u001b[38;5;124;03m    a replacement string to be used.\"\"\"\u001b[39;00m\n\u001b[1;32m--> 210\u001b[0m     \u001b[38;5;28;01mreturn\u001b[39;00m \u001b[43m_compile\u001b[49m\u001b[43m(\u001b[49m\u001b[43mpattern\u001b[49m\u001b[43m,\u001b[49m\u001b[43m \u001b[49m\u001b[43mflags\u001b[49m\u001b[43m)\u001b[49m\u001b[38;5;241;43m.\u001b[39;49m\u001b[43msub\u001b[49m\u001b[43m(\u001b[49m\u001b[43mrepl\u001b[49m\u001b[43m,\u001b[49m\u001b[43m \u001b[49m\u001b[43mstring\u001b[49m\u001b[43m,\u001b[49m\u001b[43m \u001b[49m\u001b[43mcount\u001b[49m\u001b[43m)\u001b[49m\n",
      "\u001b[1;31mTypeError\u001b[0m: expected string or bytes-like object"
     ]
    }
   ],
   "source": [
    "print(re.sub(r'\\n+', '\\n',combined_df[combined_df['title'] =='Real Love']['lyrics']))\n",
    "print(combined_df[combined_df['title'] =='Real Love']['lyrics'].tolist())"
   ]
  },
  {
   "cell_type": "code",
   "execution_count": 115,
   "metadata": {},
   "outputs": [],
   "source": [
    "combined_df['lyrics'] =combined_df['lyrics'].apply(lambda x: re.sub(r'\\n+', '\\n',x))"
   ]
  },
  {
   "cell_type": "code",
   "execution_count": 108,
   "metadata": {},
   "outputs": [
    {
     "data": {
      "text/plain": [
       "[\"우린 이 음악을 빌려\\n이 분위기를 빌려\\n지금 이 공기 이건 마치\\n7시간 비행 뒤 만난 것 같은 섬\\npink빛 하늘을 빌려\\nTalkin' 'bout the real love\\n\\n낯선 과일 향기가 퍼져\\n이 기분은 뭘까\\n아주 살짝 감긴 나의 눈이 빛나고 있잖아\\n사랑을 말하기 이보다 완벽한 밤은 없어\\n지금이야\\n\\n우린 이 음악을 빌려\\n이 분위기를 빌려\\n지금 이 공기 이건 마치\\n7시간 비행 뒤 만난 것 같은 섬\\npink빛 하늘을 빌려\\nTalkin' 'bout the real love\\n\\n웅성거린 소리는 모두\\n다른 외국어 같아\\n너에게 1, 2, 3 최면처럼 막 빠져드는 이 순간\\n사랑을 말하기 이보다 완벽한 밤은 없어\\n지금이야\\n\\n우린 이 음악을 빌려\\n이 분위기를 빌려\\n지금 이 공기 이건 마치\\n7시간 비행 뒤 만난 것 같은 섬\\npink빛 하늘을 빌려\\nTalkin' 'bout the real love\\n\\nReal, real love\\nIt’s a Real, real love\\nReal, real love\\nIt’s a Real, real love\\n이건 exotic experience\\n우연이라기엔 영화 속 한 장면 같아 솔직히 이 모든 게\\n자꾸만 느려져 천천히 가는 이 느낌\\n감각은 so unreal, real love\\n\\n우린 이 음악을 빌려\\n이 분위기를 빌려\\n지금 이 공기 이건 마치\\n7시간 비행 뒤 만난 것 같은 섬의\\npink빛 하늘을 빌려\\nTalkin' 'bout the real love\"]"
      ]
     },
     "execution_count": 108,
     "metadata": {},
     "output_type": "execute_result"
    }
   ],
   "source": [
    "combined_df[combined_df['title'] =='Real Love']['lyrics'].tolist()"
   ]
  },
  {
   "cell_type": "code",
   "execution_count": null,
   "metadata": {},
   "outputs": [],
   "source": []
  }
 ],
 "metadata": {
  "kernelspec": {
   "display_name": "Python 3",
   "language": "python",
   "name": "python3"
  },
  "language_info": {
   "codemirror_mode": {
    "name": "ipython",
    "version": 3
   },
   "file_extension": ".py",
   "mimetype": "text/x-python",
   "name": "python",
   "nbconvert_exporter": "python",
   "pygments_lexer": "ipython3",
   "version": "3.8.10"
  }
 },
 "nbformat": 4,
 "nbformat_minor": 2
}
