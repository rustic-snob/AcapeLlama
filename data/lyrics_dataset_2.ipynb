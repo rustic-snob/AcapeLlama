{
 "cells": [
  {
   "cell_type": "code",
   "execution_count": 1,
   "metadata": {},
   "outputs": [],
   "source": [
    "import pandas as pd\n",
    "import glob\n",
    "file_paths = glob.glob(r'1984 - 2022 멜론 Top.100\\\\*.멜론TOP100가사.csv')\n",
    "df_list = [pd.read_csv(file_path,index_col=0) for file_path in file_paths]\n",
    "combined_df = pd.concat(df_list, ignore_index=True)\n",
    "combined_df.rename(columns={'가사':'lyrics','제목':'title','장르':'genre'},inplace=True)\n",
    "combined_df.drop_duplicates(ignore_index=True,inplace=True)\n",
    "combined_df = combined_df[(combined_df['lyrics']!='Nan')&(combined_df['title']!='NaN') ]\n",
    "combined_df.dropna(inplace=True)\n",
    "combined_df['lyrics'] = combined_df['lyrics'].str.replace('\\n\\n', '\\n', regex=False)\n",
    "df_1,df_2,df_3,df_4,df_5,df_6 = (combined_df.copy(deep=True) for _ in range(6))"
   ]
  },
  {
   "cell_type": "code",
   "execution_count": 2,
   "metadata": {},
   "outputs": [],
   "source": [
    "#단어단위 뭉치 NL줄 단위\\n\",\n",
    "def word_N_split(lyrics_row,l_num):\n",
    "    l_num =l_num\n",
    "    word_sum = 0\n",
    "    lyrics_mung = []\n",
    "    lyrics_word =[]\n",
    "    for word in lyrics_row.split('\\n'): #df_6['lyrics'].iloc[1]\n",
    "        word_sum += len(word)\n",
    "        lyrics_word.append(word)\n",
    "\n",
    "        if word_sum>=l_num:\n",
    "            lyrics_mung.append(lyrics_word)\n",
    "            word_sum = 0\n",
    "            lyrics_word=[]\n",
    "    return [[word for phrase in sublist for word in phrase.split()] for sublist in lyrics_mung]\n",
    "\n",
    "#한줄단위 뭉치 NL줄 단위\n",
    "def line_N_split(lyrics_row,l_num):\n",
    "    word_sum = 0\n",
    "    lyrics_mung = []\n",
    "    lyrics_word =[]\n",
    "    for word in lyrics_row.split('\\n'): #df_6['lyrics'].iloc[1]\n",
    "\n",
    "        word_sum += len(word)\n",
    "        lyrics_word.append(word)\n",
    "\n",
    "        if word_sum>=l_num:\n",
    "            lyrics_mung.append(lyrics_word)\n",
    "            word_sum = 0\n",
    "            lyrics_word=[]\n",
    "    return lyrics_mung\n",
    "\n",
    "def count_char(text):\n",
    "    return sum(1 for char in text if char.isalpha())"
   ]
  },
  {
   "cell_type": "code",
   "execution_count": 3,
   "metadata": {},
   "outputs": [],
   "source": [
    "# label 한syllable_strategy (필요없어짐)\n",
    "#df['lyrics'].apply(lambda x: [line.split(' ') for line in x.split('\\\\n')] if pd.notnull(x) else x)\n",
    "\n",
    "# label syllable_limit마다\n",
    "n_ = 1\n",
    "df_1['label'] = df_1['lyrics'].apply(lambda x: [' '.join(x.split('\\n')[i:i+n_]).split(' ') for i in range(0, len(x.split('\\n')), n_)])\n",
    "df_1['chunk_strategy'] = 'word'\n",
    "df_1['sampling_strategy'] ='one'\n",
    "df_1['syllable_limit'] = 0\n",
    "df_1['mungchi'] = df_1['label'].apply(lambda x: [[count_char(word) for word in sublist] for sublist in x])\n",
    "# label 전곡\n",
    "df_2['label'] = df_2['lyrics'].apply(lambda x: [word for part in x.split('\\n') for word in part.split(' ') if word])\n",
    "df_2['chunk_strategy'] = 'word'\n",
    "df_2['sampling_strategy'] ='total'\n",
    "df_2['syllable_limit'] = 0\n",
    "df_2['mungchi'] = df_2['label'].apply(lambda x: [count_char(sublist) for sublist in x])\n",
    "\n",
    "l_num = 30\n",
    "df_3['label'] = df_3['lyrics'].apply(lambda x: word_N_split(x,l_num))\n",
    "df_3['chunk_strategy'] = 'word'\n",
    "df_3['sampling_strategy'] ='L'\n",
    "df_3['syllable_limit'] = l_num\n",
    "df_3['mungchi'] = df_3['label'].apply(lambda x: [[count_char(word) for word in sublist] for sublist in x])\n",
    "# 한label syllable_limit\n",
    "n_ = 1\n",
    "df_4['label'] = df_4['lyrics'].apply(lambda x: [x.strip().split('\\n')[i:i+n_] for i in range(0, len(x.strip().split('\\n')), n_)])\n",
    "df_4['chunk_strategy'] = 'line'\n",
    "df_4['sampling_strategy'] ='one'\n",
    "df_4['syllable_limit'] = 0\n",
    "df_4['mungchi'] = df_4['label'].apply(lambda x: [[count_char(word) for word in sublist] for sublist in x])\n",
    "# 한label 전곡\n",
    "df_5['label']= df_5['lyrics'].apply(lambda x: [x.strip().split('\\n')])\n",
    "df_5['chunk_strategy'] = 'line'\n",
    "df_5['sampling_strategy'] ='total'\n",
    "df_5['syllable_limit'] = 0\n",
    "df_5['mungchi'] = df_5['label'].apply(lambda x: [[count_char(word.strip()) for word in sublist] for sublist in x])\n",
    "\n",
    "df_6['label'] = df_6['lyrics'].apply(lambda x: line_N_split(x,l_num))\n",
    "df_6['chunk_strategy'] = 'line'\n",
    "df_6['sampling_strategy'] ='L'\n",
    "df_6['syllable_limit'] = l_num\n",
    "df_6['mungchi'] = df_6['label'].apply(lambda x: [[count_char(word) for word in sublist] for sublist in x])"
   ]
  },
  {
   "cell_type": "code",
   "execution_count": 4,
   "metadata": {},
   "outputs": [],
   "source": [
    "dataset = pd.concat([df_1, df_2, df_3, df_4, df_5, df_6], axis=0)\n",
    "dataset = dataset[['title','lyrics','genre','mungchi','label','chunk_strategy','sampling_strategy','syllable_limit']]"
   ]
  },
  {
   "cell_type": "code",
   "execution_count": 18,
   "metadata": {},
   "outputs": [],
   "source": [
    "# data 저장\n",
    "dataset.to_csv('lyrics_dataset.csv',index_label=False)\n",
    "dataset.reset_index().to_json('lyrics_dataset.json')"
   ]
  },
  {
   "cell_type": "code",
   "execution_count": 19,
   "metadata": {},
   "outputs": [
    {
     "data": {
      "text/plain": [
       "[[15],\n",
       " [14],\n",
       " [14],\n",
       " [13],\n",
       " [17],\n",
       " [14],\n",
       " [14],\n",
       " [14],\n",
       " [14],\n",
       " [17],\n",
       " [14],\n",
       " [14],\n",
       " [14],\n",
       " [14],\n",
       " [7]]"
      ]
     },
     "execution_count": 19,
     "metadata": {},
     "output_type": "execute_result"
    }
   ],
   "source": [
    "df = dataset\n",
    "df.loc[(df['title']=='J에게') & (df['chunk_strategy']=='line') & (df['sampling_strategy']=='one')]['mungchi'][0]"
   ]
  },
  {
   "cell_type": "code",
   "execution_count": 22,
   "metadata": {},
   "outputs": [
    {
     "data": {
      "text/plain": [
       "0    [[1, 3, 3, 1, 2, 2, 3], [1, 3, 3, 2, 5], [1, 3...\n",
       "0    [1, 3, 3, 1, 2, 2, 3, 1, 3, 3, 2, 5, 1, 3, 3, ...\n",
       "0    [[1, 3, 3, 1, 2, 2, 3, 1, 3, 3, 2, 5], [1, 3, ...\n",
       "0    [[15], [14], [14], [13], [17], [14], [14], [14...\n",
       "0    [[15, 14, 14, 13, 17, 14, 14, 14, 14, 17, 14, ...\n",
       "0    [[15, 14], [14, 13], [17, 14], [14, 14], [14, ...\n",
       "Name: mungchi, dtype: object"
      ]
     },
     "execution_count": 22,
     "metadata": {},
     "output_type": "execute_result"
    }
   ],
   "source": [
    "df.loc[(df['title']=='J에게')]['mungchi']"
   ]
  },
  {
   "cell_type": "code",
   "execution_count": 39,
   "metadata": {},
   "outputs": [
    {
     "ename": "AttributeError",
     "evalue": "'DataFrame' object has no attribute 'label'",
     "output_type": "error",
     "traceback": [
      "\u001b[1;31m---------------------------------------------------------------------------\u001b[0m",
      "\u001b[1;31mAttributeError\u001b[0m                            Traceback (most recent call last)",
      "Cell \u001b[1;32mIn[39], line 3\u001b[0m\n\u001b[0;32m      1\u001b[0m \u001b[38;5;66;03m# 리스트안에 빈 가사 찾기\u001b[39;00m\n\u001b[0;32m      2\u001b[0m idx \u001b[38;5;241m=\u001b[39m \u001b[38;5;241m0\u001b[39m\n\u001b[1;32m----> 3\u001b[0m \u001b[38;5;28;01mfor\u001b[39;00m i \u001b[38;5;129;01min\u001b[39;00m \u001b[43mcombined_df\u001b[49m\u001b[38;5;241;43m.\u001b[39;49m\u001b[43mlabel\u001b[49m:\n\u001b[0;32m      4\u001b[0m     idx\u001b[38;5;241m+\u001b[39m\u001b[38;5;241m=\u001b[39m\u001b[38;5;241m1\u001b[39m\n\u001b[0;32m      5\u001b[0m     \u001b[38;5;28;01mfor\u001b[39;00m j \u001b[38;5;129;01min\u001b[39;00m i:\n",
      "File \u001b[1;32mc:\\Users\\galaxy\\AppData\\Local\\Programs\\Python\\Python38\\lib\\site-packages\\pandas\\core\\generic.py:5989\u001b[0m, in \u001b[0;36mNDFrame.__getattr__\u001b[1;34m(self, name)\u001b[0m\n\u001b[0;32m   5982\u001b[0m \u001b[38;5;28;01mif\u001b[39;00m (\n\u001b[0;32m   5983\u001b[0m     name \u001b[38;5;129;01mnot\u001b[39;00m \u001b[38;5;129;01min\u001b[39;00m \u001b[38;5;28mself\u001b[39m\u001b[38;5;241m.\u001b[39m_internal_names_set\n\u001b[0;32m   5984\u001b[0m     \u001b[38;5;129;01mand\u001b[39;00m name \u001b[38;5;129;01mnot\u001b[39;00m \u001b[38;5;129;01min\u001b[39;00m \u001b[38;5;28mself\u001b[39m\u001b[38;5;241m.\u001b[39m_metadata\n\u001b[0;32m   5985\u001b[0m     \u001b[38;5;129;01mand\u001b[39;00m name \u001b[38;5;129;01mnot\u001b[39;00m \u001b[38;5;129;01min\u001b[39;00m \u001b[38;5;28mself\u001b[39m\u001b[38;5;241m.\u001b[39m_accessors\n\u001b[0;32m   5986\u001b[0m     \u001b[38;5;129;01mand\u001b[39;00m \u001b[38;5;28mself\u001b[39m\u001b[38;5;241m.\u001b[39m_info_axis\u001b[38;5;241m.\u001b[39m_can_hold_identifiers_and_holds_name(name)\n\u001b[0;32m   5987\u001b[0m ):\n\u001b[0;32m   5988\u001b[0m     \u001b[38;5;28;01mreturn\u001b[39;00m \u001b[38;5;28mself\u001b[39m[name]\n\u001b[1;32m-> 5989\u001b[0m \u001b[38;5;28;01mreturn\u001b[39;00m \u001b[38;5;28;43mobject\u001b[39;49m\u001b[38;5;241;43m.\u001b[39;49m\u001b[38;5;21;43m__getattribute__\u001b[39;49m\u001b[43m(\u001b[49m\u001b[38;5;28;43mself\u001b[39;49m\u001b[43m,\u001b[49m\u001b[43m \u001b[49m\u001b[43mname\u001b[49m\u001b[43m)\u001b[49m\n",
      "\u001b[1;31mAttributeError\u001b[0m: 'DataFrame' object has no attribute 'label'"
     ]
    }
   ],
   "source": [
    "# 리스트안에 빈 가사 찾기\n",
    "idx = 0\n",
    "for i in dataset.label:\n",
    "    idx+=1\n",
    "    for j in i:\n",
    "        for x in j:\n",
    "            if len(x)==0:\n",
    "                print(idx,len(x),i)"
   ]
  },
  {
   "cell_type": "code",
   "execution_count": 41,
   "metadata": {},
   "outputs": [
    {
     "data": {
      "text/plain": [
       "title                                                             님그림자\n",
       "lyrics               저만치 앞서가는 님 뒤로\\n그림자 길게 드린 밤\\n님의 그림자 밟으려하니\\n서러움이...\n",
       "genre                                                         성인가요/트로트\n",
       "mungchi              [[3, 4, 1, 2], [3, 2, 2, 1], [2, 3, 5], [4, 3,...\n",
       "label                [[저만치, 앞서가는, 님, 뒤로], [그림자, 길게, 드린, 밤], [님의, 그림...\n",
       "chunk_strategy                                                    word\n",
       "sampling_strategy                                                  one\n",
       "syllable_limit                                                       0\n",
       "Name: 19, dtype: object"
      ]
     },
     "execution_count": 41,
     "metadata": {},
     "output_type": "execute_result"
    }
   ],
   "source": [
    "dataset.iloc[18]"
   ]
  },
  {
   "cell_type": "code",
   "execution_count": 30,
   "metadata": {},
   "outputs": [],
   "source": [
    "dataset['lyrics'] = dataset['lyrics'].str.replace('\\n\\n', '\\n', regex=False)"
   ]
  },
  {
   "cell_type": "code",
   "execution_count": 7,
   "metadata": {},
   "outputs": [
    {
     "name": "stdout",
     "output_type": "stream",
     "text": [
      "['저만치 앞서가는 님 뒤로\\n그림자 길게 드린 밤\\n님의 그림자 밟으려하니\\n서러움이 가슴에 이네\\n님은 나의 마음 헤아릴까\\n별만 해듯거린 밤\\n휘훵한 달빛아래 님 뒤로\\n긴 그림자 밟을 날 없네\\n저만치 앞서가는 님 뒤로\\n그림자 길게 드린 밤\\n님의 그림자 밟으려하니\\n서러움이 가슴에 이네\\n님은 나의 마음 헤아릴까\\n별만 헤듯 거린 밤\\n휘훵한 달빛아래 님 뒤로\\n긴 그림자 밟을 날 없네']\n"
     ]
    }
   ],
   "source": [
    "print(combined_df[combined_df['title'] =='님그림자']['lyrics'].str.replace('\\n\\n', '\\n', regex=False).tolist())"
   ]
  },
  {
   "cell_type": "code",
   "execution_count": 6,
   "metadata": {},
   "outputs": [
    {
     "data": {
      "text/plain": [
       "0        J 스치는 바람에 J 그대 모습 보이면\\n난 오늘도 조용히 그댈 그리워하네\\nJ 지...\n",
       "1        나는 나는 갯바위\\n당신은 나를 사랑하는 파도\\n어느 고운 바람 불던날\\n잔잔히 다...\n",
       "2        별이 유난히도 밝은\\n오늘 이 시간이 가면\\n그대\\n떠난다~는 말이\\n나를 슬프~게...\n",
       "3        당신의 고운 눈매에 할말을 잊었지만은\\n냉정히 돌아선 무정한 사람은 눈물을 모르겠지...\n",
       "4        그대의 모습 멀어져갔네\\n쓸쓸한 기억 남기고\\n낭만이 지워진 그 길로\\n조용히 멀어...\n",
       "                               ...                        \n",
       "14606    Scratch that bring it back\\n(Shook! Shook! Ha)...\n",
       "14607    우린 이 음악을 빌려\\n이 분위기를 빌려\\n지금 이 공기 이건 마치\\n7시간 비행 ...\n",
       "14608    사랑이었다 별거 없던 내 하루에\\n빛이 돼준 단한 사람\\n나보다 나를 더 아껴 주던...\n",
       "14609    바람에 날려 꽃이 지는 계절엔\\n아직도 너의 손을 잡은 듯 그런 듯 해\\n그때는 아...\n",
       "14610    난 지금 널 향해 달려가고 있어\\n숨이 턱까지 차올라 괜찮아\\n잠시 후 널 마주할 ...\n",
       "Name: lyrics, Length: 6090, dtype: object"
      ]
     },
     "execution_count": 6,
     "metadata": {},
     "output_type": "execute_result"
    }
   ],
   "source": [
    "combined_df['lyrics'].str.replace('\\n\\n', '\\n', regex=False)"
   ]
  },
  {
   "cell_type": "code",
   "execution_count": null,
   "metadata": {},
   "outputs": [],
   "source": []
  }
 ],
 "metadata": {
  "kernelspec": {
   "display_name": "Python 3",
   "language": "python",
   "name": "python3"
  },
  "language_info": {
   "codemirror_mode": {
    "name": "ipython",
    "version": 3
   },
   "file_extension": ".py",
   "mimetype": "text/x-python",
   "name": "python",
   "nbconvert_exporter": "python",
   "pygments_lexer": "ipython3",
   "version": "3.8.10"
  }
 },
 "nbformat": 4,
 "nbformat_minor": 2
}
