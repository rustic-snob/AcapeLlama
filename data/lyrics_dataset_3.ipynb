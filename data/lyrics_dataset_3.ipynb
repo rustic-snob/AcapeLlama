{
 "cells": [
  {
   "cell_type": "code",
   "execution_count": 1,
   "metadata": {},
   "outputs": [],
   "source": [
    "import pandas as pd\n",
    "import glob\n",
    "import re\n",
    "file_paths = glob.glob(r'1984 - 2022 멜론 Top.100\\\\*.멜론TOP100가사.csv')  # 데이터 위치 확인 필요\n",
    "df_list = [pd.read_csv(file_path,index_col=0) for file_path in file_paths]\n",
    "combined_df = pd.concat(df_list, ignore_index=True)\n",
    "combined_df.rename(columns={'가사':'lyrics','제목':'title','장르':'genre'},inplace=True)\n",
    "combined_df.drop_duplicates(ignore_index=True,inplace=True)\n",
    "combined_df = combined_df[(combined_df['lyrics']!='Nan')&(combined_df['title']!='NaN') ]\n",
    "combined_df.dropna(inplace=True)\n",
    "combined_df['lyrics'] =combined_df['lyrics'].apply(lambda x: re.sub(r'\\n+', '\\n',x))\n",
    "combined_df['lyrics'] =combined_df['lyrics'].apply(lambda x: re.sub(r'\\s*\\n\\s*', '\\n',x))\n",
    "combined_df['lyrics'] =combined_df['lyrics'].apply(lambda x: re.sub(r'\\s*!\\n*', '\\n',x))\n",
    "combined_df['lyrics'] =combined_df['lyrics'].apply(lambda x: re.sub(r'\\s*\\n', '\\n',x))\n",
    "combined_df['lyrics'] =combined_df['lyrics'].apply(lambda x: re.sub(r'\\n\\s*', '\\n',x))\n",
    "combined_df['lyrics'] = combined_df['lyrics'].str.replace('  ', ' ')\n",
    "combined_df['lyrics'] = combined_df['lyrics'].str.strip()\n",
    "df_1,df_2,df_3,df_4,df_5,df_6 = (combined_df.copy(deep=True) for _ in range(6))"
   ]
  },
  {
   "cell_type": "code",
   "execution_count": 2,
   "metadata": {},
   "outputs": [],
   "source": [
    "#단어단위 뭉치 NL줄 단위\\n\",\n",
    "def word_N_split(lyrics_row,l_num):\n",
    "    l_num =l_num\n",
    "    word_sum = 0\n",
    "    lyrics_mung = []\n",
    "    lyrics_word =[]\n",
    "    for word in lyrics_row.split('\\n'): #df_6['lyrics'].iloc[1]\n",
    "        word_sum += count_char(word)\n",
    "        if word_sum>l_num:\n",
    "            lyrics_mung.append(lyrics_word)\n",
    "            word_sum = 0\n",
    "            lyrics_word=[]\n",
    "            word_sum+=count_char(word)\n",
    "        lyrics_word.append(word)\n",
    "    if word_sum<=l_num:\n",
    "        lyrics_mung.append(lyrics_word)\n",
    "    return [[word for phrase in sublist for word in phrase.split() if word !=''] for sublist in lyrics_mung]\n",
    "\n",
    "#한줄단위 뭉치 NL줄 단위\n",
    "def line_N_split(lyrics_row,l_num):\n",
    "    word_sum = 0\n",
    "    lyrics_mung = []\n",
    "    lyrics_line =[]\n",
    "    for line in lyrics_row.split('\\n'): #df_6['lyrics'].iloc[1]\n",
    "        word_sum += count_char(line)\n",
    "\n",
    "        if word_sum>l_num:\n",
    "            lyrics_mung.append(lyrics_line)\n",
    "            word_sum = 0\n",
    "            lyrics_line=[]\n",
    "            word_sum += count_char(line)\n",
    "        lyrics_line.append(line)\n",
    "    if word_sum<=l_num:\n",
    "        lyrics_mung.append(lyrics_line)\n",
    "    return lyrics_mung\n",
    "# 글자수만 count\n",
    "def count_char(text):\n",
    "    return sum(1 for char in text if char.isalpha())"
   ]
  },
  {
   "cell_type": "code",
   "execution_count": 3,
   "metadata": {},
   "outputs": [],
   "source": [
    "# label syllable_limit마다\n",
    "n_ = 1\n",
    "df_1['label'] = df_1['lyrics'].apply(lambda x: [' '.join(x.split('\\n')[i:i+n_]).split(' ') for i in range(0, len(x.split('\\n')), n_) if x.split('\\n')[i:i+n_]!=''])\n",
    "df_1['chunk_strategy'] = 'word'\n",
    "df_1['sampling_strategy'] ='one'\n",
    "df_1['syllable_limit'] = 0\n",
    "df_1['mungchi'] = df_1['label'].apply(lambda x: [[count_char(word) for word in sublist] for sublist in x])\n",
    "# label 전곡\n",
    "df_2['label'] = df_2['lyrics'].apply(lambda x: [[word for part in x.split('\\n') for word in part.split(' ') if word]])\n",
    "df_2['chunk_strategy'] = 'word'\n",
    "df_2['sampling_strategy'] ='total'\n",
    "df_2['syllable_limit'] = 0\n",
    "df_2['mungchi'] = df_2['label'].apply(lambda x: [[count_char(word) for word in sublist] for sublist in x])\n",
    "\n",
    "l_num = 30\n",
    "df_3['label'] = df_3['lyrics'].apply(lambda x: word_N_split(x,l_num))\n",
    "df_3['chunk_strategy'] = 'word'\n",
    "df_3['sampling_strategy'] ='L'\n",
    "df_3['syllable_limit'] = l_num\n",
    "df_3['mungchi'] = df_3['label'].apply(lambda x: [[count_char(word) for word in sublist] for sublist in x])\n",
    "# 한label syllable_limit\n",
    "n_ = 1\n",
    "df_4['label'] = df_4['lyrics'].apply(lambda x: [x.strip().split('\\n')[i:i+n_] for i in range(0, len(x.strip().split('\\n')), n_)])\n",
    "df_4['chunk_strategy'] = 'line'\n",
    "df_4['sampling_strategy'] ='one'\n",
    "df_4['syllable_limit'] = 0\n",
    "df_4['mungchi'] = df_4['label'].apply(lambda x: [[count_char(word) for word in sublist] for sublist in x])\n",
    "# 한label 전곡\n",
    "df_5['label']= df_5['lyrics'].apply(lambda x: [x.strip().split('\\n')])\n",
    "df_5['chunk_strategy'] = 'line'\n",
    "df_5['sampling_strategy'] ='total'\n",
    "df_5['syllable_limit'] = 0\n",
    "df_5['mungchi'] = df_5['label'].apply(lambda x: [[count_char(word.strip()) for word in sublist] for sublist in x])\n",
    "\n",
    "df_6['label'] = df_6['lyrics'].apply(lambda x: line_N_split(x,l_num))\n",
    "df_6['chunk_strategy'] = 'line'\n",
    "df_6['sampling_strategy'] ='L'\n",
    "df_6['syllable_limit'] = l_num\n",
    "df_6['mungchi'] = df_6['label'].apply(lambda x: [[count_char(word) for word in sublist] for sublist in x])"
   ]
  },
  {
   "cell_type": "code",
   "execution_count": 4,
   "metadata": {},
   "outputs": [],
   "source": [
    "dataset = pd.concat([df_1, df_2, df_3, df_4, df_5, df_6], axis=0)\n",
    "dataset = dataset[['title','lyrics','genre','mungchi','label','chunk_strategy','sampling_strategy','syllable_limit']]"
   ]
  },
  {
   "cell_type": "code",
   "execution_count": null,
   "metadata": {},
   "outputs": [],
   "source": [
    "# data 저장\n",
    "dataset.to_csv('lyrics_dataset.csv',index_label=False,encoding='utf-8-sig')\n",
    "dataset.reset_index().to_json('lyrics_dataset.json')"
   ]
  },
  {
   "cell_type": "markdown",
   "metadata": {},
   "source": [
    "### DATA 검증"
   ]
  },
  {
   "cell_type": "code",
   "execution_count": 5,
   "metadata": {},
   "outputs": [],
   "source": [
    "# 리스트안에 빈칸 있는 가사 찾기\\n\",\n",
    "def zero_check(df):\n",
    "    idx = 0\n",
    "    chk = 0\n",
    "    for i in df.label:\n",
    "        idx+=1\n",
    "        for j in i:\n",
    "            for x in j:\n",
    "                if len(x)==0:\n",
    "                    chk += 1\n",
    "                    print(idx-1,len(x),i)\n",
    "    if chk ==0:\n",
    "        return True\n",
    "    else:\n",
    "        return False\n",
    "    \n",
    "# 리스트안에 특정문자 있는 가사 찾기\n",
    "def word_check(df,word):\n",
    "    idx = 0\n",
    "    for i in df.label:\n",
    "        idx+=1\n",
    "        for j in i:\n",
    "            for x in j:\n",
    "                if x==word:\n",
    "                    print(idx-1,i)\n",
    "    return\n",
    "\n",
    "# 이중리스트 여부 체크\n",
    "def is_double_list(df):\n",
    "    chk =0\n",
    "    idx=0\n",
    "    for i in df.label:\n",
    "        idx+=1\n",
    "        for j in i:\n",
    "            if isinstance(j,list)==False:\n",
    "                chk+=1\n",
    "                print(idx,j)\n",
    "    idx=0                \n",
    "    for i in df.mungchi:\n",
    "        idx+=1\n",
    "        for j in i:\n",
    "            if isinstance(j,list)==False:\n",
    "                chk+=1\n",
    "                print(idx,j)\n",
    "    if chk==0:\n",
    "        return True\n",
    "    else:       \n",
    "        return False"
   ]
  },
  {
   "cell_type": "code",
   "execution_count": 8,
   "metadata": {},
   "outputs": [
    {
     "data": {
      "text/plain": [
       "True"
      ]
     },
     "execution_count": 8,
     "metadata": {},
     "output_type": "execute_result"
    }
   ],
   "source": [
    "zero_check(dataset)"
   ]
  },
  {
   "cell_type": "code",
   "execution_count": 9,
   "metadata": {},
   "outputs": [
    {
     "data": {
      "text/plain": [
       "True"
      ]
     },
     "execution_count": 9,
     "metadata": {},
     "output_type": "execute_result"
    }
   ],
   "source": [
    "is_double_list(dataset)"
   ]
  },
  {
   "cell_type": "code",
   "execution_count": 10,
   "metadata": {},
   "outputs": [
    {
     "name": "stdout",
     "output_type": "stream",
     "text": [
      "____type_1\n",
      "['word', 'one', 0]\n",
      "[['슬피', '날', '안아준', '아침', '햇살이'], ['소란히', '날', '스친', '실바람결이'], ['내', '눈', '속에', '살아가려'], ['날', '찾는', '밤하늘', '별도', '그댈', '테죠'], ['닿지', '못해서', '볼', '수', '없어'], ['사무치게', '늘', '안고', '싶어서'], ['바람이', '실어준', '향기'], ['가슴으로', '안는', '날'], ['어디서', '숨어보는가요'], ['또', '숨고', '숨어도', '또', '엇갈려', '가도'], ['내', '나이만큼에', '첫눈이', '내려와'], ['모든', '걸', '지워도', '내', '슬픈', '가슴은'], ['항상', '그대', '찾을', '테니'], ['다시', '사랑할', '그날까지만', '안녕'], ['착한', '그댄', '지금', '어디', '있는지'], ['행여', '내', '생각에', '울지는', '않는지'], ['이런', '날', '알고도', '볼', '수', '없는'], ['그대', '마음이', '더', '아플', '텐데'], ['긴', '밤', '지나면', '아침', '오고'], ['비', '온', '뒤에', '꽃들이', '자라고'], ['계절이', '돌아오듯이'], ['달도', '밤을', '찾듯이'], ['모두', '다', '제자릴', '찾겠죠'], ['또', '숨고', '숨어도', '또', '엇갈려가도'], ['내', '나이만큼에', '첫눈이', '내려와'], ['모든', '걸', '지워도', '내', '슬픈', '가슴은'], ['항상', '그대', '찾을', '테니'], ['다시', '사랑할', '그날까지만', '우리', '안녕'], ['그땐', '내가', '더', '사랑할', '테니'], ['운명이', '우리를'], ['다시', '허락할', '그날까지만', '안녕'], ['꼭', '기억해줘요', '그날까지만', '안녕']]\n",
      "[[2, 1, 3, 2, 3], [3, 1, 2, 5], [1, 1, 2, 4], [1, 2, 3, 2, 2, 2], [2, 3, 1, 1, 2], [4, 1, 2, 3], [3, 3, 2], [4, 2, 1], [3, 6], [1, 2, 3, 1, 3, 2], [1, 5, 3, 3], [2, 1, 3, 1, 2, 3], [2, 2, 2, 2], [2, 3, 5, 2], [2, 2, 2, 2, 3], [2, 1, 3, 3, 3], [2, 1, 3, 1, 1, 2], [2, 3, 1, 2, 2], [1, 1, 3, 2, 2], [1, 1, 2, 3, 3], [3, 5], [2, 2, 3], [2, 1, 3, 3], [1, 2, 3, 1, 5], [1, 5, 3, 3], [2, 1, 3, 1, 2, 3], [2, 2, 2, 2], [2, 3, 5, 2, 2], [2, 2, 1, 3, 2], [3, 3], [2, 3, 5, 2], [1, 5, 5, 2]]\n",
      "____type_2\n",
      "['word', 'total', 0]\n",
      "[['슬피', '날', '안아준', '아침', '햇살이', '소란히', '날', '스친', '실바람결이', '내', '눈', '속에', '살아가려', '날', '찾는', '밤하늘', '별도', '그댈', '테죠', '닿지', '못해서', '볼', '수', '없어', '사무치게', '늘', '안고', '싶어서', '바람이', '실어준', '향기', '가슴으로', '안는', '날', '어디서', '숨어보는가요', '또', '숨고', '숨어도', '또', '엇갈려', '가도', '내', '나이만큼에', '첫눈이', '내려와', '모든', '걸', '지워도', '내', '슬픈', '가슴은', '항상', '그대', '찾을', '테니', '다시', '사랑할', '그날까지만', '안녕', '착한', '그댄', '지금', '어디', '있는지', '행여', '내', '생각에', '울지는', '않는지', '이런', '날', '알고도', '볼', '수', '없는', '그대', '마음이', '더', '아플', '텐데', '긴', '밤', '지나면', '아침', '오고', '비', '온', '뒤에', '꽃들이', '자라고', '계절이', '돌아오듯이', '달도', '밤을', '찾듯이', '모두', '다', '제자릴', '찾겠죠', '또', '숨고', '숨어도', '또', '엇갈려가도', '내', '나이만큼에', '첫눈이', '내려와', '모든', '걸', '지워도', '내', '슬픈', '가슴은', '항상', '그대', '찾을', '테니', '다시', '사랑할', '그날까지만', '우리', '안녕', '그땐', '내가', '더', '사랑할', '테니', '운명이', '우리를', '다시', '허락할', '그날까지만', '안녕', '꼭', '기억해줘요', '그날까지만', '안녕']]\n",
      "[[2, 1, 3, 2, 3, 3, 1, 2, 5, 1, 1, 2, 4, 1, 2, 3, 2, 2, 2, 2, 3, 1, 1, 2, 4, 1, 2, 3, 3, 3, 2, 4, 2, 1, 3, 6, 1, 2, 3, 1, 3, 2, 1, 5, 3, 3, 2, 1, 3, 1, 2, 3, 2, 2, 2, 2, 2, 3, 5, 2, 2, 2, 2, 2, 3, 2, 1, 3, 3, 3, 2, 1, 3, 1, 1, 2, 2, 3, 1, 2, 2, 1, 1, 3, 2, 2, 1, 1, 2, 3, 3, 3, 5, 2, 2, 3, 2, 1, 3, 3, 1, 2, 3, 1, 5, 1, 5, 3, 3, 2, 1, 3, 1, 2, 3, 2, 2, 2, 2, 2, 3, 5, 2, 2, 2, 2, 1, 3, 2, 3, 3, 2, 3, 5, 2, 1, 5, 5, 2]]\n",
      "____type_3\n",
      "['word', 'L', 30]\n",
      "[['슬피', '날', '안아준', '아침', '햇살이', '소란히', '날', '스친', '실바람결이', '내', '눈', '속에', '살아가려'], ['날', '찾는', '밤하늘', '별도', '그댈', '테죠', '닿지', '못해서', '볼', '수', '없어'], ['사무치게', '늘', '안고', '싶어서', '바람이', '실어준', '향기', '가슴으로', '안는', '날'], ['어디서', '숨어보는가요', '또', '숨고', '숨어도', '또', '엇갈려', '가도', '내', '나이만큼에', '첫눈이', '내려와'], ['모든', '걸', '지워도', '내', '슬픈', '가슴은', '항상', '그대', '찾을', '테니', '다시', '사랑할', '그날까지만', '안녕'], ['착한', '그댄', '지금', '어디', '있는지', '행여', '내', '생각에', '울지는', '않는지'], ['이런', '날', '알고도', '볼', '수', '없는', '그대', '마음이', '더', '아플', '텐데', '긴', '밤', '지나면', '아침', '오고'], ['비', '온', '뒤에', '꽃들이', '자라고', '계절이', '돌아오듯이', '달도', '밤을', '찾듯이'], ['모두', '다', '제자릴', '찾겠죠', '또', '숨고', '숨어도', '또', '엇갈려가도', '내', '나이만큼에', '첫눈이', '내려와'], ['모든', '걸', '지워도', '내', '슬픈', '가슴은', '항상', '그대', '찾을', '테니', '다시', '사랑할', '그날까지만', '우리', '안녕'], ['그땐', '내가', '더', '사랑할', '테니', '운명이', '우리를', '다시', '허락할', '그날까지만', '안녕']]\n",
      "[[2, 1, 3, 2, 3, 3, 1, 2, 5, 1, 1, 2, 4], [1, 2, 3, 2, 2, 2, 2, 3, 1, 1, 2], [4, 1, 2, 3, 3, 3, 2, 4, 2, 1], [3, 6, 1, 2, 3, 1, 3, 2, 1, 5, 3, 3], [2, 1, 3, 1, 2, 3, 2, 2, 2, 2, 2, 3, 5, 2], [2, 2, 2, 2, 3, 2, 1, 3, 3, 3], [2, 1, 3, 1, 1, 2, 2, 3, 1, 2, 2, 1, 1, 3, 2, 2], [1, 1, 2, 3, 3, 3, 5, 2, 2, 3], [2, 1, 3, 3, 1, 2, 3, 1, 5, 1, 5, 3, 3], [2, 1, 3, 1, 2, 3, 2, 2, 2, 2, 2, 3, 5, 2, 2], [2, 2, 1, 3, 2, 3, 3, 2, 3, 5, 2]]\n",
      "____type_4\n",
      "['line', 'one', 0]\n",
      "[['슬피 날 안아준 아침 햇살이'], ['소란히 날 스친 실바람결이'], ['내 눈 속에 살아가려'], ['날 찾는 밤하늘 별도 그댈 테죠'], ['닿지 못해서 볼 수 없어'], ['사무치게 늘 안고 싶어서'], ['바람이 실어준 향기'], ['가슴으로 안는 날'], ['어디서 숨어보는가요'], ['또 숨고 숨어도 또 엇갈려 가도'], ['내 나이만큼에 첫눈이 내려와'], ['모든 걸 지워도 내 슬픈 가슴은'], ['항상 그대 찾을 테니'], ['다시 사랑할 그날까지만 안녕'], ['착한 그댄 지금 어디 있는지'], ['행여 내 생각에 울지는 않는지'], ['이런 날 알고도 볼 수 없는'], ['그대 마음이 더 아플 텐데'], ['긴 밤 지나면 아침 오고'], ['비 온 뒤에 꽃들이 자라고'], ['계절이 돌아오듯이'], ['달도 밤을 찾듯이'], ['모두 다 제자릴 찾겠죠'], ['또 숨고 숨어도 또 엇갈려가도'], ['내 나이만큼에 첫눈이 내려와'], ['모든 걸 지워도 내 슬픈 가슴은'], ['항상 그대 찾을 테니'], ['다시 사랑할 그날까지만 우리 안녕'], ['그땐 내가 더 사랑할 테니'], ['운명이 우리를'], ['다시 허락할 그날까지만 안녕'], ['꼭 기억해줘요 그날까지만 안녕']]\n",
      "[[11], [11], [8], [12], [9], [10], [8], [7], [9], [12], [12], [12], [8], [12], [11], [12], [10], [10], [9], [10], [8], [7], [9], [12], [12], [12], [8], [14], [10], [6], [12], [13]]\n",
      "____type_5\n",
      "['line', 'total', 0]\n",
      "[['슬피 날 안아준 아침 햇살이', '소란히 날 스친 실바람결이', '내 눈 속에 살아가려', '날 찾는 밤하늘 별도 그댈 테죠', '닿지 못해서 볼 수 없어', '사무치게 늘 안고 싶어서', '바람이 실어준 향기', '가슴으로 안는 날', '어디서 숨어보는가요', '또 숨고 숨어도 또 엇갈려 가도', '내 나이만큼에 첫눈이 내려와', '모든 걸 지워도 내 슬픈 가슴은', '항상 그대 찾을 테니', '다시 사랑할 그날까지만 안녕', '착한 그댄 지금 어디 있는지', '행여 내 생각에 울지는 않는지', '이런 날 알고도 볼 수 없는', '그대 마음이 더 아플 텐데', '긴 밤 지나면 아침 오고', '비 온 뒤에 꽃들이 자라고', '계절이 돌아오듯이', '달도 밤을 찾듯이', '모두 다 제자릴 찾겠죠', '또 숨고 숨어도 또 엇갈려가도', '내 나이만큼에 첫눈이 내려와', '모든 걸 지워도 내 슬픈 가슴은', '항상 그대 찾을 테니', '다시 사랑할 그날까지만 우리 안녕', '그땐 내가 더 사랑할 테니', '운명이 우리를', '다시 허락할 그날까지만 안녕', '꼭 기억해줘요 그날까지만 안녕']]\n",
      "[[11, 11, 8, 12, 9, 10, 8, 7, 9, 12, 12, 12, 8, 12, 11, 12, 10, 10, 9, 10, 8, 7, 9, 12, 12, 12, 8, 14, 10, 6, 12, 13]]\n",
      "____type_6\n",
      "['line', 'L', 30]\n",
      "[['슬피 날 안아준 아침 햇살이', '소란히 날 스친 실바람결이', '내 눈 속에 살아가려'], ['날 찾는 밤하늘 별도 그댈 테죠', '닿지 못해서 볼 수 없어'], ['사무치게 늘 안고 싶어서', '바람이 실어준 향기', '가슴으로 안는 날'], ['어디서 숨어보는가요', '또 숨고 숨어도 또 엇갈려 가도', '내 나이만큼에 첫눈이 내려와'], ['모든 걸 지워도 내 슬픈 가슴은', '항상 그대 찾을 테니', '다시 사랑할 그날까지만 안녕'], ['착한 그댄 지금 어디 있는지', '행여 내 생각에 울지는 않는지'], ['이런 날 알고도 볼 수 없는', '그대 마음이 더 아플 텐데', '긴 밤 지나면 아침 오고'], ['비 온 뒤에 꽃들이 자라고', '계절이 돌아오듯이', '달도 밤을 찾듯이'], ['모두 다 제자릴 찾겠죠', '또 숨고 숨어도 또 엇갈려가도', '내 나이만큼에 첫눈이 내려와'], ['모든 걸 지워도 내 슬픈 가슴은', '항상 그대 찾을 테니', '다시 사랑할 그날까지만 우리 안녕'], ['그땐 내가 더 사랑할 테니', '운명이 우리를', '다시 허락할 그날까지만 안녕']]\n",
      "[[11, 11, 8], [12, 9], [10, 8, 7], [9, 12, 12], [12, 8, 12], [11, 12], [10, 10, 9], [10, 8, 7], [9, 12, 12], [12, 8, 14], [10, 6, 12]]\n"
     ]
    }
   ],
   "source": [
    "# 랜덤 샘플 육안 확인\n",
    "import random\n",
    "i = random.randint(1, len(df_1)+1)\n",
    "\n",
    "print('____type_1')\n",
    "print(df_1[['chunk_strategy','sampling_strategy','syllable_limit']].iloc[i].tolist())\n",
    "print(df_1['label'].iloc[i])\n",
    "print(df_1['mungchi'].iloc[i])\n",
    "print('____type_2')\n",
    "print(df_2[['chunk_strategy','sampling_strategy','syllable_limit']].iloc[i].tolist())\n",
    "print(df_2['label'].iloc[i])\n",
    "print(df_2['mungchi'].iloc[i])\n",
    "print('____type_3')\n",
    "print(df_3[['chunk_strategy','sampling_strategy','syllable_limit']].iloc[i].tolist())\n",
    "print(df_3['label'].iloc[i])\n",
    "print(df_3['mungchi'].iloc[i])\n",
    "print('____type_4')\n",
    "print(df_4[['chunk_strategy','sampling_strategy','syllable_limit']].iloc[i].tolist())\n",
    "print(df_4['label'].iloc[i])\n",
    "print(df_4['mungchi'].iloc[i])\n",
    "print('____type_5')\n",
    "print(df_5[['chunk_strategy','sampling_strategy','syllable_limit']].iloc[i].tolist())\n",
    "print(df_5['label'].iloc[i])\n",
    "print(df_5['mungchi'].iloc[i])\n",
    "print('____type_6')\n",
    "print(df_6[['chunk_strategy','sampling_strategy','syllable_limit']].iloc[i].tolist())\n",
    "print(df_6['label'].iloc[i])\n",
    "print(df_6['mungchi'].iloc[i])"
   ]
  },
  {
   "cell_type": "code",
   "execution_count": null,
   "metadata": {},
   "outputs": [],
   "source": []
  }
 ],
 "metadata": {
  "kernelspec": {
   "display_name": "Python 3",
   "language": "python",
   "name": "python3"
  },
  "language_info": {
   "codemirror_mode": {
    "name": "ipython",
    "version": 3
   },
   "file_extension": ".py",
   "mimetype": "text/x-python",
   "name": "python",
   "nbconvert_exporter": "python",
   "pygments_lexer": "ipython3",
   "version": "3.8.10"
  }
 },
 "nbformat": 4,
 "nbformat_minor": 2
}
