{
 "cells": [
  {
   "cell_type": "markdown",
   "metadata": {},
   "source": [
    "# 0. Import"
   ]
  },
  {
   "cell_type": "code",
   "execution_count": 1,
   "metadata": {},
   "outputs": [
    {
     "name": "stderr",
     "output_type": "stream",
     "text": [
      "/usr/local/lib/python3.10/dist-packages/tqdm/auto.py:21: TqdmWarning: IProgress not found. Please update jupyter and ipywidgets. See https://ipywidgets.readthedocs.io/en/stable/user_install.html\n",
      "  from .autonotebook import tqdm as notebook_tqdm\n"
     ]
    }
   ],
   "source": [
    "import pandas as pd\n",
    "from transformers import AutoModel, AutoTokenizer"
   ]
  },
  {
   "cell_type": "code",
   "execution_count": 11,
   "metadata": {},
   "outputs": [],
   "source": [
    "import similarity_metric as sm\n",
    "import formality_metric as fm"
   ]
  },
  {
   "cell_type": "markdown",
   "metadata": {},
   "source": [
    "# 1. Load Dataset"
   ]
  },
  {
   "cell_type": "code",
   "execution_count": 3,
   "metadata": {},
   "outputs": [
    {
     "name": "stdout",
     "output_type": "stream",
     "text": [
      "(36540, 9)\n"
     ]
    },
    {
     "data": {
      "text/html": [
       "<div>\n",
       "<style scoped>\n",
       "    .dataframe tbody tr th:only-of-type {\n",
       "        vertical-align: middle;\n",
       "    }\n",
       "\n",
       "    .dataframe tbody tr th {\n",
       "        vertical-align: top;\n",
       "    }\n",
       "\n",
       "    .dataframe thead th {\n",
       "        text-align: right;\n",
       "    }\n",
       "</style>\n",
       "<table border=\"1\" class=\"dataframe\">\n",
       "  <thead>\n",
       "    <tr style=\"text-align: right;\">\n",
       "      <th></th>\n",
       "      <th>index</th>\n",
       "      <th>title</th>\n",
       "      <th>lyrics</th>\n",
       "      <th>genre</th>\n",
       "      <th>mungchi</th>\n",
       "      <th>label</th>\n",
       "      <th>chunk_strategy</th>\n",
       "      <th>sampling_strategy</th>\n",
       "      <th>syllable_limit</th>\n",
       "    </tr>\n",
       "  </thead>\n",
       "  <tbody>\n",
       "    <tr>\n",
       "      <th>0</th>\n",
       "      <td>0</td>\n",
       "      <td>J에게</td>\n",
       "      <td>J 스치는 바람에 J 그대 모습 보이면\\n난 오늘도 조용히 그댈 그리워하네\\nJ 지...</td>\n",
       "      <td>발라드</td>\n",
       "      <td>[[1, 3, 3, 1, 2, 2, 3], [1, 3, 3, 2, 5], [1, 3...</td>\n",
       "      <td>[[J, 스치는, 바람에, J, 그대, 모습, 보이면], [난, 오늘도, 조용히, ...</td>\n",
       "      <td>word</td>\n",
       "      <td>one</td>\n",
       "      <td>0</td>\n",
       "    </tr>\n",
       "    <tr>\n",
       "      <th>1</th>\n",
       "      <td>1</td>\n",
       "      <td>갯바위</td>\n",
       "      <td>나는 나는 갯바위\\n당신은 나를 사랑하는 파도\\n어느 고운 바람 불던날\\n잔잔히 다...</td>\n",
       "      <td>포크/블루스</td>\n",
       "      <td>[[2, 2, 3], [3, 2, 4, 2], [2, 2, 2, 3], [3, 3]...</td>\n",
       "      <td>[[나는, 나는, 갯바위], [당신은, 나를, 사랑하는, 파도], [어느, 고운, ...</td>\n",
       "      <td>word</td>\n",
       "      <td>one</td>\n",
       "      <td>0</td>\n",
       "    </tr>\n",
       "    <tr>\n",
       "      <th>2</th>\n",
       "      <td>2</td>\n",
       "      <td>약속</td>\n",
       "      <td>별이 유난히도 밝은\\n오늘 이 시간이 가면\\n그대\\n떠난다~는 말이\\n나를 슬프~게...</td>\n",
       "      <td>발라드</td>\n",
       "      <td>[[2, 4, 2], [2, 1, 3, 2], [2], [4, 2], [2, 3, ...</td>\n",
       "      <td>[[별이, 유난히도, 밝은], [오늘, 이, 시간이, 가면], [그대], [떠난다~...</td>\n",
       "      <td>word</td>\n",
       "      <td>one</td>\n",
       "      <td>0</td>\n",
       "    </tr>\n",
       "    <tr>\n",
       "      <th>3</th>\n",
       "      <td>3</td>\n",
       "      <td>잃어버린 정</td>\n",
       "      <td>당신의 고운 눈매에 할말을 잊었지만은\\n냉정히 돌아선 무정한 사람은 눈물을 모르겠지...</td>\n",
       "      <td>성인가요/트로트</td>\n",
       "      <td>[[3, 2, 3, 3, 5], [3, 3, 3, 3, 3, 5], [3, 5, 3...</td>\n",
       "      <td>[[당신의, 고운, 눈매에, 할말을, 잊었지만은], [냉정히, 돌아선, 무정한, 사...</td>\n",
       "      <td>word</td>\n",
       "      <td>one</td>\n",
       "      <td>0</td>\n",
       "    </tr>\n",
       "    <tr>\n",
       "      <th>4</th>\n",
       "      <td>4</td>\n",
       "      <td>물같은 사랑</td>\n",
       "      <td>그대의 모습 멀어져갔네\\n쓸쓸한 기억 남기고\\n낭만이 지워진 그 길로\\n조용히 멀어...</td>\n",
       "      <td>성인가요/트로트</td>\n",
       "      <td>[[3, 2, 5], [3, 2, 3], [3, 3, 1, 2], [3, 5], [...</td>\n",
       "      <td>[[그대의, 모습, 멀어져갔네], [쓸쓸한, 기억, 남기고], [낭만이, 지워진, ...</td>\n",
       "      <td>word</td>\n",
       "      <td>one</td>\n",
       "      <td>0</td>\n",
       "    </tr>\n",
       "  </tbody>\n",
       "</table>\n",
       "</div>"
      ],
      "text/plain": [
       "   index   title                                             lyrics     genre  \\\n",
       "0      0     J에게  J 스치는 바람에 J 그대 모습 보이면\\n난 오늘도 조용히 그댈 그리워하네\\nJ 지...       발라드   \n",
       "1      1     갯바위  나는 나는 갯바위\\n당신은 나를 사랑하는 파도\\n어느 고운 바람 불던날\\n잔잔히 다...    포크/블루스   \n",
       "2      2      약속  별이 유난히도 밝은\\n오늘 이 시간이 가면\\n그대\\n떠난다~는 말이\\n나를 슬프~게...       발라드   \n",
       "3      3  잃어버린 정  당신의 고운 눈매에 할말을 잊었지만은\\n냉정히 돌아선 무정한 사람은 눈물을 모르겠지...  성인가요/트로트   \n",
       "4      4  물같은 사랑  그대의 모습 멀어져갔네\\n쓸쓸한 기억 남기고\\n낭만이 지워진 그 길로\\n조용히 멀어...  성인가요/트로트   \n",
       "\n",
       "                                             mungchi  \\\n",
       "0  [[1, 3, 3, 1, 2, 2, 3], [1, 3, 3, 2, 5], [1, 3...   \n",
       "1  [[2, 2, 3], [3, 2, 4, 2], [2, 2, 2, 3], [3, 3]...   \n",
       "2  [[2, 4, 2], [2, 1, 3, 2], [2], [4, 2], [2, 3, ...   \n",
       "3  [[3, 2, 3, 3, 5], [3, 3, 3, 3, 3, 5], [3, 5, 3...   \n",
       "4  [[3, 2, 5], [3, 2, 3], [3, 3, 1, 2], [3, 5], [...   \n",
       "\n",
       "                                               label chunk_strategy  \\\n",
       "0  [[J, 스치는, 바람에, J, 그대, 모습, 보이면], [난, 오늘도, 조용히, ...           word   \n",
       "1  [[나는, 나는, 갯바위], [당신은, 나를, 사랑하는, 파도], [어느, 고운, ...           word   \n",
       "2  [[별이, 유난히도, 밝은], [오늘, 이, 시간이, 가면], [그대], [떠난다~...           word   \n",
       "3  [[당신의, 고운, 눈매에, 할말을, 잊었지만은], [냉정히, 돌아선, 무정한, 사...           word   \n",
       "4  [[그대의, 모습, 멀어져갔네], [쓸쓸한, 기억, 남기고], [낭만이, 지워진, ...           word   \n",
       "\n",
       "  sampling_strategy  syllable_limit  \n",
       "0               one               0  \n",
       "1               one               0  \n",
       "2               one               0  \n",
       "3               one               0  \n",
       "4               one               0  "
      ]
     },
     "execution_count": 3,
     "metadata": {},
     "output_type": "execute_result"
    }
   ],
   "source": [
    "dataframe = pd.read_json('./../data/lyrics_dataset.json')\n",
    "print(dataframe.shape)\n",
    "dataframe.head()"
   ]
  },
  {
   "cell_type": "code",
   "execution_count": 4,
   "metadata": {},
   "outputs": [],
   "source": [
    "df = dataframe.copy()"
   ]
  },
  {
   "cell_type": "markdown",
   "metadata": {},
   "source": [
    "# 2. Sampling"
   ]
  },
  {
   "cell_type": "code",
   "execution_count": 5,
   "metadata": {},
   "outputs": [
    {
     "name": "stdout",
     "output_type": "stream",
     "text": [
      "J에게\n",
      "[['J 스치는 바람에 J 그대 모습 보이면', '난 오늘도 조용히 그댈 그리워하네', 'J 지난밤 꿈속에 J 만났던 모습은', '내 가슴 속깊이 여울져 남아 있네', 'J 아름다운 여름날이 멀리 사라졌다 해도', 'J 나의 사랑은 아직도 변함 없는데', 'j 난 너를 못잊어 J 난 너를 사랑해', 'J 우리가 걸었던 J 추억의 그 길을', '난 이밤도 쓸쓸히 쓸쓸히 걷고 있네', 'J 아름다운 여름날이 멀리 사라졌다 해도', 'J 나의 사랑은 아직도 변함 없는데', 'j 난 너를 못잊어 J 난 너를 사랑해', 'J 우리가 걸었던 J 추억의 그길을', '난 이밤도 쓸쓸히 쓸쓸히 걷고 있네', '쓸쓸히 걷고 있네 -']]\n",
      "갯바위\n",
      "[[2, 2, 3], [3, 2, 4, 2], [2, 2, 2, 3], [3, 3], [4, 3, 2, 3], [4, 3, 2, 3], [2, 4, 3, 3], [2, 3, 3, 4], [2, 2, 3], [6], [2, 4, 2], [4, 2], [2, 2, 3], [3, 2, 4, 2], [2, 3, 4], [3, 3], [2, 4, 3, 3], [2, 3, 3, 4], [2, 2, 3], [6], [2, 4, 2], [4, 2], [2, 2, 3], [3, 2, 4, 2], [2, 3, 4], [3, 3], [2, 2, 3], [3, 2, 4, 2], [2, 3, 4], [3, 3], [3, 3]]\n",
      "[['나는', '나는', '갯바위'], ['당신은', '나를', '사랑하는', '파도'], ['어느', '고운', '바람', '불던날'], ['잔잔히', '다가와'], ['부드러운', '손길로', '나를', '감싸고'], ['향기로운', '입술도', '내게', '주었지'], ['세찬', '비바람에', '내몸이', '패이고'], ['이는', '파도에', '깨끗이', '부서져도'], ['나의', '생은', '당신의'], ['조각품인것을'], ['나는', '당신으로', '인해'], ['아름다운', '것을'], ['나는', '나는', '갯바위'], ['당신은', '나를', '사랑하는', '파도'], ['우린', '오늘도', '마주보며'], ['이렇게', '서있네'], ['세찬', '비바람에', '내몸이', '패이고'], ['이는', '파도에', '깨끗이', '부서져도'], ['나의', '생은', '당신의'], ['조각품인것을'], ['나는', '당신으로', '인해'], ['아름다운', '것을'], ['나는', '나는', '갯바위'], ['당신은', '나를', '사랑하는', '파도'], ['우린', '오늘도', '마주보며'], ['이렇게', '서있네'], ['나는', '나는', '갯바위'], ['당신은', '나를', '사랑하는', '파도'], ['우린', '오늘도', '마주보며'], ['이렇게', '서있네'], ['이렇게', '서있네']]\n",
      "J에게\n",
      "[[15], [14], [14], [13], [17], [14], [14], [14], [14], [17], [14], [14], [14], [14], [7]]\n",
      "[['J 스치는 바람에 J 그대 모습 보이면'], ['난 오늘도 조용히 그댈 그리워하네'], ['J 지난밤 꿈속에 J 만났던 모습은'], ['내 가슴 속깊이 여울져 남아 있네'], ['J 아름다운 여름날이 멀리 사라졌다 해도'], ['J 나의 사랑은 아직도 변함 없는데'], ['j 난 너를 못잊어 J 난 너를 사랑해'], ['J 우리가 걸었던 J 추억의 그 길을'], ['난 이밤도 쓸쓸히 쓸쓸히 걷고 있네'], ['J 아름다운 여름날이 멀리 사라졌다 해도'], ['J 나의 사랑은 아직도 변함 없는데'], ['j 난 너를 못잊어 J 난 너를 사랑해'], ['J 우리가 걸었던 J 추억의 그길을'], ['난 이밤도 쓸쓸히 쓸쓸히 걷고 있네'], ['쓸쓸히 걷고 있네 -']]\n"
     ]
    }
   ],
   "source": [
    "ex_title_1 = 'J에게'\n",
    "golden_lyrics_list = df.loc[(df['title']==ex_title_1) & (df['chunk_strategy']=='line') & (df['sampling_strategy']=='total')]['label'].reset_index(drop=True)[0]\n",
    "\n",
    "ex_title_2 = '갯바위'\n",
    "golden_mungchies = df.loc[(df['title']==ex_title_2) & (df['chunk_strategy']=='word') & (df['sampling_strategy']=='one')]['mungchi'].reset_index(drop=True)[0]\n",
    "golden_labels = df.loc[(df['title']==ex_title_2) & (df['chunk_strategy']=='word') & (df['sampling_strategy']=='one')]['label'].reset_index(drop=True)[0]\n",
    "\n",
    "ex_title_3 = 'J에게'\n",
    "predicted_mungchies = df.loc[(df['title']==ex_title_3) & (df['chunk_strategy']=='line') & (df['sampling_strategy']=='one')]['mungchi'].reset_index(drop=True)[0]\n",
    "predicted_labels = df.loc[(df['title']==ex_title_3) & (df['chunk_strategy']=='line') & (df['sampling_strategy']=='one')]['label'].reset_index(drop=True)[0]\n",
    "\n",
    "print(ex_title_1)\n",
    "print(golden_lyrics_list)\n",
    "\n",
    "print(ex_title_2)\n",
    "print(golden_mungchies)\n",
    "print(golden_labels)\n",
    "\n",
    "print(ex_title_3)\n",
    "print(predicted_mungchies)\n",
    "print(predicted_labels)"
   ]
  },
  {
   "cell_type": "code",
   "execution_count": 6,
   "metadata": {},
   "outputs": [
    {
     "name": "stdout",
     "output_type": "stream",
     "text": [
      "J에게\n",
      "['J 스치는 바람에 J 그대 모습 보이면', '난 오늘도 조용히 그댈 그리워하네', 'J 지난밤 꿈속에 J 만났던 모습은', '내 가슴 속깊이 여울져 남아 있네', 'J 아름다운 여름날이 멀리 사라졌다 해도', 'J 나의 사랑은 아직도 변함 없는데', 'j 난 너를 못잊어 J 난 너를 사랑해', 'J 우리가 걸었던 J 추억의 그 길을', '난 이밤도 쓸쓸히 쓸쓸히 걷고 있네', 'J 아름다운 여름날이 멀리 사라졌다 해도', 'J 나의 사랑은 아직도 변함 없는데', 'j 난 너를 못잊어 J 난 너를 사랑해', 'J 우리가 걸었던 J 추억의 그길을', '난 이밤도 쓸쓸히 쓸쓸히 걷고 있네', '쓸쓸히 걷고 있네 -']\n",
      "갯바위\n",
      "[2, 2, 3]\n",
      "['나는', '나는', '갯바위']\n",
      "J에게\n",
      "[14]\n",
      "['난 오늘도 조용히 그댈 그리워하네']\n"
     ]
    }
   ],
   "source": [
    "golden_lyrics = golden_lyrics_list[0]\n",
    "golden_mungchi = golden_mungchies[0]\n",
    "golden_label = golden_labels[0]\n",
    "predicted_mungchi = predicted_mungchies[1]\n",
    "predicted_label = predicted_labels[1]\n",
    "\n",
    "print(ex_title_1)\n",
    "print(golden_lyrics)\n",
    "\n",
    "print(ex_title_2)\n",
    "print(golden_mungchi)\n",
    "print(golden_label)\n",
    "\n",
    "print(ex_title_3)\n",
    "print(predicted_mungchi)\n",
    "print(predicted_label)"
   ]
  },
  {
   "cell_type": "markdown",
   "metadata": {},
   "source": [
    "# 2. Evaluation"
   ]
  },
  {
   "cell_type": "markdown",
   "metadata": {},
   "source": [
    "## 2.1 유사성"
   ]
  },
  {
   "cell_type": "markdown",
   "metadata": {},
   "source": [
    "bert 기반 embedding 모델 -> cosine similarity를 통한 유사도 측정"
   ]
  },
  {
   "cell_type": "code",
   "execution_count": 7,
   "metadata": {},
   "outputs": [
    {
     "name": "stderr",
     "output_type": "stream",
     "text": [
      "/usr/local/lib/python3.10/dist-packages/torch/_utils.py:831: UserWarning: TypedStorage is deprecated. It will be removed in the future and UntypedStorage will be the only storage class. This should only matter to you if you are using storages directly.  To access UntypedStorage directly, use tensor.untyped_storage() instead of tensor.storage()\n",
      "  return self.fget.__get__(instance, owner)()\n"
     ]
    }
   ],
   "source": [
    "# Load the pre-trained BERT model and tokenizer\n",
    "model = AutoModel.from_pretrained(\"kakaobank/kf-deberta-base\")\n",
    "tokenizer = AutoTokenizer.from_pretrained(\"kakaobank/kf-deberta-base\")"
   ]
  },
  {
   "cell_type": "markdown",
   "metadata": {},
   "source": [
    "### 2.1.1 의미적 유사도 측정"
   ]
  },
  {
   "cell_type": "code",
   "execution_count": 8,
   "metadata": {},
   "outputs": [
    {
     "name": "stdout",
     "output_type": "stream",
     "text": [
      "golden_label_string: J 스치는 바람에 J 그대 모습 보이면 난 오늘도 조용히 그댈 그리워하네 J 지난밤 꿈속에 J 만났던 모습은 내 가슴 속깊이 여울져 남아 있네 J 아름다운 여름날이 멀리 사라졌다 해도 J 나의 사랑은 아직도 변함 없는데 j 난 너를 못잊어 J 난 너를 사랑해 J 우리가 걸었던 J 추억의 그 길을 난 이밤도 쓸쓸히 쓸쓸히 걷고 있네 J 아름다운 여름날이 멀리 사라졌다 해도 J 나의 사랑은 아직도 변함 없는데 j 난 너를 못잊어 J 난 너를 사랑해 J 우리가 걸었던 J 추억의 그길을 난 이밤도 쓸쓸히 쓸쓸히 걷고 있네 쓸쓸히 걷고 있네 -\n",
      "predicted_label_string: 난 오늘도 조용히 그댈 그리워하네\n"
     ]
    },
    {
     "data": {
      "text/plain": [
       "array([[0.99229074]], dtype=float32)"
      ]
     },
     "execution_count": 8,
     "metadata": {},
     "output_type": "execute_result"
    }
   ],
   "source": [
    "sm.eval_semantic_sim(model, tokenizer, golden_lyrics, predicted_label)"
   ]
  },
  {
   "cell_type": "markdown",
   "metadata": {},
   "source": [
    "### 2.1.2 어휘 유사도 측정"
   ]
  },
  {
   "cell_type": "code",
   "execution_count": 9,
   "metadata": {},
   "outputs": [
    {
     "name": "stdout",
     "output_type": "stream",
     "text": [
      "num of songs :  6087\n"
     ]
    },
    {
     "data": {
      "text/plain": [
       "0.728700505638574"
      ]
     },
     "execution_count": 9,
     "metadata": {},
     "output_type": "execute_result"
    }
   ],
   "source": [
    "corpus = sm.get_full_lyrics_list(df)\n",
    "inverted_tfidf_dict = sm.get_inverted_tfidf_dictionary(corpus)\n",
    "sm.eval_lexical_sim(predicted_label, golden_lyrics, inverted_tfidf_dict)"
   ]
  },
  {
   "cell_type": "markdown",
   "metadata": {},
   "source": [
    "## 2.2 형식성"
   ]
  },
  {
   "cell_type": "markdown",
   "metadata": {},
   "source": [
    "### 2.2.1 Accuracy, MSE"
   ]
  },
  {
   "cell_type": "code",
   "execution_count": 12,
   "metadata": {},
   "outputs": [
    {
     "data": {
      "text/plain": [
       "(0.0, 52.333333333333336)"
      ]
     },
     "execution_count": 12,
     "metadata": {},
     "output_type": "execute_result"
    }
   ],
   "source": [
    "fm.eval_form(golden_mungchi, predicted_mungchi)"
   ]
  },
  {
   "cell_type": "markdown",
   "metadata": {},
   "source": [
    "### 2.2.2 정확도와 오차제곱평균 그 사이 어딘가\n",
    "- golden과 predict의 차이가 0일 때   -> 1.0\n",
    "- golden과 predict의 차이가 1~2일 때 -> 0.5\n",
    "- golden과 predict의 차이가 3~ 일 때 -> 0.0"
   ]
  },
  {
   "cell_type": "code",
   "execution_count": 13,
   "metadata": {},
   "outputs": [
    {
     "data": {
      "text/plain": [
       "0.16666666666666666"
      ]
     },
     "execution_count": 13,
     "metadata": {},
     "output_type": "execute_result"
    }
   ],
   "source": [
    "fm.eval_ours_form(golden_mungchi, predicted_mungchi)"
   ]
  },
  {
   "cell_type": "code",
   "execution_count": null,
   "metadata": {},
   "outputs": [],
   "source": []
  },
  {
   "cell_type": "markdown",
   "metadata": {},
   "source": []
  }
 ],
 "metadata": {
  "kernelspec": {
   "display_name": "Python 3",
   "language": "python",
   "name": "python3"
  },
  "language_info": {
   "codemirror_mode": {
    "name": "ipython",
    "version": 3
   },
   "file_extension": ".py",
   "mimetype": "text/x-python",
   "name": "python",
   "nbconvert_exporter": "python",
   "pygments_lexer": "ipython3",
   "version": "3.10.12"
  }
 },
 "nbformat": 4,
 "nbformat_minor": 2
}
