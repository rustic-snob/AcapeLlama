{
 "cells": [
  {
   "cell_type": "markdown",
   "metadata": {},
   "source": [
    "# 0. Import"
   ]
  },
  {
   "cell_type": "code",
   "execution_count": 1,
   "metadata": {},
   "outputs": [],
   "source": [
    "import pandas as pd\n",
    "import rhyme_metric as rm"
   ]
  },
  {
   "cell_type": "markdown",
   "metadata": {},
   "source": [
    "# 1. Load Data"
   ]
  },
  {
   "cell_type": "code",
   "execution_count": 2,
   "metadata": {},
   "outputs": [
    {
     "name": "stdout",
     "output_type": "stream",
     "text": [
      "(36540, 9)\n"
     ]
    },
    {
     "data": {
      "text/html": [
       "<div>\n",
       "<style scoped>\n",
       "    .dataframe tbody tr th:only-of-type {\n",
       "        vertical-align: middle;\n",
       "    }\n",
       "\n",
       "    .dataframe tbody tr th {\n",
       "        vertical-align: top;\n",
       "    }\n",
       "\n",
       "    .dataframe thead th {\n",
       "        text-align: right;\n",
       "    }\n",
       "</style>\n",
       "<table border=\"1\" class=\"dataframe\">\n",
       "  <thead>\n",
       "    <tr style=\"text-align: right;\">\n",
       "      <th></th>\n",
       "      <th>index</th>\n",
       "      <th>title</th>\n",
       "      <th>lyrics</th>\n",
       "      <th>genre</th>\n",
       "      <th>mungchi</th>\n",
       "      <th>label</th>\n",
       "      <th>chunk_strategy</th>\n",
       "      <th>sampling_strategy</th>\n",
       "      <th>syllable_limit</th>\n",
       "    </tr>\n",
       "  </thead>\n",
       "  <tbody>\n",
       "    <tr>\n",
       "      <th>0</th>\n",
       "      <td>0</td>\n",
       "      <td>J에게</td>\n",
       "      <td>J 스치는 바람에 J 그대 모습 보이면\\n난 오늘도 조용히 그댈 그리워하네\\nJ 지...</td>\n",
       "      <td>발라드</td>\n",
       "      <td>[[1, 3, 3, 1, 2, 2, 3], [1, 3, 3, 2, 5], [1, 3...</td>\n",
       "      <td>[[J, 스치는, 바람에, J, 그대, 모습, 보이면], [난, 오늘도, 조용히, ...</td>\n",
       "      <td>word</td>\n",
       "      <td>one</td>\n",
       "      <td>0</td>\n",
       "    </tr>\n",
       "    <tr>\n",
       "      <th>1</th>\n",
       "      <td>1</td>\n",
       "      <td>갯바위</td>\n",
       "      <td>나는 나는 갯바위\\n당신은 나를 사랑하는 파도\\n어느 고운 바람 불던날\\n잔잔히 다...</td>\n",
       "      <td>포크/블루스</td>\n",
       "      <td>[[2, 2, 3], [3, 2, 4, 2], [2, 2, 2, 3], [3, 3]...</td>\n",
       "      <td>[[나는, 나는, 갯바위], [당신은, 나를, 사랑하는, 파도], [어느, 고운, ...</td>\n",
       "      <td>word</td>\n",
       "      <td>one</td>\n",
       "      <td>0</td>\n",
       "    </tr>\n",
       "    <tr>\n",
       "      <th>2</th>\n",
       "      <td>2</td>\n",
       "      <td>약속</td>\n",
       "      <td>별이 유난히도 밝은\\n오늘 이 시간이 가면\\n그대\\n떠난다~는 말이\\n나를 슬프~게...</td>\n",
       "      <td>발라드</td>\n",
       "      <td>[[2, 4, 2], [2, 1, 3, 2], [2], [4, 2], [2, 3, ...</td>\n",
       "      <td>[[별이, 유난히도, 밝은], [오늘, 이, 시간이, 가면], [그대], [떠난다~...</td>\n",
       "      <td>word</td>\n",
       "      <td>one</td>\n",
       "      <td>0</td>\n",
       "    </tr>\n",
       "    <tr>\n",
       "      <th>3</th>\n",
       "      <td>3</td>\n",
       "      <td>잃어버린 정</td>\n",
       "      <td>당신의 고운 눈매에 할말을 잊었지만은\\n냉정히 돌아선 무정한 사람은 눈물을 모르겠지...</td>\n",
       "      <td>성인가요/트로트</td>\n",
       "      <td>[[3, 2, 3, 3, 5], [3, 3, 3, 3, 3, 5], [3, 5, 3...</td>\n",
       "      <td>[[당신의, 고운, 눈매에, 할말을, 잊었지만은], [냉정히, 돌아선, 무정한, 사...</td>\n",
       "      <td>word</td>\n",
       "      <td>one</td>\n",
       "      <td>0</td>\n",
       "    </tr>\n",
       "    <tr>\n",
       "      <th>4</th>\n",
       "      <td>4</td>\n",
       "      <td>물같은 사랑</td>\n",
       "      <td>그대의 모습 멀어져갔네\\n쓸쓸한 기억 남기고\\n낭만이 지워진 그 길로\\n조용히 멀어...</td>\n",
       "      <td>성인가요/트로트</td>\n",
       "      <td>[[3, 2, 5], [3, 2, 3], [3, 3, 1, 2], [3, 5], [...</td>\n",
       "      <td>[[그대의, 모습, 멀어져갔네], [쓸쓸한, 기억, 남기고], [낭만이, 지워진, ...</td>\n",
       "      <td>word</td>\n",
       "      <td>one</td>\n",
       "      <td>0</td>\n",
       "    </tr>\n",
       "  </tbody>\n",
       "</table>\n",
       "</div>"
      ],
      "text/plain": [
       "   index   title                                             lyrics     genre  \\\n",
       "0      0     J에게  J 스치는 바람에 J 그대 모습 보이면\\n난 오늘도 조용히 그댈 그리워하네\\nJ 지...       발라드   \n",
       "1      1     갯바위  나는 나는 갯바위\\n당신은 나를 사랑하는 파도\\n어느 고운 바람 불던날\\n잔잔히 다...    포크/블루스   \n",
       "2      2      약속  별이 유난히도 밝은\\n오늘 이 시간이 가면\\n그대\\n떠난다~는 말이\\n나를 슬프~게...       발라드   \n",
       "3      3  잃어버린 정  당신의 고운 눈매에 할말을 잊었지만은\\n냉정히 돌아선 무정한 사람은 눈물을 모르겠지...  성인가요/트로트   \n",
       "4      4  물같은 사랑  그대의 모습 멀어져갔네\\n쓸쓸한 기억 남기고\\n낭만이 지워진 그 길로\\n조용히 멀어...  성인가요/트로트   \n",
       "\n",
       "                                             mungchi  \\\n",
       "0  [[1, 3, 3, 1, 2, 2, 3], [1, 3, 3, 2, 5], [1, 3...   \n",
       "1  [[2, 2, 3], [3, 2, 4, 2], [2, 2, 2, 3], [3, 3]...   \n",
       "2  [[2, 4, 2], [2, 1, 3, 2], [2], [4, 2], [2, 3, ...   \n",
       "3  [[3, 2, 3, 3, 5], [3, 3, 3, 3, 3, 5], [3, 5, 3...   \n",
       "4  [[3, 2, 5], [3, 2, 3], [3, 3, 1, 2], [3, 5], [...   \n",
       "\n",
       "                                               label chunk_strategy  \\\n",
       "0  [[J, 스치는, 바람에, J, 그대, 모습, 보이면], [난, 오늘도, 조용히, ...           word   \n",
       "1  [[나는, 나는, 갯바위], [당신은, 나를, 사랑하는, 파도], [어느, 고운, ...           word   \n",
       "2  [[별이, 유난히도, 밝은], [오늘, 이, 시간이, 가면], [그대], [떠난다~...           word   \n",
       "3  [[당신의, 고운, 눈매에, 할말을, 잊었지만은], [냉정히, 돌아선, 무정한, 사...           word   \n",
       "4  [[그대의, 모습, 멀어져갔네], [쓸쓸한, 기억, 남기고], [낭만이, 지워진, ...           word   \n",
       "\n",
       "  sampling_strategy  syllable_limit  \n",
       "0               one               0  \n",
       "1               one               0  \n",
       "2               one               0  \n",
       "3               one               0  \n",
       "4               one               0  "
      ]
     },
     "execution_count": 2,
     "metadata": {},
     "output_type": "execute_result"
    }
   ],
   "source": [
    "dataframe = pd.read_json('./../data/lyrics_dataset.json')\n",
    "print(dataframe.shape)\n",
    "dataframe.head()"
   ]
  },
  {
   "cell_type": "code",
   "execution_count": 3,
   "metadata": {},
   "outputs": [],
   "source": [
    "df = dataframe.copy()"
   ]
  },
  {
   "cell_type": "markdown",
   "metadata": {},
   "source": [
    "# 2. Rhyme Analyst"
   ]
  },
  {
   "cell_type": "code",
   "execution_count": 4,
   "metadata": {},
   "outputs": [],
   "source": [
    "df_sampling_L = rm.get_dataframe_sample_only_L(df)\n",
    "rhyme_column = rm.get_rhyme_column(df_sampling_L)"
   ]
  },
  {
   "cell_type": "code",
   "execution_count": 5,
   "metadata": {},
   "outputs": [
    {
     "data": {
      "text/html": [
       "<div>\n",
       "<style scoped>\n",
       "    .dataframe tbody tr th:only-of-type {\n",
       "        vertical-align: middle;\n",
       "    }\n",
       "\n",
       "    .dataframe tbody tr th {\n",
       "        vertical-align: top;\n",
       "    }\n",
       "\n",
       "    .dataframe thead th {\n",
       "        text-align: right;\n",
       "    }\n",
       "</style>\n",
       "<table border=\"1\" class=\"dataframe\">\n",
       "  <thead>\n",
       "    <tr style=\"text-align: right;\">\n",
       "      <th></th>\n",
       "      <th>index</th>\n",
       "      <th>title</th>\n",
       "      <th>lyrics</th>\n",
       "      <th>genre</th>\n",
       "      <th>mungchi</th>\n",
       "      <th>label</th>\n",
       "      <th>chunk_strategy</th>\n",
       "      <th>sampling_strategy</th>\n",
       "      <th>syllable_limit</th>\n",
       "      <th>rhyme</th>\n",
       "    </tr>\n",
       "  </thead>\n",
       "  <tbody>\n",
       "    <tr>\n",
       "      <th>0</th>\n",
       "      <td>0</td>\n",
       "      <td>J에게</td>\n",
       "      <td>J 스치는 바람에 J 그대 모습 보이면\\n난 오늘도 조용히 그댈 그리워하네\\nJ 지...</td>\n",
       "      <td>발라드</td>\n",
       "      <td>[[1, 3, 3, 1, 2, 2, 3, 1, 3, 3, 2, 5], [1, 3, ...</td>\n",
       "      <td>[[J, 스치는, 바람에, J, 그대, 모습, 보이면, 난, 오늘도, 조용히, 그댈...</td>\n",
       "      <td>word</td>\n",
       "      <td>L</td>\n",
       "      <td>30</td>\n",
       "      <td>[{'ㅡ': [1, 3, 8, 11, 22, 24], 'ㅏ': [4, 15], 'ㅗ...</td>\n",
       "    </tr>\n",
       "    <tr>\n",
       "      <th>1</th>\n",
       "      <td>1</td>\n",
       "      <td>갯바위</td>\n",
       "      <td>나는 나는 갯바위\\n당신은 나를 사랑하는 파도\\n어느 고운 바람 불던날\\n잔잔히 다...</td>\n",
       "      <td>포크/블루스</td>\n",
       "      <td>[[2, 2, 3, 3, 2, 4, 2, 2, 2, 2, 3], [3, 3, 4, ...</td>\n",
       "      <td>[[나는, 나는, 갯바위, 당신은, 나를, 사랑하는, 파도, 어느, 고운, 바람, ...</td>\n",
       "      <td>word</td>\n",
       "      <td>L</td>\n",
       "      <td>30</td>\n",
       "      <td>[{'ㅏ': [0, 2, 7, 10, 12, 16, 22, 23, 26], 'ㅡ':...</td>\n",
       "    </tr>\n",
       "    <tr>\n",
       "      <th>2</th>\n",
       "      <td>2</td>\n",
       "      <td>약속</td>\n",
       "      <td>별이 유난히도 밝은\\n오늘 이 시간이 가면\\n그대\\n떠난다~는 말이\\n나를 슬프~게...</td>\n",
       "      <td>발라드</td>\n",
       "      <td>[[2, 4, 2, 2, 1, 3, 2, 2, 4, 2], [2, 3, 2, 1, ...</td>\n",
       "      <td>[[별이, 유난히도, 밝은, 오늘, 이, 시간이, 가면, 그대, 떠난다~는, 말이]...</td>\n",
       "      <td>word</td>\n",
       "      <td>L</td>\n",
       "      <td>30</td>\n",
       "      <td>[{'ㅏ': [6, 14, 23], 'ㅣ': [1, 10, 11, 13, 24], ...</td>\n",
       "    </tr>\n",
       "    <tr>\n",
       "      <th>3</th>\n",
       "      <td>3</td>\n",
       "      <td>잃어버린 정</td>\n",
       "      <td>당신의 고운 눈매에 할말을 잊었지만은\\n냉정히 돌아선 무정한 사람은 눈물을 모르겠지...</td>\n",
       "      <td>성인가요/트로트</td>\n",
       "      <td>[[3, 2, 3, 3, 5, 3, 3, 3, 3, 3, 5], [3, 5, 3, ...</td>\n",
       "      <td>[[당신의, 고운, 눈매에, 할말을, 잊었지만은, 냉정히, 돌아선, 무정한, 사람은...</td>\n",
       "      <td>word</td>\n",
       "      <td>L</td>\n",
       "      <td>30</td>\n",
       "      <td>[{'ㅏ': [0, 8, 25], 'ㅗ': [3, 19, 31], 'ㅜ': [5, ...</td>\n",
       "    </tr>\n",
       "    <tr>\n",
       "      <th>4</th>\n",
       "      <td>4</td>\n",
       "      <td>물같은 사랑</td>\n",
       "      <td>그대의 모습 멀어져갔네\\n쓸쓸한 기억 남기고\\n낭만이 지워진 그 길로\\n조용히 멀어...</td>\n",
       "      <td>성인가요/트로트</td>\n",
       "      <td>[[3, 2, 5, 3, 2, 3, 3, 3, 1, 2], [3, 5, 3, 2, ...</td>\n",
       "      <td>[[그대의, 모습, 멀어져갔네, 쓸쓸한, 기억, 남기고, 낭만이, 지워진, 그, 길...</td>\n",
       "      <td>word</td>\n",
       "      <td>L</td>\n",
       "      <td>30</td>\n",
       "      <td>[{'ㅡ': [0, 4, 10, 24], 'ㅣ': [2, 13, 20, 21, 23...</td>\n",
       "    </tr>\n",
       "    <tr>\n",
       "      <th>...</th>\n",
       "      <td>...</td>\n",
       "      <td>...</td>\n",
       "      <td>...</td>\n",
       "      <td>...</td>\n",
       "      <td>...</td>\n",
       "      <td>...</td>\n",
       "      <td>...</td>\n",
       "      <td>...</td>\n",
       "      <td>...</td>\n",
       "      <td>...</td>\n",
       "    </tr>\n",
       "    <tr>\n",
       "      <th>12175</th>\n",
       "      <td>14606</td>\n",
       "      <td>버퍼링 (Glitch Mode)</td>\n",
       "      <td>Scratch that bring it back\\n(Shook\\nShook\\nHa)...</td>\n",
       "      <td>댄스</td>\n",
       "      <td>[[22, 5], [5, 2, 4, 10, 13], [9, 5, 14], [13, ...</td>\n",
       "      <td>[[Scratch that bring it back, (Shook], [Shook,...</td>\n",
       "      <td>line</td>\n",
       "      <td>L</td>\n",
       "      <td>30</td>\n",
       "      <td>[{}, {}, {}, {'ㅓ': [0, 15]}, {}, {}, {'ㅐ': [0,...</td>\n",
       "    </tr>\n",
       "    <tr>\n",
       "      <th>12176</th>\n",
       "      <td>14607</td>\n",
       "      <td>Real Love</td>\n",
       "      <td>우린 이 음악을 빌려\\n이 분위기를 빌려\\n지금 이 공기 이건 마치\\n7시간 비행 ...</td>\n",
       "      <td>댄스</td>\n",
       "      <td>[[8, 7, 9], [11, 10], [21, 9], [6, 16], [16, 4...</td>\n",
       "      <td>[[우린 이 음악을 빌려, 이 분위기를 빌려, 지금 이 공기 이건 마치], [7시간...</td>\n",
       "      <td>line</td>\n",
       "      <td>L</td>\n",
       "      <td>30</td>\n",
       "      <td>[{'ㅣ': [11, 20, 32], 'ㅕ': [10, 19]}, {}, {}, {...</td>\n",
       "    </tr>\n",
       "    <tr>\n",
       "      <th>12177</th>\n",
       "      <td>14608</td>\n",
       "      <td>내가 아니라도</td>\n",
       "      <td>사랑이었다 별거 없던 내 하루에\\n빛이 돼준 단한 사람\\n나보다 나를 더 아껴 주던...</td>\n",
       "      <td>발라드</td>\n",
       "      <td>[[13, 8, 12], [7, 13, 9], [9, 8, 12], [6, 12, ...</td>\n",
       "      <td>[[사랑이었다 별거 없던 내 하루에, 빛이 돼준 단한 사람, 나보다 나를 더 아껴 ...</td>\n",
       "      <td>line</td>\n",
       "      <td>L</td>\n",
       "      <td>30</td>\n",
       "      <td>[{'ㅏ': [0, 28]}, {'ㅏ': [8, 26, 35]}, {'ㅏ': [23...</td>\n",
       "    </tr>\n",
       "    <tr>\n",
       "      <th>12178</th>\n",
       "      <td>14609</td>\n",
       "      <td>스물다섯, 스물하나</td>\n",
       "      <td>바람에 날려 꽃이 지는 계절엔\\n아직도 너의 손을 잡은 듯 그런 듯 해\\n그때는 아...</td>\n",
       "      <td>록/메탈</td>\n",
       "      <td>[[12, 14], [12, 13], [13, 8, 8], [12, 14], [14...</td>\n",
       "      <td>[[바람에 날려 꽃이 지는 계절엔, 아직도 너의 손을 잡은 듯 그런 듯 해], [그...</td>\n",
       "      <td>line</td>\n",
       "      <td>L</td>\n",
       "      <td>30</td>\n",
       "      <td>[{'ㅏ': [0, 16], 'ㅐ': [15, 36]}, {'ㅓ': [15, 31]...</td>\n",
       "    </tr>\n",
       "    <tr>\n",
       "      <th>12179</th>\n",
       "      <td>14610</td>\n",
       "      <td>Starlight</td>\n",
       "      <td>난 지금 널 향해 달려가고 있어\\n숨이 턱까지 차올라 괜찮아\\n잠시 후 널 마주할 ...</td>\n",
       "      <td>록/메탈, 국내드라마</td>\n",
       "      <td>[[12, 11], [10, 12], [12, 10], [7, 9, 8], [12,...</td>\n",
       "      <td>[[난 지금 널 향해 달려가고 있어, 숨이 턱까지 차올라 괜찮아], [잠시 후 널 ...</td>\n",
       "      <td>line</td>\n",
       "      <td>L</td>\n",
       "      <td>30</td>\n",
       "      <td>[{}, {'ㅏ': [0, 14]}, {'ㅓ': [0, 17, 29]}, {}, {...</td>\n",
       "    </tr>\n",
       "  </tbody>\n",
       "</table>\n",
       "<p>12180 rows × 10 columns</p>\n",
       "</div>"
      ],
      "text/plain": [
       "       index              title  \\\n",
       "0          0                J에게   \n",
       "1          1                갯바위   \n",
       "2          2                 약속   \n",
       "3          3             잃어버린 정   \n",
       "4          4             물같은 사랑   \n",
       "...      ...                ...   \n",
       "12175  14606  버퍼링 (Glitch Mode)   \n",
       "12176  14607          Real Love   \n",
       "12177  14608            내가 아니라도   \n",
       "12178  14609         스물다섯, 스물하나   \n",
       "12179  14610          Starlight   \n",
       "\n",
       "                                                  lyrics        genre  \\\n",
       "0      J 스치는 바람에 J 그대 모습 보이면\\n난 오늘도 조용히 그댈 그리워하네\\nJ 지...          발라드   \n",
       "1      나는 나는 갯바위\\n당신은 나를 사랑하는 파도\\n어느 고운 바람 불던날\\n잔잔히 다...       포크/블루스   \n",
       "2      별이 유난히도 밝은\\n오늘 이 시간이 가면\\n그대\\n떠난다~는 말이\\n나를 슬프~게...          발라드   \n",
       "3      당신의 고운 눈매에 할말을 잊었지만은\\n냉정히 돌아선 무정한 사람은 눈물을 모르겠지...     성인가요/트로트   \n",
       "4      그대의 모습 멀어져갔네\\n쓸쓸한 기억 남기고\\n낭만이 지워진 그 길로\\n조용히 멀어...     성인가요/트로트   \n",
       "...                                                  ...          ...   \n",
       "12175  Scratch that bring it back\\n(Shook\\nShook\\nHa)...           댄스   \n",
       "12176  우린 이 음악을 빌려\\n이 분위기를 빌려\\n지금 이 공기 이건 마치\\n7시간 비행 ...           댄스   \n",
       "12177  사랑이었다 별거 없던 내 하루에\\n빛이 돼준 단한 사람\\n나보다 나를 더 아껴 주던...          발라드   \n",
       "12178  바람에 날려 꽃이 지는 계절엔\\n아직도 너의 손을 잡은 듯 그런 듯 해\\n그때는 아...         록/메탈   \n",
       "12179  난 지금 널 향해 달려가고 있어\\n숨이 턱까지 차올라 괜찮아\\n잠시 후 널 마주할 ...  록/메탈, 국내드라마   \n",
       "\n",
       "                                                 mungchi  \\\n",
       "0      [[1, 3, 3, 1, 2, 2, 3, 1, 3, 3, 2, 5], [1, 3, ...   \n",
       "1      [[2, 2, 3, 3, 2, 4, 2, 2, 2, 2, 3], [3, 3, 4, ...   \n",
       "2      [[2, 4, 2, 2, 1, 3, 2, 2, 4, 2], [2, 3, 2, 1, ...   \n",
       "3      [[3, 2, 3, 3, 5, 3, 3, 3, 3, 3, 5], [3, 5, 3, ...   \n",
       "4      [[3, 2, 5, 3, 2, 3, 3, 3, 1, 2], [3, 5, 3, 2, ...   \n",
       "...                                                  ...   \n",
       "12175  [[22, 5], [5, 2, 4, 10, 13], [9, 5, 14], [13, ...   \n",
       "12176  [[8, 7, 9], [11, 10], [21, 9], [6, 16], [16, 4...   \n",
       "12177  [[13, 8, 12], [7, 13, 9], [9, 8, 12], [6, 12, ...   \n",
       "12178  [[12, 14], [12, 13], [13, 8, 8], [12, 14], [14...   \n",
       "12179  [[12, 11], [10, 12], [12, 10], [7, 9, 8], [12,...   \n",
       "\n",
       "                                                   label chunk_strategy  \\\n",
       "0      [[J, 스치는, 바람에, J, 그대, 모습, 보이면, 난, 오늘도, 조용히, 그댈...           word   \n",
       "1      [[나는, 나는, 갯바위, 당신은, 나를, 사랑하는, 파도, 어느, 고운, 바람, ...           word   \n",
       "2      [[별이, 유난히도, 밝은, 오늘, 이, 시간이, 가면, 그대, 떠난다~는, 말이]...           word   \n",
       "3      [[당신의, 고운, 눈매에, 할말을, 잊었지만은, 냉정히, 돌아선, 무정한, 사람은...           word   \n",
       "4      [[그대의, 모습, 멀어져갔네, 쓸쓸한, 기억, 남기고, 낭만이, 지워진, 그, 길...           word   \n",
       "...                                                  ...            ...   \n",
       "12175  [[Scratch that bring it back, (Shook], [Shook,...           line   \n",
       "12176  [[우린 이 음악을 빌려, 이 분위기를 빌려, 지금 이 공기 이건 마치], [7시간...           line   \n",
       "12177  [[사랑이었다 별거 없던 내 하루에, 빛이 돼준 단한 사람, 나보다 나를 더 아껴 ...           line   \n",
       "12178  [[바람에 날려 꽃이 지는 계절엔, 아직도 너의 손을 잡은 듯 그런 듯 해], [그...           line   \n",
       "12179  [[난 지금 널 향해 달려가고 있어, 숨이 턱까지 차올라 괜찮아], [잠시 후 널 ...           line   \n",
       "\n",
       "      sampling_strategy  syllable_limit  \\\n",
       "0                     L              30   \n",
       "1                     L              30   \n",
       "2                     L              30   \n",
       "3                     L              30   \n",
       "4                     L              30   \n",
       "...                 ...             ...   \n",
       "12175                 L              30   \n",
       "12176                 L              30   \n",
       "12177                 L              30   \n",
       "12178                 L              30   \n",
       "12179                 L              30   \n",
       "\n",
       "                                                   rhyme  \n",
       "0      [{'ㅡ': [1, 3, 8, 11, 22, 24], 'ㅏ': [4, 15], 'ㅗ...  \n",
       "1      [{'ㅏ': [0, 2, 7, 10, 12, 16, 22, 23, 26], 'ㅡ':...  \n",
       "2      [{'ㅏ': [6, 14, 23], 'ㅣ': [1, 10, 11, 13, 24], ...  \n",
       "3      [{'ㅏ': [0, 8, 25], 'ㅗ': [3, 19, 31], 'ㅜ': [5, ...  \n",
       "4      [{'ㅡ': [0, 4, 10, 24], 'ㅣ': [2, 13, 20, 21, 23...  \n",
       "...                                                  ...  \n",
       "12175  [{}, {}, {}, {'ㅓ': [0, 15]}, {}, {}, {'ㅐ': [0,...  \n",
       "12176  [{'ㅣ': [11, 20, 32], 'ㅕ': [10, 19]}, {}, {}, {...  \n",
       "12177  [{'ㅏ': [0, 28]}, {'ㅏ': [8, 26, 35]}, {'ㅏ': [23...  \n",
       "12178  [{'ㅏ': [0, 16], 'ㅐ': [15, 36]}, {'ㅓ': [15, 31]...  \n",
       "12179  [{}, {'ㅏ': [0, 14]}, {'ㅓ': [0, 17, 29]}, {}, {...  \n",
       "\n",
       "[12180 rows x 10 columns]"
      ]
     },
     "execution_count": 5,
     "metadata": {},
     "output_type": "execute_result"
    }
   ],
   "source": [
    "rhyme_df = pd.concat([df_sampling_L,rhyme_column], axis=1)\n",
    "rhyme_df"
   ]
  },
  {
   "cell_type": "markdown",
   "metadata": {},
   "source": [
    "# 3. Sampling"
   ]
  },
  {
   "cell_type": "markdown",
   "metadata": {},
   "source": [
    "## 3.1 아이유 - 시간의 바깥"
   ]
  },
  {
   "cell_type": "code",
   "execution_count": 21,
   "metadata": {},
   "outputs": [
    {
     "name": "stdout",
     "output_type": "stream",
     "text": [
      "[original_lyrics]\n",
      "이제야 음 음 음\n",
      "어디도 닿지 않는 나의 닻\n",
      "넌 영원히 도착할 수 없는 섬 같아\n",
      "\n",
      "\n",
      "[rhyme_in_lyrics]\n",
      "이제야 ㅡ ㅡ ㅡ\n",
      "ㅓ디도 ㅏㅣ ㅏㅡ ㅏㅣ ㅏ\n",
      "ㅓ 영원ㅣ 도착ㅏ 수 ㅓㅡ ㅓ ㅏㅏ\n"
     ]
    }
   ],
   "source": [
    "rm.get_rhyme_in_lyrics('시간의 바깥', 1, rhyme_df)"
   ]
  },
  {
   "cell_type": "code",
   "execution_count": 22,
   "metadata": {},
   "outputs": [
    {
     "name": "stdout",
     "output_type": "stream",
     "text": [
      "[original_lyrics]\n",
      "기다려\n",
      "기어이 우리가 만나면,\n",
      "시간의 테두리 바깥에서\n",
      "과거를 밟지 않고 선다면\n",
      "\n",
      "\n",
      "[rhyme_in_lyrics]\n",
      "ㅣ다ㅕ\n",
      "ㅣ어ㅣ 우리가 ㅏ나면,\n",
      "ㅣ간ㅣ 테두ㅣ ㅏ깥에서\n",
      "ㅏ거를 ㅏㅣ ㅏ고 선다ㅕ\n"
     ]
    }
   ],
   "source": [
    "rm.get_rhyme_in_lyrics('시간의 바깥', 3, rhyme_df)"
   ]
  },
  {
   "cell_type": "code",
   "execution_count": 24,
   "metadata": {},
   "outputs": [
    {
     "name": "stdout",
     "output_type": "stream",
     "text": [
      "[original_lyrics]\n",
      "넌 어떨까 나와 같을까\n",
      "알 수 없음에 아파지던 맘\n",
      "더 멀리 자유 그 위로 가자\n",
      "\n",
      "\n",
      "[rhyme_in_lyrics]\n",
      "ㅓ ㅓ떨ㅏ ㅏㅏ ㅏ을ㅏ\n",
      "ㅏ 수 ㅓ음에 ㅏ파지ㅓ ㅏ\n",
      "ㅓ ㅓ리 ㅏ유 그 위로 ㅏㅏ\n"
     ]
    }
   ],
   "source": [
    "rm.get_rhyme_in_lyrics('시간의 바깥', 5, rhyme_df)"
   ]
  },
  {
   "cell_type": "markdown",
   "metadata": {},
   "source": [
    "## 3.2 헤이즈 - 널 너무 모르고"
   ]
  },
  {
   "cell_type": "code",
   "execution_count": 20,
   "metadata": {},
   "outputs": [
    {
     "name": "stdout",
     "output_type": "stream",
     "text": [
      "[original_lyrics]\n",
      "쌓이는 것 없이 말했다면\n",
      "이렇게 네가 차갑지는 않았을걸\n",
      "끝이 나고서야 깨닫는 걸\n",
      "\n",
      "\n",
      "[rhyme_in_lyrics]\n",
      "ㅏ이ㅡ ㅓ ㅓㅣ ㅏ했다면\n",
      "이렇게 ㅐ가 ㅏ갑지ㅡ ㅏ았을ㅓ\n",
      "끝ㅣ ㅏ고서야 ㅐ닫ㅡ ㅓ\n"
     ]
    }
   ],
   "source": [
    "rm.get_rhyme_in_lyrics('널 너무 모르고', 3, rhyme_df)"
   ]
  },
  {
   "cell_type": "code",
   "execution_count": 19,
   "metadata": {},
   "outputs": [
    {
     "name": "stdout",
     "output_type": "stream",
     "text": [
      "[original_lyrics]\n",
      "널 너무 모르고\n",
      "네 맘도 모르고\n",
      "네가 나에게서 멀어지고 있는 줄도\n",
      "\n",
      "\n",
      "[rhyme_in_lyrics]\n",
      "ㅓ ㅓ무 ㅗ르ㅗ\n",
      "ㅐ ㅏㅗ ㅗ르ㅗ\n",
      "ㅐ가 ㅏ에게ㅓ ㅓ어지ㅗ 있는 줄ㅗ\n"
     ]
    }
   ],
   "source": [
    "rm.get_rhyme_in_lyrics('널 너무 모르고', 4, rhyme_df)"
   ]
  },
  {
   "cell_type": "markdown",
   "metadata": {},
   "source": [
    "## 3.3 지코 - 아무 노래"
   ]
  },
  {
   "cell_type": "code",
   "execution_count": 30,
   "metadata": {},
   "outputs": [
    {
     "name": "stdout",
     "output_type": "stream",
     "text": [
      "[original_lyrics]\n",
      "아무렇게나 춤춰\n",
      "아무렇지 않아 보이게\n",
      "아무 생각 하기 싫어\n",
      "\n",
      "\n",
      "[rhyme_in_lyrics]\n",
      "ㅏ무렇게ㅏ 춤ㅓ\n",
      "ㅏ무렇ㅣ ㅏㅏ 보이게\n",
      "ㅏ무 생ㅏ ㅏㅣ 싫ㅓ\n"
     ]
    }
   ],
   "source": [
    "rm.get_rhyme_in_lyrics('아무노래', 4, rhyme_df)"
   ]
  },
  {
   "cell_type": "code",
   "execution_count": null,
   "metadata": {},
   "outputs": [],
   "source": []
  }
 ],
 "metadata": {
  "kernelspec": {
   "display_name": "Python 3",
   "language": "python",
   "name": "python3"
  },
  "language_info": {
   "codemirror_mode": {
    "name": "ipython",
    "version": 3
   },
   "file_extension": ".py",
   "mimetype": "text/x-python",
   "name": "python",
   "nbconvert_exporter": "python",
   "pygments_lexer": "ipython3",
   "version": "3.10.12"
  }
 },
 "nbformat": 4,
 "nbformat_minor": 2
}
