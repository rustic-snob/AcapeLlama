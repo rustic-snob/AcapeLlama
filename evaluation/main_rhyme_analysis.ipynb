{
 "cells": [
  {
   "cell_type": "markdown",
   "metadata": {},
   "source": [
    "# 0. Import"
   ]
  },
  {
   "cell_type": "code",
   "execution_count": 31,
   "metadata": {},
   "outputs": [],
   "source": [
    "import pandas as pd\n",
    "import rhyme_metric as rm"
   ]
  },
  {
   "cell_type": "markdown",
   "metadata": {},
   "source": [
    "# 1. Load Data"
   ]
  },
  {
   "cell_type": "code",
   "execution_count": 3,
   "metadata": {},
   "outputs": [
    {
     "name": "stdout",
     "output_type": "stream",
     "text": [
      "(36540, 9)\n"
     ]
    },
    {
     "data": {
      "text/html": [
       "<div>\n",
       "<style scoped>\n",
       "    .dataframe tbody tr th:only-of-type {\n",
       "        vertical-align: middle;\n",
       "    }\n",
       "\n",
       "    .dataframe tbody tr th {\n",
       "        vertical-align: top;\n",
       "    }\n",
       "\n",
       "    .dataframe thead th {\n",
       "        text-align: right;\n",
       "    }\n",
       "</style>\n",
       "<table border=\"1\" class=\"dataframe\">\n",
       "  <thead>\n",
       "    <tr style=\"text-align: right;\">\n",
       "      <th></th>\n",
       "      <th>index</th>\n",
       "      <th>title</th>\n",
       "      <th>lyrics</th>\n",
       "      <th>genre</th>\n",
       "      <th>mungchi</th>\n",
       "      <th>label</th>\n",
       "      <th>chunk_strategy</th>\n",
       "      <th>sampling_strategy</th>\n",
       "      <th>syllable_limit</th>\n",
       "    </tr>\n",
       "  </thead>\n",
       "  <tbody>\n",
       "    <tr>\n",
       "      <th>0</th>\n",
       "      <td>0</td>\n",
       "      <td>J에게</td>\n",
       "      <td>J 스치는 바람에 J 그대 모습 보이면\\n난 오늘도 조용히 그댈 그리워하네\\nJ 지...</td>\n",
       "      <td>발라드</td>\n",
       "      <td>[[1, 3, 3, 1, 2, 2, 3], [1, 3, 3, 2, 5], [1, 3...</td>\n",
       "      <td>[[J, 스치는, 바람에, J, 그대, 모습, 보이면], [난, 오늘도, 조용히, ...</td>\n",
       "      <td>word</td>\n",
       "      <td>one</td>\n",
       "      <td>0</td>\n",
       "    </tr>\n",
       "    <tr>\n",
       "      <th>1</th>\n",
       "      <td>1</td>\n",
       "      <td>갯바위</td>\n",
       "      <td>나는 나는 갯바위\\n당신은 나를 사랑하는 파도\\n어느 고운 바람 불던날\\n잔잔히 다...</td>\n",
       "      <td>포크/블루스</td>\n",
       "      <td>[[2, 2, 3], [3, 2, 4, 2], [2, 2, 2, 3], [3, 3]...</td>\n",
       "      <td>[[나는, 나는, 갯바위], [당신은, 나를, 사랑하는, 파도], [어느, 고운, ...</td>\n",
       "      <td>word</td>\n",
       "      <td>one</td>\n",
       "      <td>0</td>\n",
       "    </tr>\n",
       "    <tr>\n",
       "      <th>2</th>\n",
       "      <td>2</td>\n",
       "      <td>약속</td>\n",
       "      <td>별이 유난히도 밝은\\n오늘 이 시간이 가면\\n그대\\n떠난다~는 말이\\n나를 슬프~게...</td>\n",
       "      <td>발라드</td>\n",
       "      <td>[[2, 4, 2], [2, 1, 3, 2], [2], [4, 2], [2, 3, ...</td>\n",
       "      <td>[[별이, 유난히도, 밝은], [오늘, 이, 시간이, 가면], [그대], [떠난다~...</td>\n",
       "      <td>word</td>\n",
       "      <td>one</td>\n",
       "      <td>0</td>\n",
       "    </tr>\n",
       "    <tr>\n",
       "      <th>3</th>\n",
       "      <td>3</td>\n",
       "      <td>잃어버린 정</td>\n",
       "      <td>당신의 고운 눈매에 할말을 잊었지만은\\n냉정히 돌아선 무정한 사람은 눈물을 모르겠지...</td>\n",
       "      <td>성인가요/트로트</td>\n",
       "      <td>[[3, 2, 3, 3, 5], [3, 3, 3, 3, 3, 5], [3, 5, 3...</td>\n",
       "      <td>[[당신의, 고운, 눈매에, 할말을, 잊었지만은], [냉정히, 돌아선, 무정한, 사...</td>\n",
       "      <td>word</td>\n",
       "      <td>one</td>\n",
       "      <td>0</td>\n",
       "    </tr>\n",
       "    <tr>\n",
       "      <th>4</th>\n",
       "      <td>4</td>\n",
       "      <td>물같은 사랑</td>\n",
       "      <td>그대의 모습 멀어져갔네\\n쓸쓸한 기억 남기고\\n낭만이 지워진 그 길로\\n조용히 멀어...</td>\n",
       "      <td>성인가요/트로트</td>\n",
       "      <td>[[3, 2, 5], [3, 2, 3], [3, 3, 1, 2], [3, 5], [...</td>\n",
       "      <td>[[그대의, 모습, 멀어져갔네], [쓸쓸한, 기억, 남기고], [낭만이, 지워진, ...</td>\n",
       "      <td>word</td>\n",
       "      <td>one</td>\n",
       "      <td>0</td>\n",
       "    </tr>\n",
       "  </tbody>\n",
       "</table>\n",
       "</div>"
      ],
      "text/plain": [
       "   index   title                                             lyrics     genre  \\\n",
       "0      0     J에게  J 스치는 바람에 J 그대 모습 보이면\\n난 오늘도 조용히 그댈 그리워하네\\nJ 지...       발라드   \n",
       "1      1     갯바위  나는 나는 갯바위\\n당신은 나를 사랑하는 파도\\n어느 고운 바람 불던날\\n잔잔히 다...    포크/블루스   \n",
       "2      2      약속  별이 유난히도 밝은\\n오늘 이 시간이 가면\\n그대\\n떠난다~는 말이\\n나를 슬프~게...       발라드   \n",
       "3      3  잃어버린 정  당신의 고운 눈매에 할말을 잊었지만은\\n냉정히 돌아선 무정한 사람은 눈물을 모르겠지...  성인가요/트로트   \n",
       "4      4  물같은 사랑  그대의 모습 멀어져갔네\\n쓸쓸한 기억 남기고\\n낭만이 지워진 그 길로\\n조용히 멀어...  성인가요/트로트   \n",
       "\n",
       "                                             mungchi  \\\n",
       "0  [[1, 3, 3, 1, 2, 2, 3], [1, 3, 3, 2, 5], [1, 3...   \n",
       "1  [[2, 2, 3], [3, 2, 4, 2], [2, 2, 2, 3], [3, 3]...   \n",
       "2  [[2, 4, 2], [2, 1, 3, 2], [2], [4, 2], [2, 3, ...   \n",
       "3  [[3, 2, 3, 3, 5], [3, 3, 3, 3, 3, 5], [3, 5, 3...   \n",
       "4  [[3, 2, 5], [3, 2, 3], [3, 3, 1, 2], [3, 5], [...   \n",
       "\n",
       "                                               label chunk_strategy  \\\n",
       "0  [[J, 스치는, 바람에, J, 그대, 모습, 보이면], [난, 오늘도, 조용히, ...           word   \n",
       "1  [[나는, 나는, 갯바위], [당신은, 나를, 사랑하는, 파도], [어느, 고운, ...           word   \n",
       "2  [[별이, 유난히도, 밝은], [오늘, 이, 시간이, 가면], [그대], [떠난다~...           word   \n",
       "3  [[당신의, 고운, 눈매에, 할말을, 잊었지만은], [냉정히, 돌아선, 무정한, 사...           word   \n",
       "4  [[그대의, 모습, 멀어져갔네], [쓸쓸한, 기억, 남기고], [낭만이, 지워진, ...           word   \n",
       "\n",
       "  sampling_strategy  syllable_limit  \n",
       "0               one               0  \n",
       "1               one               0  \n",
       "2               one               0  \n",
       "3               one               0  \n",
       "4               one               0  "
      ]
     },
     "execution_count": 3,
     "metadata": {},
     "output_type": "execute_result"
    }
   ],
   "source": [
    "dataframe = pd.read_json('./../data/lyrics_dataset.json')\n",
    "print(dataframe.shape)\n",
    "dataframe.head()"
   ]
  },
  {
   "cell_type": "code",
   "execution_count": 4,
   "metadata": {},
   "outputs": [],
   "source": [
    "df = dataframe.copy()"
   ]
  },
  {
   "cell_type": "markdown",
   "metadata": {},
   "source": [
    "# 2. Rhyme Analyst"
   ]
  },
  {
   "cell_type": "code",
   "execution_count": 5,
   "metadata": {},
   "outputs": [],
   "source": [
    "def add_rhyme_column(dataframe):\n",
    "    df_sampling_L = dataframe.loc[dataframe['sampling_strategy'] == 'L'].reset_index(drop=True)\n",
    "    \n",
    "    total_rhymes_list = []\n",
    "\n",
    "    for i in range(df_sampling_L.shape[0]):\n",
    "        SAMPLING_DATA = df_sampling_L.iloc[i]['label'][0]\n",
    "        \n",
    "        first_vowels_dicts = rm.get_first_vowels_dicts(SAMPLING_DATA)\n",
    "        last_vowels_dicts  =  rm.get_last_vowels_dicts(SAMPLING_DATA)\n",
    "        side_vowels_dicts  =  rm.get_side_vowels_dicts(SAMPLING_DATA)\n",
    "        \n",
    "        first_vowels_rhyme =   rm.get_vowel_groups_with_duplicates(first_vowels_dicts)\n",
    "        last_vowels_rhyme  =   rm.get_vowel_groups_with_duplicates(last_vowels_dicts )\n",
    "        side_vowels_rhyme  = rm.get_vowel_groups_within_duplicates(side_vowels_dicts )\n",
    "        \n",
    "        total_rhymes = rm.combine_rhyme_dicts(first_vowels_rhyme,\n",
    "                                        last_vowels_rhyme,\n",
    "                                        side_vowels_rhyme)\n",
    "        \n",
    "        total_rhymes_list.append(total_rhymes)\n",
    "\n",
    "    df_sampling_L['rhyme'] = total_rhymes_list\n",
    "    \n",
    "    return df_sampling_L"
   ]
  },
  {
   "cell_type": "code",
   "execution_count": 30,
   "metadata": {},
   "outputs": [],
   "source": [
    "rhyme_df = add_rhyme_column(df)"
   ]
  },
  {
   "cell_type": "markdown",
   "metadata": {},
   "source": [
    "# 3. Sampling\n",
    "- 뭉치 단위도 한줄 X 단어 O"
   ]
  },
  {
   "cell_type": "markdown",
   "metadata": {},
   "source": [
    "## 3.1 아이유 - 시간의 바깥"
   ]
  },
  {
   "cell_type": "code",
   "execution_count": 17,
   "metadata": {},
   "outputs": [],
   "source": [
    "outside_of_time_by_word = rhyme_df.loc[(rhyme_df['title']=='시간의 바깥') & (rhyme_df['chunk_strategy']=='word')]"
   ]
  },
  {
   "cell_type": "code",
   "execution_count": 18,
   "metadata": {},
   "outputs": [
    {
     "data": {
      "text/plain": [
       "[{'ㅏ': [3, 4, 9, 13, 14, 15, 19, 20, 22, 23, 24, 28],\n",
       "  'ㅗ': [10, 26],\n",
       "  'ㅡ': [2, 18, 12],\n",
       "  'ㅣ': [8, 27, 5]}]"
      ]
     },
     "execution_count": 18,
     "metadata": {},
     "output_type": "execute_result"
    }
   ],
   "source": [
    "outside_of_time_by_word['rhyme'].tolist()"
   ]
  },
  {
   "cell_type": "code",
   "execution_count": 19,
   "metadata": {},
   "outputs": [
    {
     "name": "stdout",
     "output_type": "stream",
     "text": [
      "서로를 닮아 기울어진 삶\n",
      "소원을 담아 차오르는 달\n",
      "하려다 만 괄호 속의 말\n",
      "이제야 음 음 음\n",
      "어디도 닿지 않는 나의 닻\n",
      "넌 영원히 도착할 수 없는 섬 같아\n",
      "헤매던 날\n",
      "이제야 음 음 음\n",
      "기록하지 않아도\n",
      "내가 널 전부 기억할 테니까\n",
      "기다려\n",
      "기어이 우리가 만나면,\n",
      "시간의 테두리 바깥에서\n",
      "과거를 밟지 않고 선다면\n",
      "숨이 차게 춤을 추겠어\n",
      "낮에도 밝지 않은 나의 밖\n",
      "끝없는 밤 남겨진 반\n",
      "넌 어떨까 나와 같을까\n",
      "알 수 없음에 아파지던 맘\n",
      "더 멀리 자유 그 위로 가자\n",
      "내일이 우릴 찾지 못할\n",
      "곳에서 기쁘게 만나\n",
      "이제야 한눈에 찾지 못해도 돼\n",
      "내가 널 알아볼 테니까\n",
      "기다려\n",
      "기어이 우리가 만나면,\n",
      "시간의 테두리 바깥에서\n",
      "과거를 밟지 않고 선다면\n",
      "숨이 차게 춤을 추겠어\n",
      "드디어\n",
      "기다림의 이유를 만나러\n",
      "꿈결에도 잊지 않았던\n",
      "잠결에도 잊을 수 없었던\n",
      "너의 이름을 불러 줄게\n",
      "기다려\n",
      "잃어버렸던 널 되찾으러\n",
      "엉키었던 시간을 견디어\n",
      "미래를 쫓지 않을 두 발로\n",
      "숨이 차게 달려가겠어\n",
      "긴긴 서사를 거쳐\n",
      "비로소 첫 줄로 적혀\n",
      "나 두려움 따윈 없어\n",
      "서로를 감아 포개어진 삶\n",
      "그들을 가만 내려보는 달\n",
      "여전히 많아 하고 싶은 말\n",
      "우리 좀 봐 꼭 하나 같아\n"
     ]
    }
   ],
   "source": [
    "print(outside_of_time_by_word['lyrics'].tolist()[0])"
   ]
  },
  {
   "cell_type": "code",
   "execution_count": 23,
   "metadata": {},
   "outputs": [],
   "source": [
    "outside_of_time_by_line = rhyme_df.loc[(rhyme_df['title']=='시간의 바깥') & (rhyme_df['chunk_strategy']=='line')]"
   ]
  },
  {
   "cell_type": "code",
   "execution_count": 24,
   "metadata": {},
   "outputs": [
    {
     "data": {
      "text/plain": [
       "[{'ㅏ': [25, 26, 12, 38]}]"
      ]
     },
     "execution_count": 24,
     "metadata": {},
     "output_type": "execute_result"
    }
   ],
   "source": [
    "outside_of_time_by_line['rhyme'].tolist()"
   ]
  },
  {
   "cell_type": "code",
   "execution_count": 25,
   "metadata": {},
   "outputs": [
    {
     "name": "stdout",
     "output_type": "stream",
     "text": [
      "서로를 닮아 기울어진 삶\n",
      "소원을 담아 차오르는 달\n",
      "하려다 만 괄호 속의 말\n",
      "이제야 음 음 음\n",
      "어디도 닿지 않는 나의 닻\n",
      "넌 영원히 도착할 수 없는 섬 같아\n",
      "헤매던 날\n",
      "이제야 음 음 음\n",
      "기록하지 않아도\n",
      "내가 널 전부 기억할 테니까\n",
      "기다려\n",
      "기어이 우리가 만나면,\n",
      "시간의 테두리 바깥에서\n",
      "과거를 밟지 않고 선다면\n",
      "숨이 차게 춤을 추겠어\n",
      "낮에도 밝지 않은 나의 밖\n",
      "끝없는 밤 남겨진 반\n",
      "넌 어떨까 나와 같을까\n",
      "알 수 없음에 아파지던 맘\n",
      "더 멀리 자유 그 위로 가자\n",
      "내일이 우릴 찾지 못할\n",
      "곳에서 기쁘게 만나\n",
      "이제야 한눈에 찾지 못해도 돼\n",
      "내가 널 알아볼 테니까\n",
      "기다려\n",
      "기어이 우리가 만나면,\n",
      "시간의 테두리 바깥에서\n",
      "과거를 밟지 않고 선다면\n",
      "숨이 차게 춤을 추겠어\n",
      "드디어\n",
      "기다림의 이유를 만나러\n",
      "꿈결에도 잊지 않았던\n",
      "잠결에도 잊을 수 없었던\n",
      "너의 이름을 불러 줄게\n",
      "기다려\n",
      "잃어버렸던 널 되찾으러\n",
      "엉키었던 시간을 견디어\n",
      "미래를 쫓지 않을 두 발로\n",
      "숨이 차게 달려가겠어\n",
      "긴긴 서사를 거쳐\n",
      "비로소 첫 줄로 적혀\n",
      "나 두려움 따윈 없어\n",
      "서로를 감아 포개어진 삶\n",
      "그들을 가만 내려보는 달\n",
      "여전히 많아 하고 싶은 말\n",
      "우리 좀 봐 꼭 하나 같아\n"
     ]
    }
   ],
   "source": [
    "print(outside_of_time_by_line['lyrics'].tolist()[0])"
   ]
  },
  {
   "cell_type": "markdown",
   "metadata": {},
   "source": [
    "## 3.2 헤이즈 - 널 너무 모르고"
   ]
  },
  {
   "cell_type": "code",
   "execution_count": 27,
   "metadata": {},
   "outputs": [],
   "source": [
    "dont_know_you_by_word = rhyme_df.loc[(rhyme_df['title']=='널 너무 모르고') & (rhyme_df['chunk_strategy']=='word')]"
   ]
  },
  {
   "cell_type": "code",
   "execution_count": 28,
   "metadata": {},
   "outputs": [
    {
     "data": {
      "text/plain": [
       "[{'ㅣ': [0, 10, 13, 20, 26],\n",
       "  'ㅏ': [3, 4, 5, 6, 19],\n",
       "  'ㅐ': [9, 28, 7],\n",
       "  'ㅗ': [8, 12, 16, 21, 24],\n",
       "  'ㅡ': [25, 2, 23]}]"
      ]
     },
     "execution_count": 28,
     "metadata": {},
     "output_type": "execute_result"
    }
   ],
   "source": [
    "dont_know_you_by_word['rhyme'].tolist()"
   ]
  },
  {
   "cell_type": "code",
   "execution_count": 29,
   "metadata": {},
   "outputs": [
    {
     "name": "stdout",
     "output_type": "stream",
     "text": [
      "이제는 알아 말 안 해도\n",
      "왜 이리도 쉬운 걸 몰랐을까\n",
      "이 옷들을 고를 시간에\n",
      "30분 더 널 안아줄걸\n",
      "난 몰랐어 너의 맘의 크기도\n",
      "옷 사이즈는 알았어도\n",
      "널 웃음 짓게 하는 법도 까먹고\n",
      "또 헛짚었어\n",
      "차라리 내게 화냈다면\n",
      "쌓이는 것 없이 말했다면\n",
      "이렇게 네가 차갑지는 않았을걸\n",
      "끝이 나고서야 깨닫는 걸\n",
      "널 너무 모르고\n",
      "네 맘도 모르고\n",
      "네가 나에게서 멀어지고 있는 줄도\n",
      "난 정말 모르고\n",
      "네 선물 고르고\n",
      "네가 원했던 건 이런 게 아니었던걸\n",
      "i wanna be a good girl\n",
      "받기만 하는 거 말고\n",
      "주는 걸 하고 싶었고\n",
      "이제 난 돈도 벌었는데\n",
      "나를 보는 너의 심장은 굼떠\n",
      "변명처럼 들리겠지만\n",
      "부재중일 때도 나는\n",
      "변하고 있던 거야 너를 위해\n",
      "능력 있고 인정받는 girl friend\n",
      "효도만큼 절실한 꿈이었는데\n",
      "떠나면 어떡해\n",
      "난 너한테 준게 하나 없는데\n",
      "너만 주고 감 어떡해\n",
      "너한테 남은 내 흔적은 없을 텐데\n",
      "너는 뭐를 보며 나를 기억해\n",
      "나를 추억해\n",
      "돌아봤음 해 너를 부를 때\n",
      "네가 내게 준 맘을\n",
      "전부 갚을 수 있게\n",
      "행복을 줄 수 있게\n",
      "널 너무 모르고\n",
      "네 맘도 모르고\n",
      "네가 나에게서 멀어지고 있는 줄도\n",
      "난 정말 모르고\n",
      "네 선물 고르고\n",
      "네가 원했던 건 이런 게 아니었던걸\n",
      "i can't live\n",
      "without your love love\n",
      "i can't live without your love\n",
      "널 너무 모르고\n",
      "네 맘도 모르고\n",
      "네가 나에게서 멀어지고 있는 줄도\n",
      "난 정말 모르고\n",
      "네 선물 고르고\n",
      "네가 원했던 건 이런 게 아니었던걸\n"
     ]
    }
   ],
   "source": [
    "print(dont_know_you_by_word['lyrics'].tolist()[0])"
   ]
  },
  {
   "cell_type": "code",
   "execution_count": null,
   "metadata": {},
   "outputs": [],
   "source": []
  }
 ],
 "metadata": {
  "kernelspec": {
   "display_name": "Python 3",
   "language": "python",
   "name": "python3"
  },
  "language_info": {
   "codemirror_mode": {
    "name": "ipython",
    "version": 3
   },
   "file_extension": ".py",
   "mimetype": "text/x-python",
   "name": "python",
   "nbconvert_exporter": "python",
   "pygments_lexer": "ipython3",
   "version": "3.10.12"
  }
 },
 "nbformat": 4,
 "nbformat_minor": 2
}
